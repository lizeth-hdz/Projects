{
  "cells": [
    {
      "cell_type": "markdown",
      "metadata": {
        "id": "A4ReHqp5Dk9g"
      },
      "source": [
        "# TFM Propensión v2.0\n"
      ]
    },
    {
      "cell_type": "markdown",
      "metadata": {
        "id": "nFMFmxFVevUd"
      },
      "source": [
        "#Libraries"
      ]
    },
    {
      "cell_type": "code",
      "execution_count": 1,
      "metadata": {
        "id": "VyLyFo_sDirQ"
      },
      "outputs": [],
      "source": [
        "import numpy as np\n",
        "import pandas as pd\n",
        "\n",
        "from datetime import datetime\n",
        "\n",
        "import seaborn as sns\n",
        "import matplotlib.pyplot as plt\n",
        "\n",
        "from sklearn.preprocessing import StandardScaler\n",
        "from sklearn.preprocessing import LabelEncoder\n",
        "from sklearn.model_selection import train_test_split\n",
        "\n",
        "import sklearn.metrics as metrics\n",
        "\n",
        "from sklearn.svm import SVC\n",
        "from sklearn.linear_model import LogisticRegression\n",
        "from sklearn.tree import DecisionTreeClassifier\n",
        "from sklearn.ensemble import RandomForestClassifier\n",
        "from sklearn.ensemble import GradientBoostingClassifier\n",
        "from sklearn.metrics import accuracy_score, precision_score, recall_score, roc_auc_score, f1_score\n",
        "\n",
        "from sklearn.model_selection import GridSearchCV\n",
        "\n",
        "import xgboost as xgb\n",
        "\n",
        "import warnings\n",
        "warnings.filterwarnings(\"ignore\")"
      ]
    },
    {
      "cell_type": "code",
      "execution_count": 2,
      "metadata": {
        "colab": {
          "base_uri": "https://localhost:8080/"
        },
        "id": "lMwIMis-zqfy",
        "outputId": "86a71a6e-a10e-401e-ee5c-2cbce996211f"
      },
      "outputs": [
        {
          "output_type": "stream",
          "name": "stdout",
          "text": [
            "Mounted at /content/drive\n"
          ]
        }
      ],
      "source": [
        "from google.colab import drive\n",
        "drive.mount('/content/drive')"
      ]
    },
    {
      "cell_type": "markdown",
      "metadata": {
        "id": "R7RXVSKpe2dV"
      },
      "source": [
        "#Getting data"
      ]
    },
    {
      "cell_type": "code",
      "execution_count": 3,
      "metadata": {
        "id": "mpCOEgownrcb"
      },
      "outputs": [],
      "source": [
        "df_cca = pd.read_csv(\"/content/drive/MyDrive/datasets_TFM + diccionario/customer_commercial_activity.csv\", index_col = 0)\n",
        "df_cp = pd.read_csv(\"/content/drive/MyDrive/datasets_TFM + diccionario/customer_products.csv\", index_col = 0)\n",
        "df_csd = pd.read_csv(\"/content/drive/MyDrive/datasets_TFM + diccionario/customer_sociodemographics.csv\", index_col = 0)\n",
        "df_prod = pd.read_csv(\"/content/drive/MyDrive/datasets_TFM + diccionario/product_description.csv\", index_col = 0)\n",
        "df_sales = pd.read_csv(\"/content/drive/MyDrive/datasets_TFM + diccionario/sales.csv\", index_col = 0)"
      ]
    },
    {
      "cell_type": "code",
      "execution_count": 4,
      "metadata": {
        "id": "hVdQEVU_BxME"
      },
      "outputs": [],
      "source": [
        "df0 = pd.merge(df_cp,df_cca,how='inner',on=['pk_cid','pk_partition'])\n",
        "df = pd.merge(df0,df_csd,how='inner',on=['pk_cid','pk_partition'])"
      ]
    },
    {
      "cell_type": "markdown",
      "metadata": {
        "id": "4keTPb81e9KZ"
      },
      "source": [
        "#Data Visualization"
      ]
    },
    {
      "cell_type": "code",
      "execution_count": 5,
      "metadata": {
        "colab": {
          "base_uri": "https://localhost:8080/"
        },
        "id": "2dHpHQGxC0J-",
        "outputId": "a0d18e87-d0fd-4518-8ecc-2aaef6db7f67"
      },
      "outputs": [
        {
          "output_type": "execute_result",
          "data": {
            "text/plain": [
              "(5962924, 27)"
            ]
          },
          "metadata": {},
          "execution_count": 5
        }
      ],
      "source": [
        "df.shape"
      ]
    },
    {
      "cell_type": "code",
      "execution_count": 6,
      "metadata": {
        "colab": {
          "base_uri": "https://localhost:8080/",
          "height": 386
        },
        "id": "EldYV0PMCxmz",
        "outputId": "7cc37bc0-7b00-45ed-f093-9b3dd9091fde"
      },
      "outputs": [
        {
          "output_type": "execute_result",
          "data": {
            "text/plain": [
              "    pk_cid pk_partition  short_term_deposit  loans  mortgage  funds  \\\n",
              "0  1375586      2018-01                   0      0         0      0   \n",
              "1  1050611      2018-01                   0      0         0      0   \n",
              "2  1050612      2018-01                   0      0         0      0   \n",
              "3  1050613      2018-01                   1      0         0      0   \n",
              "4  1050614      2018-01                   0      0         0      0   \n",
              "\n",
              "   securities  long_term_deposit  em_account_pp  credit_card  ...  entry_date  \\\n",
              "0           0                  0              0            0  ...     2018-01   \n",
              "1           0                  0              0            0  ...     2015-08   \n",
              "2           0                  0              0            0  ...     2015-08   \n",
              "3           0                  0              0            0  ...     2015-08   \n",
              "4           0                  0              0            0  ...     2015-08   \n",
              "\n",
              "   entry_channel  active_customer             segment  country_id  \\\n",
              "0            KHL              1.0   02 - PARTICULARES          ES   \n",
              "1            KHE              0.0  03 - UNIVERSITARIO          ES   \n",
              "2            KHE              0.0  03 - UNIVERSITARIO          ES   \n",
              "3            KHD              0.0  03 - UNIVERSITARIO          ES   \n",
              "4            KHE              1.0  03 - UNIVERSITARIO          ES   \n",
              "\n",
              "   region_code  gender age deceased     salary  \n",
              "0         29.0       H  35        N   87218.10  \n",
              "1         13.0       V  23        N   35548.74  \n",
              "2         13.0       V  23        N  122179.11  \n",
              "3         50.0       H  22        N  119775.54  \n",
              "4         50.0       V  23        N        NaN  \n",
              "\n",
              "[5 rows x 27 columns]"
            ],
            "text/html": [
              "\n",
              "  <div id=\"df-51463bde-2344-479b-9259-c8e6fcf7ccbf\">\n",
              "    <div class=\"colab-df-container\">\n",
              "      <div>\n",
              "<style scoped>\n",
              "    .dataframe tbody tr th:only-of-type {\n",
              "        vertical-align: middle;\n",
              "    }\n",
              "\n",
              "    .dataframe tbody tr th {\n",
              "        vertical-align: top;\n",
              "    }\n",
              "\n",
              "    .dataframe thead th {\n",
              "        text-align: right;\n",
              "    }\n",
              "</style>\n",
              "<table border=\"1\" class=\"dataframe\">\n",
              "  <thead>\n",
              "    <tr style=\"text-align: right;\">\n",
              "      <th></th>\n",
              "      <th>pk_cid</th>\n",
              "      <th>pk_partition</th>\n",
              "      <th>short_term_deposit</th>\n",
              "      <th>loans</th>\n",
              "      <th>mortgage</th>\n",
              "      <th>funds</th>\n",
              "      <th>securities</th>\n",
              "      <th>long_term_deposit</th>\n",
              "      <th>em_account_pp</th>\n",
              "      <th>credit_card</th>\n",
              "      <th>...</th>\n",
              "      <th>entry_date</th>\n",
              "      <th>entry_channel</th>\n",
              "      <th>active_customer</th>\n",
              "      <th>segment</th>\n",
              "      <th>country_id</th>\n",
              "      <th>region_code</th>\n",
              "      <th>gender</th>\n",
              "      <th>age</th>\n",
              "      <th>deceased</th>\n",
              "      <th>salary</th>\n",
              "    </tr>\n",
              "  </thead>\n",
              "  <tbody>\n",
              "    <tr>\n",
              "      <th>0</th>\n",
              "      <td>1375586</td>\n",
              "      <td>2018-01</td>\n",
              "      <td>0</td>\n",
              "      <td>0</td>\n",
              "      <td>0</td>\n",
              "      <td>0</td>\n",
              "      <td>0</td>\n",
              "      <td>0</td>\n",
              "      <td>0</td>\n",
              "      <td>0</td>\n",
              "      <td>...</td>\n",
              "      <td>2018-01</td>\n",
              "      <td>KHL</td>\n",
              "      <td>1.0</td>\n",
              "      <td>02 - PARTICULARES</td>\n",
              "      <td>ES</td>\n",
              "      <td>29.0</td>\n",
              "      <td>H</td>\n",
              "      <td>35</td>\n",
              "      <td>N</td>\n",
              "      <td>87218.10</td>\n",
              "    </tr>\n",
              "    <tr>\n",
              "      <th>1</th>\n",
              "      <td>1050611</td>\n",
              "      <td>2018-01</td>\n",
              "      <td>0</td>\n",
              "      <td>0</td>\n",
              "      <td>0</td>\n",
              "      <td>0</td>\n",
              "      <td>0</td>\n",
              "      <td>0</td>\n",
              "      <td>0</td>\n",
              "      <td>0</td>\n",
              "      <td>...</td>\n",
              "      <td>2015-08</td>\n",
              "      <td>KHE</td>\n",
              "      <td>0.0</td>\n",
              "      <td>03 - UNIVERSITARIO</td>\n",
              "      <td>ES</td>\n",
              "      <td>13.0</td>\n",
              "      <td>V</td>\n",
              "      <td>23</td>\n",
              "      <td>N</td>\n",
              "      <td>35548.74</td>\n",
              "    </tr>\n",
              "    <tr>\n",
              "      <th>2</th>\n",
              "      <td>1050612</td>\n",
              "      <td>2018-01</td>\n",
              "      <td>0</td>\n",
              "      <td>0</td>\n",
              "      <td>0</td>\n",
              "      <td>0</td>\n",
              "      <td>0</td>\n",
              "      <td>0</td>\n",
              "      <td>0</td>\n",
              "      <td>0</td>\n",
              "      <td>...</td>\n",
              "      <td>2015-08</td>\n",
              "      <td>KHE</td>\n",
              "      <td>0.0</td>\n",
              "      <td>03 - UNIVERSITARIO</td>\n",
              "      <td>ES</td>\n",
              "      <td>13.0</td>\n",
              "      <td>V</td>\n",
              "      <td>23</td>\n",
              "      <td>N</td>\n",
              "      <td>122179.11</td>\n",
              "    </tr>\n",
              "    <tr>\n",
              "      <th>3</th>\n",
              "      <td>1050613</td>\n",
              "      <td>2018-01</td>\n",
              "      <td>1</td>\n",
              "      <td>0</td>\n",
              "      <td>0</td>\n",
              "      <td>0</td>\n",
              "      <td>0</td>\n",
              "      <td>0</td>\n",
              "      <td>0</td>\n",
              "      <td>0</td>\n",
              "      <td>...</td>\n",
              "      <td>2015-08</td>\n",
              "      <td>KHD</td>\n",
              "      <td>0.0</td>\n",
              "      <td>03 - UNIVERSITARIO</td>\n",
              "      <td>ES</td>\n",
              "      <td>50.0</td>\n",
              "      <td>H</td>\n",
              "      <td>22</td>\n",
              "      <td>N</td>\n",
              "      <td>119775.54</td>\n",
              "    </tr>\n",
              "    <tr>\n",
              "      <th>4</th>\n",
              "      <td>1050614</td>\n",
              "      <td>2018-01</td>\n",
              "      <td>0</td>\n",
              "      <td>0</td>\n",
              "      <td>0</td>\n",
              "      <td>0</td>\n",
              "      <td>0</td>\n",
              "      <td>0</td>\n",
              "      <td>0</td>\n",
              "      <td>0</td>\n",
              "      <td>...</td>\n",
              "      <td>2015-08</td>\n",
              "      <td>KHE</td>\n",
              "      <td>1.0</td>\n",
              "      <td>03 - UNIVERSITARIO</td>\n",
              "      <td>ES</td>\n",
              "      <td>50.0</td>\n",
              "      <td>V</td>\n",
              "      <td>23</td>\n",
              "      <td>N</td>\n",
              "      <td>NaN</td>\n",
              "    </tr>\n",
              "  </tbody>\n",
              "</table>\n",
              "<p>5 rows × 27 columns</p>\n",
              "</div>\n",
              "      <button class=\"colab-df-convert\" onclick=\"convertToInteractive('df-51463bde-2344-479b-9259-c8e6fcf7ccbf')\"\n",
              "              title=\"Convert this dataframe to an interactive table.\"\n",
              "              style=\"display:none;\">\n",
              "        \n",
              "  <svg xmlns=\"http://www.w3.org/2000/svg\" height=\"24px\"viewBox=\"0 0 24 24\"\n",
              "       width=\"24px\">\n",
              "    <path d=\"M0 0h24v24H0V0z\" fill=\"none\"/>\n",
              "    <path d=\"M18.56 5.44l.94 2.06.94-2.06 2.06-.94-2.06-.94-.94-2.06-.94 2.06-2.06.94zm-11 1L8.5 8.5l.94-2.06 2.06-.94-2.06-.94L8.5 2.5l-.94 2.06-2.06.94zm10 10l.94 2.06.94-2.06 2.06-.94-2.06-.94-.94-2.06-.94 2.06-2.06.94z\"/><path d=\"M17.41 7.96l-1.37-1.37c-.4-.4-.92-.59-1.43-.59-.52 0-1.04.2-1.43.59L10.3 9.45l-7.72 7.72c-.78.78-.78 2.05 0 2.83L4 21.41c.39.39.9.59 1.41.59.51 0 1.02-.2 1.41-.59l7.78-7.78 2.81-2.81c.8-.78.8-2.07 0-2.86zM5.41 20L4 18.59l7.72-7.72 1.47 1.35L5.41 20z\"/>\n",
              "  </svg>\n",
              "      </button>\n",
              "      \n",
              "  <style>\n",
              "    .colab-df-container {\n",
              "      display:flex;\n",
              "      flex-wrap:wrap;\n",
              "      gap: 12px;\n",
              "    }\n",
              "\n",
              "    .colab-df-convert {\n",
              "      background-color: #E8F0FE;\n",
              "      border: none;\n",
              "      border-radius: 50%;\n",
              "      cursor: pointer;\n",
              "      display: none;\n",
              "      fill: #1967D2;\n",
              "      height: 32px;\n",
              "      padding: 0 0 0 0;\n",
              "      width: 32px;\n",
              "    }\n",
              "\n",
              "    .colab-df-convert:hover {\n",
              "      background-color: #E2EBFA;\n",
              "      box-shadow: 0px 1px 2px rgba(60, 64, 67, 0.3), 0px 1px 3px 1px rgba(60, 64, 67, 0.15);\n",
              "      fill: #174EA6;\n",
              "    }\n",
              "\n",
              "    [theme=dark] .colab-df-convert {\n",
              "      background-color: #3B4455;\n",
              "      fill: #D2E3FC;\n",
              "    }\n",
              "\n",
              "    [theme=dark] .colab-df-convert:hover {\n",
              "      background-color: #434B5C;\n",
              "      box-shadow: 0px 1px 3px 1px rgba(0, 0, 0, 0.15);\n",
              "      filter: drop-shadow(0px 1px 2px rgba(0, 0, 0, 0.3));\n",
              "      fill: #FFFFFF;\n",
              "    }\n",
              "  </style>\n",
              "\n",
              "      <script>\n",
              "        const buttonEl =\n",
              "          document.querySelector('#df-51463bde-2344-479b-9259-c8e6fcf7ccbf button.colab-df-convert');\n",
              "        buttonEl.style.display =\n",
              "          google.colab.kernel.accessAllowed ? 'block' : 'none';\n",
              "\n",
              "        async function convertToInteractive(key) {\n",
              "          const element = document.querySelector('#df-51463bde-2344-479b-9259-c8e6fcf7ccbf');\n",
              "          const dataTable =\n",
              "            await google.colab.kernel.invokeFunction('convertToInteractive',\n",
              "                                                     [key], {});\n",
              "          if (!dataTable) return;\n",
              "\n",
              "          const docLinkHtml = 'Like what you see? Visit the ' +\n",
              "            '<a target=\"_blank\" href=https://colab.research.google.com/notebooks/data_table.ipynb>data table notebook</a>'\n",
              "            + ' to learn more about interactive tables.';\n",
              "          element.innerHTML = '';\n",
              "          dataTable['output_type'] = 'display_data';\n",
              "          await google.colab.output.renderOutput(dataTable, element);\n",
              "          const docLink = document.createElement('div');\n",
              "          docLink.innerHTML = docLinkHtml;\n",
              "          element.appendChild(docLink);\n",
              "        }\n",
              "      </script>\n",
              "    </div>\n",
              "  </div>\n",
              "  "
            ]
          },
          "metadata": {},
          "execution_count": 6
        }
      ],
      "source": [
        "df.head()"
      ]
    },
    {
      "cell_type": "code",
      "execution_count": 7,
      "metadata": {
        "colab": {
          "base_uri": "https://localhost:8080/"
        },
        "id": "e9iOTw0EDDtK",
        "outputId": "59d06c7b-ff51-4a4a-96f3-f27ee4b6bcc3"
      },
      "outputs": [
        {
          "output_type": "stream",
          "name": "stdout",
          "text": [
            "<class 'pandas.core.frame.DataFrame'>\n",
            "Int64Index: 5962924 entries, 0 to 5962923\n",
            "Data columns (total 27 columns):\n",
            " #   Column              Dtype  \n",
            "---  ------              -----  \n",
            " 0   pk_cid              int64  \n",
            " 1   pk_partition        object \n",
            " 2   short_term_deposit  int64  \n",
            " 3   loans               int64  \n",
            " 4   mortgage            int64  \n",
            " 5   funds               int64  \n",
            " 6   securities          int64  \n",
            " 7   long_term_deposit   int64  \n",
            " 8   em_account_pp       int64  \n",
            " 9   credit_card         int64  \n",
            " 10  payroll             float64\n",
            " 11  pension_plan        float64\n",
            " 12  payroll_account     int64  \n",
            " 13  emc_account         int64  \n",
            " 14  debit_card          int64  \n",
            " 15  em_account_p        int64  \n",
            " 16  em_acount           int64  \n",
            " 17  entry_date          object \n",
            " 18  entry_channel       object \n",
            " 19  active_customer     float64\n",
            " 20  segment             object \n",
            " 21  country_id          object \n",
            " 22  region_code         float64\n",
            " 23  gender              object \n",
            " 24  age                 int64  \n",
            " 25  deceased            object \n",
            " 26  salary              float64\n",
            "dtypes: float64(5), int64(15), object(7)\n",
            "memory usage: 1.2+ GB\n"
          ]
        }
      ],
      "source": [
        "df.info()"
      ]
    },
    {
      "cell_type": "code",
      "execution_count": 8,
      "metadata": {
        "colab": {
          "base_uri": "https://localhost:8080/"
        },
        "id": "8Se3MN6XDKgT",
        "outputId": "eb844da6-c0d7-49c8-daed-cca0af9be114"
      },
      "outputs": [
        {
          "output_type": "execute_result",
          "data": {
            "text/plain": [
              "pk_cid                      0\n",
              "pk_partition                0\n",
              "short_term_deposit          0\n",
              "loans                       0\n",
              "mortgage                    0\n",
              "funds                       0\n",
              "securities                  0\n",
              "long_term_deposit           0\n",
              "em_account_pp               0\n",
              "credit_card                 0\n",
              "payroll                    61\n",
              "pension_plan               61\n",
              "payroll_account             0\n",
              "emc_account                 0\n",
              "debit_card                  0\n",
              "em_account_p                0\n",
              "em_acount                   0\n",
              "entry_date                  0\n",
              "entry_channel          133033\n",
              "active_customer             0\n",
              "segment                133944\n",
              "country_id                  0\n",
              "region_code              2264\n",
              "gender                     25\n",
              "age                         0\n",
              "deceased                    0\n",
              "salary                1541104\n",
              "dtype: int64"
            ]
          },
          "metadata": {},
          "execution_count": 8
        }
      ],
      "source": [
        "df.isnull().sum()"
      ]
    },
    {
      "cell_type": "code",
      "execution_count": 9,
      "metadata": {
        "colab": {
          "base_uri": "https://localhost:8080/"
        },
        "id": "qpJJtMZF2Bv_",
        "outputId": "6bcf4326-a98e-4655-a57d-447235ad12a3"
      },
      "outputs": [
        {
          "output_type": "execute_result",
          "data": {
            "text/plain": [
              "pk_cid                456373\n",
              "pk_partition              17\n",
              "short_term_deposit         2\n",
              "loans                      2\n",
              "mortgage                   2\n",
              "funds                      2\n",
              "securities                 2\n",
              "long_term_deposit          2\n",
              "em_account_pp              1\n",
              "credit_card                2\n",
              "payroll                    2\n",
              "pension_plan               2\n",
              "payroll_account            2\n",
              "emc_account                2\n",
              "debit_card                 2\n",
              "em_account_p               2\n",
              "em_acount                  2\n",
              "entry_date                53\n",
              "entry_channel             68\n",
              "active_customer            2\n",
              "segment                    3\n",
              "country_id                41\n",
              "region_code               52\n",
              "gender                     2\n",
              "age                      104\n",
              "deceased                   2\n",
              "salary                257654\n",
              "dtype: int64"
            ]
          },
          "metadata": {},
          "execution_count": 9
        }
      ],
      "source": [
        "df.nunique()"
      ]
    },
    {
      "cell_type": "code",
      "execution_count": 10,
      "metadata": {
        "colab": {
          "base_uri": "https://localhost:8080/"
        },
        "id": "DL5SCjs04Wcm",
        "outputId": "073768f8-37c6-408e-bdb3-00283e3006d8"
      },
      "outputs": [
        {
          "output_type": "stream",
          "name": "stdout",
          "text": [
            "active_customer : [1. 0.]\n",
            "deceased : ['N' 'S']\n",
            "short_term_deposit : [0 1]\n",
            "loans : [0 1]\n",
            "mortgage : [0 1]\n",
            "funds : [0 1]\n",
            "securities : [0 1]\n",
            "long_term_deposit : [0 1]\n",
            "em_account_pp : [0]\n",
            "credit_card : [0 1]\n",
            "payroll : [ 0.  1. nan]\n",
            "pension_plan : [ 0.  1. nan]\n",
            "payroll_account : [0 1]\n",
            "emc_account : [0 1]\n",
            "debit_card : [0 1]\n",
            "em_account_p : [0 1]\n",
            "em_acount : [1 0]\n"
          ]
        }
      ],
      "source": [
        "# revisamos los valores unicos que tienen las columnas de los productos de easymoney\n",
        "for col in ['active_customer','deceased', 'short_term_deposit', 'loans', 'mortgage',\n",
        "       'funds', 'securities', 'long_term_deposit', 'em_account_pp',\n",
        "       'credit_card', 'payroll', 'pension_plan', 'payroll_account',\n",
        "       'emc_account', 'debit_card', 'em_account_p', 'em_acount']:\n",
        "  print(col,':',df[col].unique())"
      ]
    },
    {
      "cell_type": "markdown",
      "metadata": {
        "id": "WD21Hx9e0CQw"
      },
      "source": [
        "# Data Cleaning"
      ]
    },
    {
      "cell_type": "code",
      "execution_count": 11,
      "metadata": {
        "id": "4tkR_Nuh6IVd"
      },
      "outputs": [],
      "source": [
        "# Eliminamos la columna de em_account_pp ya que tiene el mismo valor (0) en todas las filas\n",
        "df.drop(['em_account_pp'],axis=1,inplace=True)"
      ]
    },
    {
      "cell_type": "code",
      "execution_count": 12,
      "metadata": {
        "id": "JqBbcjNtpJx5"
      },
      "outputs": [],
      "source": [
        "# Para las columnas de payroll y pension plan, antes de cambiar el tipo de variable tendremos que imputar los valores nulos, en este caso igualaremos los valores nulos a cero, ya que no tenemos la certeza de que los clientes los hayan contratado\n",
        "df['payroll'].fillna(0.0,inplace=True)\n",
        "df['pension_plan'].fillna(0.0,inplace=True)\n",
        "for col in ['payroll','pension_plan']:\n",
        "  df[col]=df[col].astype(int)"
      ]
    },
    {
      "cell_type": "code",
      "execution_count": 13,
      "metadata": {
        "id": "5DsY73Mb76qd"
      },
      "outputs": [],
      "source": [
        "# Cambiar el tipo de variable de las que están incorrectas\n",
        "for col in ['pk_cid','region_code','active_customer','deceased', 'short_term_deposit', 'loans', 'mortgage',\n",
        "       'funds', 'securities', 'long_term_deposit','credit_card', 'payroll', 'pension_plan', 'payroll_account',\n",
        "       'emc_account', 'debit_card', 'em_account_p', 'em_acount']:\n",
        "  df[col]=df[col].astype(object)"
      ]
    },
    {
      "cell_type": "code",
      "execution_count": 14,
      "metadata": {
        "id": "lcwMLSlnrjks"
      },
      "outputs": [],
      "source": [
        "df['gender']=df['gender'].replace({'H':'F','V':'M'})"
      ]
    },
    {
      "cell_type": "markdown",
      "metadata": {
        "id": "CKhu_tGNAe0J"
      },
      "source": [
        "#Data Visualization"
      ]
    },
    {
      "cell_type": "code",
      "execution_count": 15,
      "metadata": {
        "colab": {
          "base_uri": "https://localhost:8080/"
        },
        "id": "pQYf92lX52dO",
        "outputId": "ed8bd9e1-6ddb-4075-c48d-e1c37f0e1106"
      },
      "outputs": [
        {
          "output_type": "execute_result",
          "data": {
            "text/plain": [
              "pk_partition\n",
              "2018-01    239493\n",
              "2018-02    242521\n",
              "2018-03    245258\n",
              "2018-04    247463\n",
              "2018-05    249926\n",
              "2018-06    252104\n",
              "2018-07    339339\n",
              "2018-08    352922\n",
              "2018-09    375323\n",
              "2018-10    402300\n",
              "2018-11    416387\n",
              "2018-12    422481\n",
              "2019-01    426875\n",
              "2019-02    431727\n",
              "2019-03    436183\n",
              "2019-04    439627\n",
              "2019-05    442995\n",
              "Name: pk_cid, dtype: int64"
            ]
          },
          "metadata": {},
          "execution_count": 15
        }
      ],
      "source": [
        "# revisamos la cantidad de registros que tenemos en cada particion de nuestro dataset\n",
        "df.groupby('pk_partition')['pk_cid'].nunique()"
      ]
    },
    {
      "cell_type": "code",
      "execution_count": 16,
      "metadata": {
        "colab": {
          "base_uri": "https://localhost:8080/",
          "height": 457
        },
        "id": "T7CS_UGG6Ib0",
        "outputId": "21b3f0b4-63c6-4bc8-e81f-9ffb83fb2d33"
      },
      "outputs": [
        {
          "output_type": "execute_result",
          "data": {
            "text/plain": [
              "    pk_product_ID        product_desc family_product\n",
              "0            4657           em_acount        account\n",
              "1            3819          debit_card   payment_card\n",
              "2            1364        pension_plan   pension_plan\n",
              "3            2234             payroll        account\n",
              "4            2235     payroll_account        account\n",
              "5            8871         emc_account        account\n",
              "6            2312         credit_card   payment_card\n",
              "7            2335  short_term_deposit     investment\n",
              "8            2336   long_term_deposit     investment\n",
              "9            2673          securities     investment\n",
              "10           1119               funds     investment\n",
              "11           9001               loans           loan\n",
              "12           4033            mortgage           loan"
            ],
            "text/html": [
              "\n",
              "  <div id=\"df-bd7e91c5-cc98-4baa-8813-66648eacc004\">\n",
              "    <div class=\"colab-df-container\">\n",
              "      <div>\n",
              "<style scoped>\n",
              "    .dataframe tbody tr th:only-of-type {\n",
              "        vertical-align: middle;\n",
              "    }\n",
              "\n",
              "    .dataframe tbody tr th {\n",
              "        vertical-align: top;\n",
              "    }\n",
              "\n",
              "    .dataframe thead th {\n",
              "        text-align: right;\n",
              "    }\n",
              "</style>\n",
              "<table border=\"1\" class=\"dataframe\">\n",
              "  <thead>\n",
              "    <tr style=\"text-align: right;\">\n",
              "      <th></th>\n",
              "      <th>pk_product_ID</th>\n",
              "      <th>product_desc</th>\n",
              "      <th>family_product</th>\n",
              "    </tr>\n",
              "  </thead>\n",
              "  <tbody>\n",
              "    <tr>\n",
              "      <th>0</th>\n",
              "      <td>4657</td>\n",
              "      <td>em_acount</td>\n",
              "      <td>account</td>\n",
              "    </tr>\n",
              "    <tr>\n",
              "      <th>1</th>\n",
              "      <td>3819</td>\n",
              "      <td>debit_card</td>\n",
              "      <td>payment_card</td>\n",
              "    </tr>\n",
              "    <tr>\n",
              "      <th>2</th>\n",
              "      <td>1364</td>\n",
              "      <td>pension_plan</td>\n",
              "      <td>pension_plan</td>\n",
              "    </tr>\n",
              "    <tr>\n",
              "      <th>3</th>\n",
              "      <td>2234</td>\n",
              "      <td>payroll</td>\n",
              "      <td>account</td>\n",
              "    </tr>\n",
              "    <tr>\n",
              "      <th>4</th>\n",
              "      <td>2235</td>\n",
              "      <td>payroll_account</td>\n",
              "      <td>account</td>\n",
              "    </tr>\n",
              "    <tr>\n",
              "      <th>5</th>\n",
              "      <td>8871</td>\n",
              "      <td>emc_account</td>\n",
              "      <td>account</td>\n",
              "    </tr>\n",
              "    <tr>\n",
              "      <th>6</th>\n",
              "      <td>2312</td>\n",
              "      <td>credit_card</td>\n",
              "      <td>payment_card</td>\n",
              "    </tr>\n",
              "    <tr>\n",
              "      <th>7</th>\n",
              "      <td>2335</td>\n",
              "      <td>short_term_deposit</td>\n",
              "      <td>investment</td>\n",
              "    </tr>\n",
              "    <tr>\n",
              "      <th>8</th>\n",
              "      <td>2336</td>\n",
              "      <td>long_term_deposit</td>\n",
              "      <td>investment</td>\n",
              "    </tr>\n",
              "    <tr>\n",
              "      <th>9</th>\n",
              "      <td>2673</td>\n",
              "      <td>securities</td>\n",
              "      <td>investment</td>\n",
              "    </tr>\n",
              "    <tr>\n",
              "      <th>10</th>\n",
              "      <td>1119</td>\n",
              "      <td>funds</td>\n",
              "      <td>investment</td>\n",
              "    </tr>\n",
              "    <tr>\n",
              "      <th>11</th>\n",
              "      <td>9001</td>\n",
              "      <td>loans</td>\n",
              "      <td>loan</td>\n",
              "    </tr>\n",
              "    <tr>\n",
              "      <th>12</th>\n",
              "      <td>4033</td>\n",
              "      <td>mortgage</td>\n",
              "      <td>loan</td>\n",
              "    </tr>\n",
              "  </tbody>\n",
              "</table>\n",
              "</div>\n",
              "      <button class=\"colab-df-convert\" onclick=\"convertToInteractive('df-bd7e91c5-cc98-4baa-8813-66648eacc004')\"\n",
              "              title=\"Convert this dataframe to an interactive table.\"\n",
              "              style=\"display:none;\">\n",
              "        \n",
              "  <svg xmlns=\"http://www.w3.org/2000/svg\" height=\"24px\"viewBox=\"0 0 24 24\"\n",
              "       width=\"24px\">\n",
              "    <path d=\"M0 0h24v24H0V0z\" fill=\"none\"/>\n",
              "    <path d=\"M18.56 5.44l.94 2.06.94-2.06 2.06-.94-2.06-.94-.94-2.06-.94 2.06-2.06.94zm-11 1L8.5 8.5l.94-2.06 2.06-.94-2.06-.94L8.5 2.5l-.94 2.06-2.06.94zm10 10l.94 2.06.94-2.06 2.06-.94-2.06-.94-.94-2.06-.94 2.06-2.06.94z\"/><path d=\"M17.41 7.96l-1.37-1.37c-.4-.4-.92-.59-1.43-.59-.52 0-1.04.2-1.43.59L10.3 9.45l-7.72 7.72c-.78.78-.78 2.05 0 2.83L4 21.41c.39.39.9.59 1.41.59.51 0 1.02-.2 1.41-.59l7.78-7.78 2.81-2.81c.8-.78.8-2.07 0-2.86zM5.41 20L4 18.59l7.72-7.72 1.47 1.35L5.41 20z\"/>\n",
              "  </svg>\n",
              "      </button>\n",
              "      \n",
              "  <style>\n",
              "    .colab-df-container {\n",
              "      display:flex;\n",
              "      flex-wrap:wrap;\n",
              "      gap: 12px;\n",
              "    }\n",
              "\n",
              "    .colab-df-convert {\n",
              "      background-color: #E8F0FE;\n",
              "      border: none;\n",
              "      border-radius: 50%;\n",
              "      cursor: pointer;\n",
              "      display: none;\n",
              "      fill: #1967D2;\n",
              "      height: 32px;\n",
              "      padding: 0 0 0 0;\n",
              "      width: 32px;\n",
              "    }\n",
              "\n",
              "    .colab-df-convert:hover {\n",
              "      background-color: #E2EBFA;\n",
              "      box-shadow: 0px 1px 2px rgba(60, 64, 67, 0.3), 0px 1px 3px 1px rgba(60, 64, 67, 0.15);\n",
              "      fill: #174EA6;\n",
              "    }\n",
              "\n",
              "    [theme=dark] .colab-df-convert {\n",
              "      background-color: #3B4455;\n",
              "      fill: #D2E3FC;\n",
              "    }\n",
              "\n",
              "    [theme=dark] .colab-df-convert:hover {\n",
              "      background-color: #434B5C;\n",
              "      box-shadow: 0px 1px 3px 1px rgba(0, 0, 0, 0.15);\n",
              "      filter: drop-shadow(0px 1px 2px rgba(0, 0, 0, 0.3));\n",
              "      fill: #FFFFFF;\n",
              "    }\n",
              "  </style>\n",
              "\n",
              "      <script>\n",
              "        const buttonEl =\n",
              "          document.querySelector('#df-bd7e91c5-cc98-4baa-8813-66648eacc004 button.colab-df-convert');\n",
              "        buttonEl.style.display =\n",
              "          google.colab.kernel.accessAllowed ? 'block' : 'none';\n",
              "\n",
              "        async function convertToInteractive(key) {\n",
              "          const element = document.querySelector('#df-bd7e91c5-cc98-4baa-8813-66648eacc004');\n",
              "          const dataTable =\n",
              "            await google.colab.kernel.invokeFunction('convertToInteractive',\n",
              "                                                     [key], {});\n",
              "          if (!dataTable) return;\n",
              "\n",
              "          const docLinkHtml = 'Like what you see? Visit the ' +\n",
              "            '<a target=\"_blank\" href=https://colab.research.google.com/notebooks/data_table.ipynb>data table notebook</a>'\n",
              "            + ' to learn more about interactive tables.';\n",
              "          element.innerHTML = '';\n",
              "          dataTable['output_type'] = 'display_data';\n",
              "          await google.colab.output.renderOutput(dataTable, element);\n",
              "          const docLink = document.createElement('div');\n",
              "          docLink.innerHTML = docLinkHtml;\n",
              "          element.appendChild(docLink);\n",
              "        }\n",
              "      </script>\n",
              "    </div>\n",
              "  </div>\n",
              "  "
            ]
          },
          "metadata": {},
          "execution_count": 16
        }
      ],
      "source": [
        "# Debido a que lo que queremos obtener es una propensión a la compra, primero elegiremos los productos más relevantes\n",
        "df_prod"
      ]
    },
    {
      "cell_type": "code",
      "execution_count": 17,
      "metadata": {
        "colab": {
          "base_uri": "https://localhost:8080/"
        },
        "id": "WcJSMtkY8qeS",
        "outputId": "5c9ddbe6-2a2a-425c-f4c0-e9a803d34174"
      },
      "outputs": [
        {
          "output_type": "execute_result",
          "data": {
            "text/plain": [
              "product_ID\n",
              "3819      60.003216\n",
              "2312      60.016020\n",
              "2234      69.933216\n",
              "2235      69.968785\n",
              "4657      69.973792\n",
              "8871      70.012927\n",
              "2335    1486.431322\n",
              "2336    1496.919186\n",
              "2673    1497.833362\n",
              "1119    1499.047159\n",
              "9001    2183.924000\n",
              "4033    2532.510000\n",
              "1364    5976.435908\n",
              "Name: net_margin, dtype: float64"
            ]
          },
          "metadata": {},
          "execution_count": 17
        }
      ],
      "source": [
        "# promedio del margen neto para cada producto\n",
        "mean_net_margin = df_sales.groupby('product_ID')['net_margin'].mean()\n",
        "mean_net_margin.sort_values()"
      ]
    },
    {
      "cell_type": "code",
      "execution_count": 18,
      "metadata": {
        "colab": {
          "base_uri": "https://localhost:8080/"
        },
        "id": "D_PD6Z5R-5nU",
        "outputId": "22b56470-cf50-4c54-ee22-b9a88a870d03"
      },
      "outputs": [
        {
          "output_type": "execute_result",
          "data": {
            "text/plain": [
              "product_ID\n",
              "4033        10\n",
              "9001        25\n",
              "1119       880\n",
              "2673      1157\n",
              "2336      4227\n",
              "2335      4441\n",
              "2312      5206\n",
              "8871     12323\n",
              "2235     18110\n",
              "2234     18750\n",
              "1364     19369\n",
              "3819     38840\n",
              "4657    117435\n",
              "Name: pk_sale, dtype: int64"
            ]
          },
          "metadata": {},
          "execution_count": 18
        }
      ],
      "source": [
        "# número de ventas por producto\n",
        "prod_sum = df_sales.groupby('product_ID')['pk_sale'].count()\n",
        "prod_sum.sort_values()"
      ]
    },
    {
      "cell_type": "markdown",
      "metadata": {
        "id": "l_ZAvRM7-n4W"
      },
      "source": [
        "De acuerdo a la tabla de ventas, el producto con un margen neto mayor en promedio es el 1364 (pension_plan), mientras que el producto con más ventas como era de esperarse es el 4657 (em_account), seguido por el 3819 (debit card)\n",
        "Por lo tanto, lo más adecuado sería hacer el modelo de propensión para pension_plan y ____"
      ]
    },
    {
      "cell_type": "code",
      "execution_count": 19,
      "metadata": {
        "id": "Xul9h8yvAnfx"
      },
      "outputs": [],
      "source": [
        "# Definimos una funcion que nos arroja las diferencias mensuales entre los productos\n",
        "def calcula_diferencias_mensuales (dataset, variable):\n",
        "    dataset[variable+'_pm']  = dataset.groupby('pk_cid')[variable].shift(1)\n",
        "    dataset['dif_'+variable] = dataset[variable] - dataset[variable+'_pm']\n",
        "    #dataset['dif_'+variable]  = dataset.groupby('pk_cid')[variable].diff()\n",
        "    dataset.drop(variable+'_pm',axis=1,inplace=True)"
      ]
    },
    {
      "cell_type": "code",
      "execution_count": 20,
      "metadata": {
        "id": "amFRz_6NBoZ2"
      },
      "outputs": [],
      "source": [
        "df_sorted = df.sort_values(by=['pk_cid','pk_partition'])"
      ]
    },
    {
      "cell_type": "code",
      "execution_count": 21,
      "metadata": {
        "id": "TBdcK1xtCPmy"
      },
      "outputs": [],
      "source": [
        "easymoney_products = ['short_term_deposit', 'loans', 'mortgage','funds', 'securities', 'long_term_deposit','credit_card', 'payroll', 'pension_plan', 'payroll_account',\n",
        "       'emc_account', 'debit_card', 'em_account_p', 'em_acount']"
      ]
    },
    {
      "cell_type": "code",
      "execution_count": 22,
      "metadata": {
        "id": "wNMlqUyPBdji"
      },
      "outputs": [],
      "source": [
        "for x in easymoney_products:\n",
        "  calcula_diferencias_mensuales(df_sorted,x)"
      ]
    },
    {
      "cell_type": "code",
      "execution_count": 23,
      "metadata": {
        "id": "IunyzclTZMte"
      },
      "outputs": [],
      "source": [
        "df_dif = df_sorted"
      ]
    },
    {
      "cell_type": "code",
      "execution_count": 24,
      "metadata": {
        "colab": {
          "base_uri": "https://localhost:8080/",
          "height": 300
        },
        "id": "5A_xqs2IDO4K",
        "outputId": "aa6d6fac-f862-4ee1-bde0-cd559dc4d754"
      },
      "outputs": [
        {
          "output_type": "execute_result",
          "data": {
            "text/plain": [
              "        pk_cid pk_partition short_term_deposit loans mortgage funds  \\\n",
              "1479563  15891      2018-07                  0     0        0     0   \n",
              "2168122  15891      2018-08                  0     0        0     0   \n",
              "2962973  16063      2018-11                  0     0        0     0   \n",
              "3628236  16063      2018-12                  0     0        0     0   \n",
              "4028169  16063      2019-01                  0     0        0     0   \n",
              "\n",
              "        securities long_term_deposit credit_card payroll  ... dif_securities  \\\n",
              "1479563          0                 0           0       0  ...            NaN   \n",
              "2168122          0                 0           0       0  ...              0   \n",
              "2962973          0                 0           0       0  ...            NaN   \n",
              "3628236          0                 0           0       0  ...              0   \n",
              "4028169          0                 0           0       0  ...              0   \n",
              "\n",
              "        dif_long_term_deposit dif_credit_card dif_payroll dif_pension_plan  \\\n",
              "1479563                   NaN             NaN         NaN              NaN   \n",
              "2168122                     0               0           0                0   \n",
              "2962973                   NaN             NaN         NaN              NaN   \n",
              "3628236                     0               0           0                0   \n",
              "4028169                     0               0           0                0   \n",
              "\n",
              "        dif_payroll_account dif_emc_account dif_debit_card dif_em_account_p  \\\n",
              "1479563                 NaN             NaN            NaN              NaN   \n",
              "2168122                   0               0              0                0   \n",
              "2962973                 NaN             NaN            NaN              NaN   \n",
              "3628236                   0               0              0                0   \n",
              "4028169                   0               0              0                0   \n",
              "\n",
              "        dif_em_acount  \n",
              "1479563           NaN  \n",
              "2168122            -1  \n",
              "2962973           NaN  \n",
              "3628236             0  \n",
              "4028169             0  \n",
              "\n",
              "[5 rows x 40 columns]"
            ],
            "text/html": [
              "\n",
              "  <div id=\"df-5478b3c4-9d60-4ba4-a698-be76cb084c11\">\n",
              "    <div class=\"colab-df-container\">\n",
              "      <div>\n",
              "<style scoped>\n",
              "    .dataframe tbody tr th:only-of-type {\n",
              "        vertical-align: middle;\n",
              "    }\n",
              "\n",
              "    .dataframe tbody tr th {\n",
              "        vertical-align: top;\n",
              "    }\n",
              "\n",
              "    .dataframe thead th {\n",
              "        text-align: right;\n",
              "    }\n",
              "</style>\n",
              "<table border=\"1\" class=\"dataframe\">\n",
              "  <thead>\n",
              "    <tr style=\"text-align: right;\">\n",
              "      <th></th>\n",
              "      <th>pk_cid</th>\n",
              "      <th>pk_partition</th>\n",
              "      <th>short_term_deposit</th>\n",
              "      <th>loans</th>\n",
              "      <th>mortgage</th>\n",
              "      <th>funds</th>\n",
              "      <th>securities</th>\n",
              "      <th>long_term_deposit</th>\n",
              "      <th>credit_card</th>\n",
              "      <th>payroll</th>\n",
              "      <th>...</th>\n",
              "      <th>dif_securities</th>\n",
              "      <th>dif_long_term_deposit</th>\n",
              "      <th>dif_credit_card</th>\n",
              "      <th>dif_payroll</th>\n",
              "      <th>dif_pension_plan</th>\n",
              "      <th>dif_payroll_account</th>\n",
              "      <th>dif_emc_account</th>\n",
              "      <th>dif_debit_card</th>\n",
              "      <th>dif_em_account_p</th>\n",
              "      <th>dif_em_acount</th>\n",
              "    </tr>\n",
              "  </thead>\n",
              "  <tbody>\n",
              "    <tr>\n",
              "      <th>1479563</th>\n",
              "      <td>15891</td>\n",
              "      <td>2018-07</td>\n",
              "      <td>0</td>\n",
              "      <td>0</td>\n",
              "      <td>0</td>\n",
              "      <td>0</td>\n",
              "      <td>0</td>\n",
              "      <td>0</td>\n",
              "      <td>0</td>\n",
              "      <td>0</td>\n",
              "      <td>...</td>\n",
              "      <td>NaN</td>\n",
              "      <td>NaN</td>\n",
              "      <td>NaN</td>\n",
              "      <td>NaN</td>\n",
              "      <td>NaN</td>\n",
              "      <td>NaN</td>\n",
              "      <td>NaN</td>\n",
              "      <td>NaN</td>\n",
              "      <td>NaN</td>\n",
              "      <td>NaN</td>\n",
              "    </tr>\n",
              "    <tr>\n",
              "      <th>2168122</th>\n",
              "      <td>15891</td>\n",
              "      <td>2018-08</td>\n",
              "      <td>0</td>\n",
              "      <td>0</td>\n",
              "      <td>0</td>\n",
              "      <td>0</td>\n",
              "      <td>0</td>\n",
              "      <td>0</td>\n",
              "      <td>0</td>\n",
              "      <td>0</td>\n",
              "      <td>...</td>\n",
              "      <td>0</td>\n",
              "      <td>0</td>\n",
              "      <td>0</td>\n",
              "      <td>0</td>\n",
              "      <td>0</td>\n",
              "      <td>0</td>\n",
              "      <td>0</td>\n",
              "      <td>0</td>\n",
              "      <td>0</td>\n",
              "      <td>-1</td>\n",
              "    </tr>\n",
              "    <tr>\n",
              "      <th>2962973</th>\n",
              "      <td>16063</td>\n",
              "      <td>2018-11</td>\n",
              "      <td>0</td>\n",
              "      <td>0</td>\n",
              "      <td>0</td>\n",
              "      <td>0</td>\n",
              "      <td>0</td>\n",
              "      <td>0</td>\n",
              "      <td>0</td>\n",
              "      <td>0</td>\n",
              "      <td>...</td>\n",
              "      <td>NaN</td>\n",
              "      <td>NaN</td>\n",
              "      <td>NaN</td>\n",
              "      <td>NaN</td>\n",
              "      <td>NaN</td>\n",
              "      <td>NaN</td>\n",
              "      <td>NaN</td>\n",
              "      <td>NaN</td>\n",
              "      <td>NaN</td>\n",
              "      <td>NaN</td>\n",
              "    </tr>\n",
              "    <tr>\n",
              "      <th>3628236</th>\n",
              "      <td>16063</td>\n",
              "      <td>2018-12</td>\n",
              "      <td>0</td>\n",
              "      <td>0</td>\n",
              "      <td>0</td>\n",
              "      <td>0</td>\n",
              "      <td>0</td>\n",
              "      <td>0</td>\n",
              "      <td>0</td>\n",
              "      <td>0</td>\n",
              "      <td>...</td>\n",
              "      <td>0</td>\n",
              "      <td>0</td>\n",
              "      <td>0</td>\n",
              "      <td>0</td>\n",
              "      <td>0</td>\n",
              "      <td>0</td>\n",
              "      <td>0</td>\n",
              "      <td>0</td>\n",
              "      <td>0</td>\n",
              "      <td>0</td>\n",
              "    </tr>\n",
              "    <tr>\n",
              "      <th>4028169</th>\n",
              "      <td>16063</td>\n",
              "      <td>2019-01</td>\n",
              "      <td>0</td>\n",
              "      <td>0</td>\n",
              "      <td>0</td>\n",
              "      <td>0</td>\n",
              "      <td>0</td>\n",
              "      <td>0</td>\n",
              "      <td>0</td>\n",
              "      <td>0</td>\n",
              "      <td>...</td>\n",
              "      <td>0</td>\n",
              "      <td>0</td>\n",
              "      <td>0</td>\n",
              "      <td>0</td>\n",
              "      <td>0</td>\n",
              "      <td>0</td>\n",
              "      <td>0</td>\n",
              "      <td>0</td>\n",
              "      <td>0</td>\n",
              "      <td>0</td>\n",
              "    </tr>\n",
              "  </tbody>\n",
              "</table>\n",
              "<p>5 rows × 40 columns</p>\n",
              "</div>\n",
              "      <button class=\"colab-df-convert\" onclick=\"convertToInteractive('df-5478b3c4-9d60-4ba4-a698-be76cb084c11')\"\n",
              "              title=\"Convert this dataframe to an interactive table.\"\n",
              "              style=\"display:none;\">\n",
              "        \n",
              "  <svg xmlns=\"http://www.w3.org/2000/svg\" height=\"24px\"viewBox=\"0 0 24 24\"\n",
              "       width=\"24px\">\n",
              "    <path d=\"M0 0h24v24H0V0z\" fill=\"none\"/>\n",
              "    <path d=\"M18.56 5.44l.94 2.06.94-2.06 2.06-.94-2.06-.94-.94-2.06-.94 2.06-2.06.94zm-11 1L8.5 8.5l.94-2.06 2.06-.94-2.06-.94L8.5 2.5l-.94 2.06-2.06.94zm10 10l.94 2.06.94-2.06 2.06-.94-2.06-.94-.94-2.06-.94 2.06-2.06.94z\"/><path d=\"M17.41 7.96l-1.37-1.37c-.4-.4-.92-.59-1.43-.59-.52 0-1.04.2-1.43.59L10.3 9.45l-7.72 7.72c-.78.78-.78 2.05 0 2.83L4 21.41c.39.39.9.59 1.41.59.51 0 1.02-.2 1.41-.59l7.78-7.78 2.81-2.81c.8-.78.8-2.07 0-2.86zM5.41 20L4 18.59l7.72-7.72 1.47 1.35L5.41 20z\"/>\n",
              "  </svg>\n",
              "      </button>\n",
              "      \n",
              "  <style>\n",
              "    .colab-df-container {\n",
              "      display:flex;\n",
              "      flex-wrap:wrap;\n",
              "      gap: 12px;\n",
              "    }\n",
              "\n",
              "    .colab-df-convert {\n",
              "      background-color: #E8F0FE;\n",
              "      border: none;\n",
              "      border-radius: 50%;\n",
              "      cursor: pointer;\n",
              "      display: none;\n",
              "      fill: #1967D2;\n",
              "      height: 32px;\n",
              "      padding: 0 0 0 0;\n",
              "      width: 32px;\n",
              "    }\n",
              "\n",
              "    .colab-df-convert:hover {\n",
              "      background-color: #E2EBFA;\n",
              "      box-shadow: 0px 1px 2px rgba(60, 64, 67, 0.3), 0px 1px 3px 1px rgba(60, 64, 67, 0.15);\n",
              "      fill: #174EA6;\n",
              "    }\n",
              "\n",
              "    [theme=dark] .colab-df-convert {\n",
              "      background-color: #3B4455;\n",
              "      fill: #D2E3FC;\n",
              "    }\n",
              "\n",
              "    [theme=dark] .colab-df-convert:hover {\n",
              "      background-color: #434B5C;\n",
              "      box-shadow: 0px 1px 3px 1px rgba(0, 0, 0, 0.15);\n",
              "      filter: drop-shadow(0px 1px 2px rgba(0, 0, 0, 0.3));\n",
              "      fill: #FFFFFF;\n",
              "    }\n",
              "  </style>\n",
              "\n",
              "      <script>\n",
              "        const buttonEl =\n",
              "          document.querySelector('#df-5478b3c4-9d60-4ba4-a698-be76cb084c11 button.colab-df-convert');\n",
              "        buttonEl.style.display =\n",
              "          google.colab.kernel.accessAllowed ? 'block' : 'none';\n",
              "\n",
              "        async function convertToInteractive(key) {\n",
              "          const element = document.querySelector('#df-5478b3c4-9d60-4ba4-a698-be76cb084c11');\n",
              "          const dataTable =\n",
              "            await google.colab.kernel.invokeFunction('convertToInteractive',\n",
              "                                                     [key], {});\n",
              "          if (!dataTable) return;\n",
              "\n",
              "          const docLinkHtml = 'Like what you see? Visit the ' +\n",
              "            '<a target=\"_blank\" href=https://colab.research.google.com/notebooks/data_table.ipynb>data table notebook</a>'\n",
              "            + ' to learn more about interactive tables.';\n",
              "          element.innerHTML = '';\n",
              "          dataTable['output_type'] = 'display_data';\n",
              "          await google.colab.output.renderOutput(dataTable, element);\n",
              "          const docLink = document.createElement('div');\n",
              "          docLink.innerHTML = docLinkHtml;\n",
              "          element.appendChild(docLink);\n",
              "        }\n",
              "      </script>\n",
              "    </div>\n",
              "  </div>\n",
              "  "
            ]
          },
          "metadata": {},
          "execution_count": 24
        }
      ],
      "source": [
        "df_dif.head()"
      ]
    },
    {
      "cell_type": "code",
      "execution_count": 25,
      "metadata": {
        "colab": {
          "base_uri": "https://localhost:8080/"
        },
        "id": "oq30Z-CJDVZv",
        "outputId": "041c21db-9e1c-47c0-bda0-28f0c81c7fe0"
      },
      "outputs": [
        {
          "output_type": "execute_result",
          "data": {
            "text/plain": [
              "pk_partition\n",
              "2018-01        0\n",
              "2018-02      612\n",
              "2018-03      317\n",
              "2018-04      619\n",
              "2018-05     -454\n",
              "2018-06     1433\n",
              "2018-07     1017\n",
              "2018-08     -685\n",
              "2018-09      454\n",
              "2018-10      548\n",
              "2018-11      540\n",
              "2018-12     1450\n",
              "2019-01    -2827\n",
              "2019-02     2687\n",
              "2019-03      686\n",
              "2019-04      201\n",
              "2019-05     1107\n",
              "Name: dif_pension_plan, dtype: object"
            ]
          },
          "metadata": {},
          "execution_count": 25
        }
      ],
      "source": [
        "df_dif.groupby('pk_partition')['dif_pension_plan'].sum()\n"
      ]
    },
    {
      "cell_type": "code",
      "source": [
        "df_dif.groupby('pk_partition')['dif_long_term_deposit'].sum()"
      ],
      "metadata": {
        "colab": {
          "base_uri": "https://localhost:8080/"
        },
        "id": "1Wp1VIo4CNvj",
        "outputId": "92379b9f-52e3-41a2-d948-31faec7b1606"
      },
      "execution_count": 26,
      "outputs": [
        {
          "output_type": "execute_result",
          "data": {
            "text/plain": [
              "pk_partition\n",
              "2018-01       0\n",
              "2018-02      46\n",
              "2018-03     -37\n",
              "2018-04      96\n",
              "2018-05     191\n",
              "2018-06     164\n",
              "2018-07     135\n",
              "2018-08      93\n",
              "2018-09     182\n",
              "2018-10     157\n",
              "2018-11      13\n",
              "2018-12     236\n",
              "2019-01    -110\n",
              "2019-02     -24\n",
              "2019-03    -124\n",
              "2019-04    -170\n",
              "2019-05    -239\n",
              "Name: dif_long_term_deposit, dtype: object"
            ]
          },
          "metadata": {},
          "execution_count": 26
        }
      ]
    },
    {
      "cell_type": "code",
      "source": [
        "df_dif.groupby('pk_partition')['dif_emc_account'].sum()"
      ],
      "metadata": {
        "colab": {
          "base_uri": "https://localhost:8080/"
        },
        "id": "r1ayaMrnnzxz",
        "outputId": "a31501fe-f13e-4331-d2af-3f780a0e6157"
      },
      "execution_count": 27,
      "outputs": [
        {
          "output_type": "execute_result",
          "data": {
            "text/plain": [
              "pk_partition\n",
              "2018-01       0\n",
              "2018-02     493\n",
              "2018-03     588\n",
              "2018-04     504\n",
              "2018-05     610\n",
              "2018-06     386\n",
              "2018-07     212\n",
              "2018-08     142\n",
              "2018-09     276\n",
              "2018-10     216\n",
              "2018-11     643\n",
              "2018-12     540\n",
              "2019-01     871\n",
              "2019-02     866\n",
              "2019-03     678\n",
              "2019-04     960\n",
              "2019-05    1287\n",
              "Name: dif_emc_account, dtype: object"
            ]
          },
          "metadata": {},
          "execution_count": 27
        }
      ]
    },
    {
      "cell_type": "code",
      "execution_count": 28,
      "metadata": {
        "colab": {
          "base_uri": "https://localhost:8080/",
          "height": 386
        },
        "id": "QPNnxOm41-IG",
        "outputId": "fb6ba92d-a751-4284-e953-5c7ff14cf7cc"
      },
      "outputs": [
        {
          "output_type": "execute_result",
          "data": {
            "text/plain": [
              "    pk_cid pk_partition short_term_deposit loans mortgage funds securities  \\\n",
              "0  1375586      2018-01                  0     0        0     0          0   \n",
              "1  1050611      2018-01                  0     0        0     0          0   \n",
              "2  1050612      2018-01                  0     0        0     0          0   \n",
              "3  1050613      2018-01                  1     0        0     0          0   \n",
              "4  1050614      2018-01                  0     0        0     0          0   \n",
              "\n",
              "  long_term_deposit credit_card payroll  ... entry_date entry_channel  \\\n",
              "0                 0           0       0  ...    2018-01           KHL   \n",
              "1                 0           0       0  ...    2015-08           KHE   \n",
              "2                 0           0       0  ...    2015-08           KHE   \n",
              "3                 0           0       0  ...    2015-08           KHD   \n",
              "4                 0           0       0  ...    2015-08           KHE   \n",
              "\n",
              "  active_customer             segment country_id region_code gender age  \\\n",
              "0             1.0   02 - PARTICULARES         ES        29.0      F  35   \n",
              "1             0.0  03 - UNIVERSITARIO         ES        13.0      M  23   \n",
              "2             0.0  03 - UNIVERSITARIO         ES        13.0      M  23   \n",
              "3             0.0  03 - UNIVERSITARIO         ES        50.0      F  22   \n",
              "4             1.0  03 - UNIVERSITARIO         ES        50.0      M  23   \n",
              "\n",
              "  deceased     salary  \n",
              "0        N   87218.10  \n",
              "1        N   35548.74  \n",
              "2        N  122179.11  \n",
              "3        N  119775.54  \n",
              "4        N        NaN  \n",
              "\n",
              "[5 rows x 26 columns]"
            ],
            "text/html": [
              "\n",
              "  <div id=\"df-1bcafab9-b720-4aad-be61-65955f241a86\">\n",
              "    <div class=\"colab-df-container\">\n",
              "      <div>\n",
              "<style scoped>\n",
              "    .dataframe tbody tr th:only-of-type {\n",
              "        vertical-align: middle;\n",
              "    }\n",
              "\n",
              "    .dataframe tbody tr th {\n",
              "        vertical-align: top;\n",
              "    }\n",
              "\n",
              "    .dataframe thead th {\n",
              "        text-align: right;\n",
              "    }\n",
              "</style>\n",
              "<table border=\"1\" class=\"dataframe\">\n",
              "  <thead>\n",
              "    <tr style=\"text-align: right;\">\n",
              "      <th></th>\n",
              "      <th>pk_cid</th>\n",
              "      <th>pk_partition</th>\n",
              "      <th>short_term_deposit</th>\n",
              "      <th>loans</th>\n",
              "      <th>mortgage</th>\n",
              "      <th>funds</th>\n",
              "      <th>securities</th>\n",
              "      <th>long_term_deposit</th>\n",
              "      <th>credit_card</th>\n",
              "      <th>payroll</th>\n",
              "      <th>...</th>\n",
              "      <th>entry_date</th>\n",
              "      <th>entry_channel</th>\n",
              "      <th>active_customer</th>\n",
              "      <th>segment</th>\n",
              "      <th>country_id</th>\n",
              "      <th>region_code</th>\n",
              "      <th>gender</th>\n",
              "      <th>age</th>\n",
              "      <th>deceased</th>\n",
              "      <th>salary</th>\n",
              "    </tr>\n",
              "  </thead>\n",
              "  <tbody>\n",
              "    <tr>\n",
              "      <th>0</th>\n",
              "      <td>1375586</td>\n",
              "      <td>2018-01</td>\n",
              "      <td>0</td>\n",
              "      <td>0</td>\n",
              "      <td>0</td>\n",
              "      <td>0</td>\n",
              "      <td>0</td>\n",
              "      <td>0</td>\n",
              "      <td>0</td>\n",
              "      <td>0</td>\n",
              "      <td>...</td>\n",
              "      <td>2018-01</td>\n",
              "      <td>KHL</td>\n",
              "      <td>1.0</td>\n",
              "      <td>02 - PARTICULARES</td>\n",
              "      <td>ES</td>\n",
              "      <td>29.0</td>\n",
              "      <td>F</td>\n",
              "      <td>35</td>\n",
              "      <td>N</td>\n",
              "      <td>87218.10</td>\n",
              "    </tr>\n",
              "    <tr>\n",
              "      <th>1</th>\n",
              "      <td>1050611</td>\n",
              "      <td>2018-01</td>\n",
              "      <td>0</td>\n",
              "      <td>0</td>\n",
              "      <td>0</td>\n",
              "      <td>0</td>\n",
              "      <td>0</td>\n",
              "      <td>0</td>\n",
              "      <td>0</td>\n",
              "      <td>0</td>\n",
              "      <td>...</td>\n",
              "      <td>2015-08</td>\n",
              "      <td>KHE</td>\n",
              "      <td>0.0</td>\n",
              "      <td>03 - UNIVERSITARIO</td>\n",
              "      <td>ES</td>\n",
              "      <td>13.0</td>\n",
              "      <td>M</td>\n",
              "      <td>23</td>\n",
              "      <td>N</td>\n",
              "      <td>35548.74</td>\n",
              "    </tr>\n",
              "    <tr>\n",
              "      <th>2</th>\n",
              "      <td>1050612</td>\n",
              "      <td>2018-01</td>\n",
              "      <td>0</td>\n",
              "      <td>0</td>\n",
              "      <td>0</td>\n",
              "      <td>0</td>\n",
              "      <td>0</td>\n",
              "      <td>0</td>\n",
              "      <td>0</td>\n",
              "      <td>0</td>\n",
              "      <td>...</td>\n",
              "      <td>2015-08</td>\n",
              "      <td>KHE</td>\n",
              "      <td>0.0</td>\n",
              "      <td>03 - UNIVERSITARIO</td>\n",
              "      <td>ES</td>\n",
              "      <td>13.0</td>\n",
              "      <td>M</td>\n",
              "      <td>23</td>\n",
              "      <td>N</td>\n",
              "      <td>122179.11</td>\n",
              "    </tr>\n",
              "    <tr>\n",
              "      <th>3</th>\n",
              "      <td>1050613</td>\n",
              "      <td>2018-01</td>\n",
              "      <td>1</td>\n",
              "      <td>0</td>\n",
              "      <td>0</td>\n",
              "      <td>0</td>\n",
              "      <td>0</td>\n",
              "      <td>0</td>\n",
              "      <td>0</td>\n",
              "      <td>0</td>\n",
              "      <td>...</td>\n",
              "      <td>2015-08</td>\n",
              "      <td>KHD</td>\n",
              "      <td>0.0</td>\n",
              "      <td>03 - UNIVERSITARIO</td>\n",
              "      <td>ES</td>\n",
              "      <td>50.0</td>\n",
              "      <td>F</td>\n",
              "      <td>22</td>\n",
              "      <td>N</td>\n",
              "      <td>119775.54</td>\n",
              "    </tr>\n",
              "    <tr>\n",
              "      <th>4</th>\n",
              "      <td>1050614</td>\n",
              "      <td>2018-01</td>\n",
              "      <td>0</td>\n",
              "      <td>0</td>\n",
              "      <td>0</td>\n",
              "      <td>0</td>\n",
              "      <td>0</td>\n",
              "      <td>0</td>\n",
              "      <td>0</td>\n",
              "      <td>0</td>\n",
              "      <td>...</td>\n",
              "      <td>2015-08</td>\n",
              "      <td>KHE</td>\n",
              "      <td>1.0</td>\n",
              "      <td>03 - UNIVERSITARIO</td>\n",
              "      <td>ES</td>\n",
              "      <td>50.0</td>\n",
              "      <td>M</td>\n",
              "      <td>23</td>\n",
              "      <td>N</td>\n",
              "      <td>NaN</td>\n",
              "    </tr>\n",
              "  </tbody>\n",
              "</table>\n",
              "<p>5 rows × 26 columns</p>\n",
              "</div>\n",
              "      <button class=\"colab-df-convert\" onclick=\"convertToInteractive('df-1bcafab9-b720-4aad-be61-65955f241a86')\"\n",
              "              title=\"Convert this dataframe to an interactive table.\"\n",
              "              style=\"display:none;\">\n",
              "        \n",
              "  <svg xmlns=\"http://www.w3.org/2000/svg\" height=\"24px\"viewBox=\"0 0 24 24\"\n",
              "       width=\"24px\">\n",
              "    <path d=\"M0 0h24v24H0V0z\" fill=\"none\"/>\n",
              "    <path d=\"M18.56 5.44l.94 2.06.94-2.06 2.06-.94-2.06-.94-.94-2.06-.94 2.06-2.06.94zm-11 1L8.5 8.5l.94-2.06 2.06-.94-2.06-.94L8.5 2.5l-.94 2.06-2.06.94zm10 10l.94 2.06.94-2.06 2.06-.94-2.06-.94-.94-2.06-.94 2.06-2.06.94z\"/><path d=\"M17.41 7.96l-1.37-1.37c-.4-.4-.92-.59-1.43-.59-.52 0-1.04.2-1.43.59L10.3 9.45l-7.72 7.72c-.78.78-.78 2.05 0 2.83L4 21.41c.39.39.9.59 1.41.59.51 0 1.02-.2 1.41-.59l7.78-7.78 2.81-2.81c.8-.78.8-2.07 0-2.86zM5.41 20L4 18.59l7.72-7.72 1.47 1.35L5.41 20z\"/>\n",
              "  </svg>\n",
              "      </button>\n",
              "      \n",
              "  <style>\n",
              "    .colab-df-container {\n",
              "      display:flex;\n",
              "      flex-wrap:wrap;\n",
              "      gap: 12px;\n",
              "    }\n",
              "\n",
              "    .colab-df-convert {\n",
              "      background-color: #E8F0FE;\n",
              "      border: none;\n",
              "      border-radius: 50%;\n",
              "      cursor: pointer;\n",
              "      display: none;\n",
              "      fill: #1967D2;\n",
              "      height: 32px;\n",
              "      padding: 0 0 0 0;\n",
              "      width: 32px;\n",
              "    }\n",
              "\n",
              "    .colab-df-convert:hover {\n",
              "      background-color: #E2EBFA;\n",
              "      box-shadow: 0px 1px 2px rgba(60, 64, 67, 0.3), 0px 1px 3px 1px rgba(60, 64, 67, 0.15);\n",
              "      fill: #174EA6;\n",
              "    }\n",
              "\n",
              "    [theme=dark] .colab-df-convert {\n",
              "      background-color: #3B4455;\n",
              "      fill: #D2E3FC;\n",
              "    }\n",
              "\n",
              "    [theme=dark] .colab-df-convert:hover {\n",
              "      background-color: #434B5C;\n",
              "      box-shadow: 0px 1px 3px 1px rgba(0, 0, 0, 0.15);\n",
              "      filter: drop-shadow(0px 1px 2px rgba(0, 0, 0, 0.3));\n",
              "      fill: #FFFFFF;\n",
              "    }\n",
              "  </style>\n",
              "\n",
              "      <script>\n",
              "        const buttonEl =\n",
              "          document.querySelector('#df-1bcafab9-b720-4aad-be61-65955f241a86 button.colab-df-convert');\n",
              "        buttonEl.style.display =\n",
              "          google.colab.kernel.accessAllowed ? 'block' : 'none';\n",
              "\n",
              "        async function convertToInteractive(key) {\n",
              "          const element = document.querySelector('#df-1bcafab9-b720-4aad-be61-65955f241a86');\n",
              "          const dataTable =\n",
              "            await google.colab.kernel.invokeFunction('convertToInteractive',\n",
              "                                                     [key], {});\n",
              "          if (!dataTable) return;\n",
              "\n",
              "          const docLinkHtml = 'Like what you see? Visit the ' +\n",
              "            '<a target=\"_blank\" href=https://colab.research.google.com/notebooks/data_table.ipynb>data table notebook</a>'\n",
              "            + ' to learn more about interactive tables.';\n",
              "          element.innerHTML = '';\n",
              "          dataTable['output_type'] = 'display_data';\n",
              "          await google.colab.output.renderOutput(dataTable, element);\n",
              "          const docLink = document.createElement('div');\n",
              "          docLink.innerHTML = docLinkHtml;\n",
              "          element.appendChild(docLink);\n",
              "        }\n",
              "      </script>\n",
              "    </div>\n",
              "  </div>\n",
              "  "
            ]
          },
          "metadata": {},
          "execution_count": 28
        }
      ],
      "source": [
        "df.head()"
      ]
    },
    {
      "cell_type": "markdown",
      "metadata": {
        "id": "-gFh7swKXG6q"
      },
      "source": [
        "# PRODUCTO 1: PENSION PLAN"
      ]
    },
    {
      "cell_type": "code",
      "execution_count": 29,
      "metadata": {
        "id": "knAun9dzXMRD"
      },
      "outputs": [],
      "source": [
        "# Para crear nuestro dataset de entrenamiento, hacemos un join entre las características de los clientes de la partición 2019-01 con la columna del producto de la partición 2019-02\n",
        "df_a = df[df['pk_partition']=='2019-01']\n",
        "df_b = df_dif[df_dif['pk_partition']=='2019-02']"
      ]
    },
    {
      "cell_type": "code",
      "execution_count": 30,
      "metadata": {
        "colab": {
          "base_uri": "https://localhost:8080/"
        },
        "id": "gtMOxkuW47uR",
        "outputId": "12ae2a43-9977-4537-b0dc-8bb52546cc4c"
      },
      "outputs": [
        {
          "output_type": "execute_result",
          "data": {
            "text/plain": [
              "Index(['pk_cid', 'pk_partition', 'short_term_deposit', 'loans', 'mortgage',\n",
              "       'funds', 'securities', 'long_term_deposit', 'credit_card', 'payroll',\n",
              "       'pension_plan', 'payroll_account', 'emc_account', 'debit_card',\n",
              "       'em_account_p', 'em_acount', 'entry_date', 'entry_channel',\n",
              "       'active_customer', 'segment', 'country_id', 'region_code', 'gender',\n",
              "       'age', 'deceased', 'salary'],\n",
              "      dtype='object')"
            ]
          },
          "metadata": {},
          "execution_count": 30
        }
      ],
      "source": [
        "df_a.columns"
      ]
    },
    {
      "cell_type": "code",
      "execution_count": 31,
      "metadata": {
        "id": "yHHzjUW85VXf"
      },
      "outputs": [],
      "source": [
        "df_a.drop(['short_term_deposit', 'loans', 'mortgage',\n",
        "       'funds', 'securities', 'long_term_deposit', 'credit_card','payroll',\n",
        "       'pension_plan','payroll_account', 'emc_account', 'debit_card',\n",
        "       'em_account_p', 'em_acount'],axis=1,inplace=True)"
      ]
    },
    {
      "cell_type": "code",
      "execution_count": 32,
      "metadata": {
        "colab": {
          "base_uri": "https://localhost:8080/"
        },
        "id": "8-xMZ1xn4-0O",
        "outputId": "2739421d-eebe-4e79-d930-ac5151c3fd32"
      },
      "outputs": [
        {
          "output_type": "execute_result",
          "data": {
            "text/plain": [
              "Index(['pk_cid', 'pk_partition', 'short_term_deposit', 'loans', 'mortgage',\n",
              "       'funds', 'securities', 'long_term_deposit', 'credit_card', 'payroll',\n",
              "       'pension_plan', 'payroll_account', 'emc_account', 'debit_card',\n",
              "       'em_account_p', 'em_acount', 'entry_date', 'entry_channel',\n",
              "       'active_customer', 'segment', 'country_id', 'region_code', 'gender',\n",
              "       'age', 'deceased', 'salary', 'dif_short_term_deposit', 'dif_loans',\n",
              "       'dif_mortgage', 'dif_funds', 'dif_securities', 'dif_long_term_deposit',\n",
              "       'dif_credit_card', 'dif_payroll', 'dif_pension_plan',\n",
              "       'dif_payroll_account', 'dif_emc_account', 'dif_debit_card',\n",
              "       'dif_em_account_p', 'dif_em_acount'],\n",
              "      dtype='object')"
            ]
          },
          "metadata": {},
          "execution_count": 32
        }
      ],
      "source": [
        "df_b.columns"
      ]
    },
    {
      "cell_type": "code",
      "execution_count": 33,
      "metadata": {
        "id": "uvcUNs7o514M"
      },
      "outputs": [],
      "source": [
        "df_b.drop(['pk_partition','short_term_deposit', 'loans', 'mortgage',\n",
        "       'funds', 'securities', 'long_term_deposit', 'credit_card', 'payroll',\n",
        "       'pension_plan', 'payroll_account', 'emc_account', 'debit_card',\n",
        "       'em_account_p', 'em_acount', 'entry_date', 'entry_channel',\n",
        "       'active_customer', 'segment', 'country_id', 'region_code', 'gender',\n",
        "       'age', 'deceased', 'salary', 'dif_short_term_deposit', 'dif_loans',\n",
        "       'dif_mortgage', 'dif_funds', 'dif_securities', 'dif_long_term_deposit',\n",
        "       'dif_credit_card', 'dif_payroll','dif_payroll_account', 'dif_emc_account', 'dif_debit_card',\n",
        "       'dif_em_account_p', 'dif_em_acount'],axis=1,inplace=True)"
      ]
    },
    {
      "cell_type": "code",
      "execution_count": 34,
      "metadata": {
        "id": "cMmNsFQv5CdD"
      },
      "outputs": [],
      "source": [
        "df_pp = pd.merge(df_a,df_b,how='inner',on=['pk_cid'])"
      ]
    },
    {
      "cell_type": "code",
      "execution_count": 35,
      "metadata": {
        "id": "SMRuCayq1rTW"
      },
      "outputs": [],
      "source": [
        "df_pp = df_pp.rename(columns={'dif_pension_plan':'pension_plan'})"
      ]
    },
    {
      "cell_type": "code",
      "execution_count": 36,
      "metadata": {
        "colab": {
          "base_uri": "https://localhost:8080/",
          "height": 250
        },
        "id": "wse1Vi4RaDl5",
        "outputId": "dc2e7bd5-1bf5-48b7-eda7-99e4a59e49fa"
      },
      "outputs": [
        {
          "output_type": "execute_result",
          "data": {
            "text/plain": [
              "    pk_cid pk_partition entry_date entry_channel active_customer  \\\n",
              "0  1432296      2019-01    2018-08           KHQ             0.0   \n",
              "1  1432294      2019-01    2018-08           KHQ             1.0   \n",
              "2  1432293      2019-01    2018-08           KHQ             0.0   \n",
              "3  1432292      2019-01    2018-08           KHQ             0.0   \n",
              "4  1432297      2019-01    2018-08           KHQ             0.0   \n",
              "\n",
              "              segment country_id region_code gender  age deceased     salary  \\\n",
              "0  03 - UNIVERSITARIO         ES         3.0      M   20        N   34745.28   \n",
              "1  03 - UNIVERSITARIO         ES        12.0      F   25        N  184449.27   \n",
              "2  03 - UNIVERSITARIO         ES         8.0      F   20        N   67044.99   \n",
              "3  03 - UNIVERSITARIO         ES         3.0      M   23        N   42478.02   \n",
              "4  03 - UNIVERSITARIO         ES        45.0      F   20        N   89482.35   \n",
              "\n",
              "  pension_plan  \n",
              "0            0  \n",
              "1            0  \n",
              "2            0  \n",
              "3            0  \n",
              "4            0  "
            ],
            "text/html": [
              "\n",
              "  <div id=\"df-7e24aeb8-718d-4597-9b11-6a1c49408f71\">\n",
              "    <div class=\"colab-df-container\">\n",
              "      <div>\n",
              "<style scoped>\n",
              "    .dataframe tbody tr th:only-of-type {\n",
              "        vertical-align: middle;\n",
              "    }\n",
              "\n",
              "    .dataframe tbody tr th {\n",
              "        vertical-align: top;\n",
              "    }\n",
              "\n",
              "    .dataframe thead th {\n",
              "        text-align: right;\n",
              "    }\n",
              "</style>\n",
              "<table border=\"1\" class=\"dataframe\">\n",
              "  <thead>\n",
              "    <tr style=\"text-align: right;\">\n",
              "      <th></th>\n",
              "      <th>pk_cid</th>\n",
              "      <th>pk_partition</th>\n",
              "      <th>entry_date</th>\n",
              "      <th>entry_channel</th>\n",
              "      <th>active_customer</th>\n",
              "      <th>segment</th>\n",
              "      <th>country_id</th>\n",
              "      <th>region_code</th>\n",
              "      <th>gender</th>\n",
              "      <th>age</th>\n",
              "      <th>deceased</th>\n",
              "      <th>salary</th>\n",
              "      <th>pension_plan</th>\n",
              "    </tr>\n",
              "  </thead>\n",
              "  <tbody>\n",
              "    <tr>\n",
              "      <th>0</th>\n",
              "      <td>1432296</td>\n",
              "      <td>2019-01</td>\n",
              "      <td>2018-08</td>\n",
              "      <td>KHQ</td>\n",
              "      <td>0.0</td>\n",
              "      <td>03 - UNIVERSITARIO</td>\n",
              "      <td>ES</td>\n",
              "      <td>3.0</td>\n",
              "      <td>M</td>\n",
              "      <td>20</td>\n",
              "      <td>N</td>\n",
              "      <td>34745.28</td>\n",
              "      <td>0</td>\n",
              "    </tr>\n",
              "    <tr>\n",
              "      <th>1</th>\n",
              "      <td>1432294</td>\n",
              "      <td>2019-01</td>\n",
              "      <td>2018-08</td>\n",
              "      <td>KHQ</td>\n",
              "      <td>1.0</td>\n",
              "      <td>03 - UNIVERSITARIO</td>\n",
              "      <td>ES</td>\n",
              "      <td>12.0</td>\n",
              "      <td>F</td>\n",
              "      <td>25</td>\n",
              "      <td>N</td>\n",
              "      <td>184449.27</td>\n",
              "      <td>0</td>\n",
              "    </tr>\n",
              "    <tr>\n",
              "      <th>2</th>\n",
              "      <td>1432293</td>\n",
              "      <td>2019-01</td>\n",
              "      <td>2018-08</td>\n",
              "      <td>KHQ</td>\n",
              "      <td>0.0</td>\n",
              "      <td>03 - UNIVERSITARIO</td>\n",
              "      <td>ES</td>\n",
              "      <td>8.0</td>\n",
              "      <td>F</td>\n",
              "      <td>20</td>\n",
              "      <td>N</td>\n",
              "      <td>67044.99</td>\n",
              "      <td>0</td>\n",
              "    </tr>\n",
              "    <tr>\n",
              "      <th>3</th>\n",
              "      <td>1432292</td>\n",
              "      <td>2019-01</td>\n",
              "      <td>2018-08</td>\n",
              "      <td>KHQ</td>\n",
              "      <td>0.0</td>\n",
              "      <td>03 - UNIVERSITARIO</td>\n",
              "      <td>ES</td>\n",
              "      <td>3.0</td>\n",
              "      <td>M</td>\n",
              "      <td>23</td>\n",
              "      <td>N</td>\n",
              "      <td>42478.02</td>\n",
              "      <td>0</td>\n",
              "    </tr>\n",
              "    <tr>\n",
              "      <th>4</th>\n",
              "      <td>1432297</td>\n",
              "      <td>2019-01</td>\n",
              "      <td>2018-08</td>\n",
              "      <td>KHQ</td>\n",
              "      <td>0.0</td>\n",
              "      <td>03 - UNIVERSITARIO</td>\n",
              "      <td>ES</td>\n",
              "      <td>45.0</td>\n",
              "      <td>F</td>\n",
              "      <td>20</td>\n",
              "      <td>N</td>\n",
              "      <td>89482.35</td>\n",
              "      <td>0</td>\n",
              "    </tr>\n",
              "  </tbody>\n",
              "</table>\n",
              "</div>\n",
              "      <button class=\"colab-df-convert\" onclick=\"convertToInteractive('df-7e24aeb8-718d-4597-9b11-6a1c49408f71')\"\n",
              "              title=\"Convert this dataframe to an interactive table.\"\n",
              "              style=\"display:none;\">\n",
              "        \n",
              "  <svg xmlns=\"http://www.w3.org/2000/svg\" height=\"24px\"viewBox=\"0 0 24 24\"\n",
              "       width=\"24px\">\n",
              "    <path d=\"M0 0h24v24H0V0z\" fill=\"none\"/>\n",
              "    <path d=\"M18.56 5.44l.94 2.06.94-2.06 2.06-.94-2.06-.94-.94-2.06-.94 2.06-2.06.94zm-11 1L8.5 8.5l.94-2.06 2.06-.94-2.06-.94L8.5 2.5l-.94 2.06-2.06.94zm10 10l.94 2.06.94-2.06 2.06-.94-2.06-.94-.94-2.06-.94 2.06-2.06.94z\"/><path d=\"M17.41 7.96l-1.37-1.37c-.4-.4-.92-.59-1.43-.59-.52 0-1.04.2-1.43.59L10.3 9.45l-7.72 7.72c-.78.78-.78 2.05 0 2.83L4 21.41c.39.39.9.59 1.41.59.51 0 1.02-.2 1.41-.59l7.78-7.78 2.81-2.81c.8-.78.8-2.07 0-2.86zM5.41 20L4 18.59l7.72-7.72 1.47 1.35L5.41 20z\"/>\n",
              "  </svg>\n",
              "      </button>\n",
              "      \n",
              "  <style>\n",
              "    .colab-df-container {\n",
              "      display:flex;\n",
              "      flex-wrap:wrap;\n",
              "      gap: 12px;\n",
              "    }\n",
              "\n",
              "    .colab-df-convert {\n",
              "      background-color: #E8F0FE;\n",
              "      border: none;\n",
              "      border-radius: 50%;\n",
              "      cursor: pointer;\n",
              "      display: none;\n",
              "      fill: #1967D2;\n",
              "      height: 32px;\n",
              "      padding: 0 0 0 0;\n",
              "      width: 32px;\n",
              "    }\n",
              "\n",
              "    .colab-df-convert:hover {\n",
              "      background-color: #E2EBFA;\n",
              "      box-shadow: 0px 1px 2px rgba(60, 64, 67, 0.3), 0px 1px 3px 1px rgba(60, 64, 67, 0.15);\n",
              "      fill: #174EA6;\n",
              "    }\n",
              "\n",
              "    [theme=dark] .colab-df-convert {\n",
              "      background-color: #3B4455;\n",
              "      fill: #D2E3FC;\n",
              "    }\n",
              "\n",
              "    [theme=dark] .colab-df-convert:hover {\n",
              "      background-color: #434B5C;\n",
              "      box-shadow: 0px 1px 3px 1px rgba(0, 0, 0, 0.15);\n",
              "      filter: drop-shadow(0px 1px 2px rgba(0, 0, 0, 0.3));\n",
              "      fill: #FFFFFF;\n",
              "    }\n",
              "  </style>\n",
              "\n",
              "      <script>\n",
              "        const buttonEl =\n",
              "          document.querySelector('#df-7e24aeb8-718d-4597-9b11-6a1c49408f71 button.colab-df-convert');\n",
              "        buttonEl.style.display =\n",
              "          google.colab.kernel.accessAllowed ? 'block' : 'none';\n",
              "\n",
              "        async function convertToInteractive(key) {\n",
              "          const element = document.querySelector('#df-7e24aeb8-718d-4597-9b11-6a1c49408f71');\n",
              "          const dataTable =\n",
              "            await google.colab.kernel.invokeFunction('convertToInteractive',\n",
              "                                                     [key], {});\n",
              "          if (!dataTable) return;\n",
              "\n",
              "          const docLinkHtml = 'Like what you see? Visit the ' +\n",
              "            '<a target=\"_blank\" href=https://colab.research.google.com/notebooks/data_table.ipynb>data table notebook</a>'\n",
              "            + ' to learn more about interactive tables.';\n",
              "          element.innerHTML = '';\n",
              "          dataTable['output_type'] = 'display_data';\n",
              "          await google.colab.output.renderOutput(dataTable, element);\n",
              "          const docLink = document.createElement('div');\n",
              "          docLink.innerHTML = docLinkHtml;\n",
              "          element.appendChild(docLink);\n",
              "        }\n",
              "      </script>\n",
              "    </div>\n",
              "  </div>\n",
              "  "
            ]
          },
          "metadata": {},
          "execution_count": 36
        }
      ],
      "source": [
        "df_pp.head()"
      ]
    },
    {
      "cell_type": "code",
      "execution_count": 37,
      "metadata": {
        "id": "r1_UJ1q9Darv"
      },
      "outputs": [],
      "source": [
        "df_pp['pk_partition'] = pd.to_datetime(df_pp['pk_partition'], format='%Y-%m')\n",
        "df_pp['entry_date'] = pd.to_datetime(df_pp['entry_date'], format='%Y-%m')"
      ]
    },
    {
      "cell_type": "code",
      "execution_count": 38,
      "metadata": {
        "id": "8JzHQgfKFj2k"
      },
      "outputs": [],
      "source": [
        "# Generamos una función para agregar la columna antiquity con la antiguedad de los clientes en meses\n",
        "\n",
        "def calculate_antiquity(row):\n",
        "    years = row['pk_partition'].year - row['entry_date'].year\n",
        "    months = row['pk_partition'].month - row['entry_date'].month\n",
        "    return years * 12 + months"
      ]
    },
    {
      "cell_type": "code",
      "execution_count": 39,
      "metadata": {
        "id": "eNV5wzAeH6ct"
      },
      "outputs": [],
      "source": [
        "df_pp['antiquity'] = df_pp.apply(calculate_antiquity, axis=1)"
      ]
    },
    {
      "cell_type": "code",
      "execution_count": 40,
      "metadata": {
        "colab": {
          "base_uri": "https://localhost:8080/",
          "height": 357
        },
        "id": "mVRgcJKZIoyN",
        "outputId": "8da56cbe-27fe-474f-cb5e-2b9ef15a2fc5"
      },
      "outputs": [
        {
          "output_type": "execute_result",
          "data": {
            "text/plain": [
              "    pk_cid pk_partition entry_date entry_channel active_customer  \\\n",
              "0  1432296   2019-01-01 2018-08-01           KHQ             0.0   \n",
              "1  1432294   2019-01-01 2018-08-01           KHQ             1.0   \n",
              "2  1432293   2019-01-01 2018-08-01           KHQ             0.0   \n",
              "3  1432292   2019-01-01 2018-08-01           KHQ             0.0   \n",
              "4  1432297   2019-01-01 2018-08-01           KHQ             0.0   \n",
              "\n",
              "              segment country_id region_code gender  age deceased     salary  \\\n",
              "0  03 - UNIVERSITARIO         ES         3.0      M   20        N   34745.28   \n",
              "1  03 - UNIVERSITARIO         ES        12.0      F   25        N  184449.27   \n",
              "2  03 - UNIVERSITARIO         ES         8.0      F   20        N   67044.99   \n",
              "3  03 - UNIVERSITARIO         ES         3.0      M   23        N   42478.02   \n",
              "4  03 - UNIVERSITARIO         ES        45.0      F   20        N   89482.35   \n",
              "\n",
              "  pension_plan  antiquity  \n",
              "0            0          5  \n",
              "1            0          5  \n",
              "2            0          5  \n",
              "3            0          5  \n",
              "4            0          5  "
            ],
            "text/html": [
              "\n",
              "  <div id=\"df-151fd5e0-dc6a-43d9-a2f4-e1ff6bd41813\">\n",
              "    <div class=\"colab-df-container\">\n",
              "      <div>\n",
              "<style scoped>\n",
              "    .dataframe tbody tr th:only-of-type {\n",
              "        vertical-align: middle;\n",
              "    }\n",
              "\n",
              "    .dataframe tbody tr th {\n",
              "        vertical-align: top;\n",
              "    }\n",
              "\n",
              "    .dataframe thead th {\n",
              "        text-align: right;\n",
              "    }\n",
              "</style>\n",
              "<table border=\"1\" class=\"dataframe\">\n",
              "  <thead>\n",
              "    <tr style=\"text-align: right;\">\n",
              "      <th></th>\n",
              "      <th>pk_cid</th>\n",
              "      <th>pk_partition</th>\n",
              "      <th>entry_date</th>\n",
              "      <th>entry_channel</th>\n",
              "      <th>active_customer</th>\n",
              "      <th>segment</th>\n",
              "      <th>country_id</th>\n",
              "      <th>region_code</th>\n",
              "      <th>gender</th>\n",
              "      <th>age</th>\n",
              "      <th>deceased</th>\n",
              "      <th>salary</th>\n",
              "      <th>pension_plan</th>\n",
              "      <th>antiquity</th>\n",
              "    </tr>\n",
              "  </thead>\n",
              "  <tbody>\n",
              "    <tr>\n",
              "      <th>0</th>\n",
              "      <td>1432296</td>\n",
              "      <td>2019-01-01</td>\n",
              "      <td>2018-08-01</td>\n",
              "      <td>KHQ</td>\n",
              "      <td>0.0</td>\n",
              "      <td>03 - UNIVERSITARIO</td>\n",
              "      <td>ES</td>\n",
              "      <td>3.0</td>\n",
              "      <td>M</td>\n",
              "      <td>20</td>\n",
              "      <td>N</td>\n",
              "      <td>34745.28</td>\n",
              "      <td>0</td>\n",
              "      <td>5</td>\n",
              "    </tr>\n",
              "    <tr>\n",
              "      <th>1</th>\n",
              "      <td>1432294</td>\n",
              "      <td>2019-01-01</td>\n",
              "      <td>2018-08-01</td>\n",
              "      <td>KHQ</td>\n",
              "      <td>1.0</td>\n",
              "      <td>03 - UNIVERSITARIO</td>\n",
              "      <td>ES</td>\n",
              "      <td>12.0</td>\n",
              "      <td>F</td>\n",
              "      <td>25</td>\n",
              "      <td>N</td>\n",
              "      <td>184449.27</td>\n",
              "      <td>0</td>\n",
              "      <td>5</td>\n",
              "    </tr>\n",
              "    <tr>\n",
              "      <th>2</th>\n",
              "      <td>1432293</td>\n",
              "      <td>2019-01-01</td>\n",
              "      <td>2018-08-01</td>\n",
              "      <td>KHQ</td>\n",
              "      <td>0.0</td>\n",
              "      <td>03 - UNIVERSITARIO</td>\n",
              "      <td>ES</td>\n",
              "      <td>8.0</td>\n",
              "      <td>F</td>\n",
              "      <td>20</td>\n",
              "      <td>N</td>\n",
              "      <td>67044.99</td>\n",
              "      <td>0</td>\n",
              "      <td>5</td>\n",
              "    </tr>\n",
              "    <tr>\n",
              "      <th>3</th>\n",
              "      <td>1432292</td>\n",
              "      <td>2019-01-01</td>\n",
              "      <td>2018-08-01</td>\n",
              "      <td>KHQ</td>\n",
              "      <td>0.0</td>\n",
              "      <td>03 - UNIVERSITARIO</td>\n",
              "      <td>ES</td>\n",
              "      <td>3.0</td>\n",
              "      <td>M</td>\n",
              "      <td>23</td>\n",
              "      <td>N</td>\n",
              "      <td>42478.02</td>\n",
              "      <td>0</td>\n",
              "      <td>5</td>\n",
              "    </tr>\n",
              "    <tr>\n",
              "      <th>4</th>\n",
              "      <td>1432297</td>\n",
              "      <td>2019-01-01</td>\n",
              "      <td>2018-08-01</td>\n",
              "      <td>KHQ</td>\n",
              "      <td>0.0</td>\n",
              "      <td>03 - UNIVERSITARIO</td>\n",
              "      <td>ES</td>\n",
              "      <td>45.0</td>\n",
              "      <td>F</td>\n",
              "      <td>20</td>\n",
              "      <td>N</td>\n",
              "      <td>89482.35</td>\n",
              "      <td>0</td>\n",
              "      <td>5</td>\n",
              "    </tr>\n",
              "  </tbody>\n",
              "</table>\n",
              "</div>\n",
              "      <button class=\"colab-df-convert\" onclick=\"convertToInteractive('df-151fd5e0-dc6a-43d9-a2f4-e1ff6bd41813')\"\n",
              "              title=\"Convert this dataframe to an interactive table.\"\n",
              "              style=\"display:none;\">\n",
              "        \n",
              "  <svg xmlns=\"http://www.w3.org/2000/svg\" height=\"24px\"viewBox=\"0 0 24 24\"\n",
              "       width=\"24px\">\n",
              "    <path d=\"M0 0h24v24H0V0z\" fill=\"none\"/>\n",
              "    <path d=\"M18.56 5.44l.94 2.06.94-2.06 2.06-.94-2.06-.94-.94-2.06-.94 2.06-2.06.94zm-11 1L8.5 8.5l.94-2.06 2.06-.94-2.06-.94L8.5 2.5l-.94 2.06-2.06.94zm10 10l.94 2.06.94-2.06 2.06-.94-2.06-.94-.94-2.06-.94 2.06-2.06.94z\"/><path d=\"M17.41 7.96l-1.37-1.37c-.4-.4-.92-.59-1.43-.59-.52 0-1.04.2-1.43.59L10.3 9.45l-7.72 7.72c-.78.78-.78 2.05 0 2.83L4 21.41c.39.39.9.59 1.41.59.51 0 1.02-.2 1.41-.59l7.78-7.78 2.81-2.81c.8-.78.8-2.07 0-2.86zM5.41 20L4 18.59l7.72-7.72 1.47 1.35L5.41 20z\"/>\n",
              "  </svg>\n",
              "      </button>\n",
              "      \n",
              "  <style>\n",
              "    .colab-df-container {\n",
              "      display:flex;\n",
              "      flex-wrap:wrap;\n",
              "      gap: 12px;\n",
              "    }\n",
              "\n",
              "    .colab-df-convert {\n",
              "      background-color: #E8F0FE;\n",
              "      border: none;\n",
              "      border-radius: 50%;\n",
              "      cursor: pointer;\n",
              "      display: none;\n",
              "      fill: #1967D2;\n",
              "      height: 32px;\n",
              "      padding: 0 0 0 0;\n",
              "      width: 32px;\n",
              "    }\n",
              "\n",
              "    .colab-df-convert:hover {\n",
              "      background-color: #E2EBFA;\n",
              "      box-shadow: 0px 1px 2px rgba(60, 64, 67, 0.3), 0px 1px 3px 1px rgba(60, 64, 67, 0.15);\n",
              "      fill: #174EA6;\n",
              "    }\n",
              "\n",
              "    [theme=dark] .colab-df-convert {\n",
              "      background-color: #3B4455;\n",
              "      fill: #D2E3FC;\n",
              "    }\n",
              "\n",
              "    [theme=dark] .colab-df-convert:hover {\n",
              "      background-color: #434B5C;\n",
              "      box-shadow: 0px 1px 3px 1px rgba(0, 0, 0, 0.15);\n",
              "      filter: drop-shadow(0px 1px 2px rgba(0, 0, 0, 0.3));\n",
              "      fill: #FFFFFF;\n",
              "    }\n",
              "  </style>\n",
              "\n",
              "      <script>\n",
              "        const buttonEl =\n",
              "          document.querySelector('#df-151fd5e0-dc6a-43d9-a2f4-e1ff6bd41813 button.colab-df-convert');\n",
              "        buttonEl.style.display =\n",
              "          google.colab.kernel.accessAllowed ? 'block' : 'none';\n",
              "\n",
              "        async function convertToInteractive(key) {\n",
              "          const element = document.querySelector('#df-151fd5e0-dc6a-43d9-a2f4-e1ff6bd41813');\n",
              "          const dataTable =\n",
              "            await google.colab.kernel.invokeFunction('convertToInteractive',\n",
              "                                                     [key], {});\n",
              "          if (!dataTable) return;\n",
              "\n",
              "          const docLinkHtml = 'Like what you see? Visit the ' +\n",
              "            '<a target=\"_blank\" href=https://colab.research.google.com/notebooks/data_table.ipynb>data table notebook</a>'\n",
              "            + ' to learn more about interactive tables.';\n",
              "          element.innerHTML = '';\n",
              "          dataTable['output_type'] = 'display_data';\n",
              "          await google.colab.output.renderOutput(dataTable, element);\n",
              "          const docLink = document.createElement('div');\n",
              "          docLink.innerHTML = docLinkHtml;\n",
              "          element.appendChild(docLink);\n",
              "        }\n",
              "      </script>\n",
              "    </div>\n",
              "  </div>\n",
              "  "
            ]
          },
          "metadata": {},
          "execution_count": 40
        }
      ],
      "source": [
        "df_pp.head()"
      ]
    },
    {
      "cell_type": "code",
      "execution_count": 41,
      "metadata": {
        "id": "Q6IJJJtpqZwG"
      },
      "outputs": [],
      "source": [
        "# Nuestro dataset de predicción sería el siguiente:\n",
        "df_pred = df[df['pk_partition']=='2019-05']"
      ]
    },
    {
      "cell_type": "code",
      "source": [
        "# Antes de eliminar las columnas que no nos interesan, eliminamos las filas de los clientes que ya cuenten con el producto, ya que no se podrá predecir si lo adquirirán o no, si ya lo tienen\n",
        "df_pred = df_pred.drop(df_pred[df_pred['pension_plan']==1].index)"
      ],
      "metadata": {
        "id": "Jqy1JyOL4QDR"
      },
      "execution_count": 42,
      "outputs": []
    },
    {
      "cell_type": "code",
      "execution_count": 43,
      "metadata": {
        "colab": {
          "base_uri": "https://localhost:8080/"
        },
        "id": "_XPvv9Eyq4qb",
        "outputId": "c314467b-b283-4220-8904-d7b9cb9c2419"
      },
      "outputs": [
        {
          "output_type": "execute_result",
          "data": {
            "text/plain": [
              "Index(['pk_cid', 'pk_partition', 'short_term_deposit', 'loans', 'mortgage',\n",
              "       'funds', 'securities', 'long_term_deposit', 'credit_card', 'payroll',\n",
              "       'pension_plan', 'payroll_account', 'emc_account', 'debit_card',\n",
              "       'em_account_p', 'em_acount', 'entry_date', 'entry_channel',\n",
              "       'active_customer', 'segment', 'country_id', 'region_code', 'gender',\n",
              "       'age', 'deceased', 'salary'],\n",
              "      dtype='object')"
            ]
          },
          "metadata": {},
          "execution_count": 43
        }
      ],
      "source": [
        "df_pred.columns"
      ]
    },
    {
      "cell_type": "code",
      "execution_count": 44,
      "metadata": {
        "id": "iIcfpymzq9QF"
      },
      "outputs": [],
      "source": [
        "df_pred.drop(['short_term_deposit', 'loans', 'mortgage',\n",
        "       'funds', 'securities', 'long_term_deposit', 'credit_card', 'payroll',\n",
        "       'pension_plan', 'payroll_account', 'emc_account', 'debit_card',\n",
        "       'em_account_p', 'em_acount'],axis=1,inplace=True)"
      ]
    },
    {
      "cell_type": "code",
      "execution_count": 45,
      "metadata": {
        "id": "paHFhZsrSo0-"
      },
      "outputs": [],
      "source": [
        "df_pred['pk_partition'] = pd.to_datetime(df_pred['pk_partition'], format='%Y-%m')\n",
        "df_pred['entry_date'] = pd.to_datetime(df_pred['entry_date'], format='%Y-%m')"
      ]
    },
    {
      "cell_type": "code",
      "execution_count": 46,
      "metadata": {
        "id": "C9K-qPSASgGi"
      },
      "outputs": [],
      "source": [
        "# Agregamos la columna de antiquity al dataset de predicción\n",
        "df_pred['antiquity'] = df_pred.apply(calculate_antiquity, axis=1)"
      ]
    },
    {
      "cell_type": "code",
      "execution_count": 47,
      "metadata": {
        "colab": {
          "base_uri": "https://localhost:8080/",
          "height": 302
        },
        "id": "ch1S8V7iSxBA",
        "outputId": "3f0bd320-b473-4763-bc60-33fdcdd6e18e"
      },
      "outputs": [
        {
          "output_type": "execute_result",
          "data": {
            "text/plain": [
              "         pk_cid pk_partition entry_date entry_channel active_customer  \\\n",
              "5519929  657826   2019-05-01 2015-05-01           013             1.0   \n",
              "5519930  657817   2019-05-01 2019-05-01           NaN             0.0   \n",
              "5519932  657905   2019-05-01 2017-02-01           KAT             1.0   \n",
              "5519933  657336   2019-05-01 2019-03-01           KAT             1.0   \n",
              "5519934  657147   2019-05-01 2017-06-01           KAT             0.0   \n",
              "\n",
              "                   segment country_id region_code gender  age deceased  \\\n",
              "5519929  02 - PARTICULARES         ES        25.0      F   44        N   \n",
              "5519930                NaN         ES         8.0      M   32        N   \n",
              "5519932           01 - TOP         ES        28.0      F   85        N   \n",
              "5519933  02 - PARTICULARES         ES        28.0      M   38        N   \n",
              "5519934  02 - PARTICULARES         ES        28.0      F   62        N   \n",
              "\n",
              "            salary  antiquity  \n",
              "5519929   54493.38         48  \n",
              "5519930        NaN          0  \n",
              "5519932  154059.09         27  \n",
              "5519933        NaN          2  \n",
              "5519934  104881.71         23  "
            ],
            "text/html": [
              "\n",
              "  <div id=\"df-8546d3b7-3c17-4eef-83a2-f5bf764a0f66\">\n",
              "    <div class=\"colab-df-container\">\n",
              "      <div>\n",
              "<style scoped>\n",
              "    .dataframe tbody tr th:only-of-type {\n",
              "        vertical-align: middle;\n",
              "    }\n",
              "\n",
              "    .dataframe tbody tr th {\n",
              "        vertical-align: top;\n",
              "    }\n",
              "\n",
              "    .dataframe thead th {\n",
              "        text-align: right;\n",
              "    }\n",
              "</style>\n",
              "<table border=\"1\" class=\"dataframe\">\n",
              "  <thead>\n",
              "    <tr style=\"text-align: right;\">\n",
              "      <th></th>\n",
              "      <th>pk_cid</th>\n",
              "      <th>pk_partition</th>\n",
              "      <th>entry_date</th>\n",
              "      <th>entry_channel</th>\n",
              "      <th>active_customer</th>\n",
              "      <th>segment</th>\n",
              "      <th>country_id</th>\n",
              "      <th>region_code</th>\n",
              "      <th>gender</th>\n",
              "      <th>age</th>\n",
              "      <th>deceased</th>\n",
              "      <th>salary</th>\n",
              "      <th>antiquity</th>\n",
              "    </tr>\n",
              "  </thead>\n",
              "  <tbody>\n",
              "    <tr>\n",
              "      <th>5519929</th>\n",
              "      <td>657826</td>\n",
              "      <td>2019-05-01</td>\n",
              "      <td>2015-05-01</td>\n",
              "      <td>013</td>\n",
              "      <td>1.0</td>\n",
              "      <td>02 - PARTICULARES</td>\n",
              "      <td>ES</td>\n",
              "      <td>25.0</td>\n",
              "      <td>F</td>\n",
              "      <td>44</td>\n",
              "      <td>N</td>\n",
              "      <td>54493.38</td>\n",
              "      <td>48</td>\n",
              "    </tr>\n",
              "    <tr>\n",
              "      <th>5519930</th>\n",
              "      <td>657817</td>\n",
              "      <td>2019-05-01</td>\n",
              "      <td>2019-05-01</td>\n",
              "      <td>NaN</td>\n",
              "      <td>0.0</td>\n",
              "      <td>NaN</td>\n",
              "      <td>ES</td>\n",
              "      <td>8.0</td>\n",
              "      <td>M</td>\n",
              "      <td>32</td>\n",
              "      <td>N</td>\n",
              "      <td>NaN</td>\n",
              "      <td>0</td>\n",
              "    </tr>\n",
              "    <tr>\n",
              "      <th>5519932</th>\n",
              "      <td>657905</td>\n",
              "      <td>2019-05-01</td>\n",
              "      <td>2017-02-01</td>\n",
              "      <td>KAT</td>\n",
              "      <td>1.0</td>\n",
              "      <td>01 - TOP</td>\n",
              "      <td>ES</td>\n",
              "      <td>28.0</td>\n",
              "      <td>F</td>\n",
              "      <td>85</td>\n",
              "      <td>N</td>\n",
              "      <td>154059.09</td>\n",
              "      <td>27</td>\n",
              "    </tr>\n",
              "    <tr>\n",
              "      <th>5519933</th>\n",
              "      <td>657336</td>\n",
              "      <td>2019-05-01</td>\n",
              "      <td>2019-03-01</td>\n",
              "      <td>KAT</td>\n",
              "      <td>1.0</td>\n",
              "      <td>02 - PARTICULARES</td>\n",
              "      <td>ES</td>\n",
              "      <td>28.0</td>\n",
              "      <td>M</td>\n",
              "      <td>38</td>\n",
              "      <td>N</td>\n",
              "      <td>NaN</td>\n",
              "      <td>2</td>\n",
              "    </tr>\n",
              "    <tr>\n",
              "      <th>5519934</th>\n",
              "      <td>657147</td>\n",
              "      <td>2019-05-01</td>\n",
              "      <td>2017-06-01</td>\n",
              "      <td>KAT</td>\n",
              "      <td>0.0</td>\n",
              "      <td>02 - PARTICULARES</td>\n",
              "      <td>ES</td>\n",
              "      <td>28.0</td>\n",
              "      <td>F</td>\n",
              "      <td>62</td>\n",
              "      <td>N</td>\n",
              "      <td>104881.71</td>\n",
              "      <td>23</td>\n",
              "    </tr>\n",
              "  </tbody>\n",
              "</table>\n",
              "</div>\n",
              "      <button class=\"colab-df-convert\" onclick=\"convertToInteractive('df-8546d3b7-3c17-4eef-83a2-f5bf764a0f66')\"\n",
              "              title=\"Convert this dataframe to an interactive table.\"\n",
              "              style=\"display:none;\">\n",
              "        \n",
              "  <svg xmlns=\"http://www.w3.org/2000/svg\" height=\"24px\"viewBox=\"0 0 24 24\"\n",
              "       width=\"24px\">\n",
              "    <path d=\"M0 0h24v24H0V0z\" fill=\"none\"/>\n",
              "    <path d=\"M18.56 5.44l.94 2.06.94-2.06 2.06-.94-2.06-.94-.94-2.06-.94 2.06-2.06.94zm-11 1L8.5 8.5l.94-2.06 2.06-.94-2.06-.94L8.5 2.5l-.94 2.06-2.06.94zm10 10l.94 2.06.94-2.06 2.06-.94-2.06-.94-.94-2.06-.94 2.06-2.06.94z\"/><path d=\"M17.41 7.96l-1.37-1.37c-.4-.4-.92-.59-1.43-.59-.52 0-1.04.2-1.43.59L10.3 9.45l-7.72 7.72c-.78.78-.78 2.05 0 2.83L4 21.41c.39.39.9.59 1.41.59.51 0 1.02-.2 1.41-.59l7.78-7.78 2.81-2.81c.8-.78.8-2.07 0-2.86zM5.41 20L4 18.59l7.72-7.72 1.47 1.35L5.41 20z\"/>\n",
              "  </svg>\n",
              "      </button>\n",
              "      \n",
              "  <style>\n",
              "    .colab-df-container {\n",
              "      display:flex;\n",
              "      flex-wrap:wrap;\n",
              "      gap: 12px;\n",
              "    }\n",
              "\n",
              "    .colab-df-convert {\n",
              "      background-color: #E8F0FE;\n",
              "      border: none;\n",
              "      border-radius: 50%;\n",
              "      cursor: pointer;\n",
              "      display: none;\n",
              "      fill: #1967D2;\n",
              "      height: 32px;\n",
              "      padding: 0 0 0 0;\n",
              "      width: 32px;\n",
              "    }\n",
              "\n",
              "    .colab-df-convert:hover {\n",
              "      background-color: #E2EBFA;\n",
              "      box-shadow: 0px 1px 2px rgba(60, 64, 67, 0.3), 0px 1px 3px 1px rgba(60, 64, 67, 0.15);\n",
              "      fill: #174EA6;\n",
              "    }\n",
              "\n",
              "    [theme=dark] .colab-df-convert {\n",
              "      background-color: #3B4455;\n",
              "      fill: #D2E3FC;\n",
              "    }\n",
              "\n",
              "    [theme=dark] .colab-df-convert:hover {\n",
              "      background-color: #434B5C;\n",
              "      box-shadow: 0px 1px 3px 1px rgba(0, 0, 0, 0.15);\n",
              "      filter: drop-shadow(0px 1px 2px rgba(0, 0, 0, 0.3));\n",
              "      fill: #FFFFFF;\n",
              "    }\n",
              "  </style>\n",
              "\n",
              "      <script>\n",
              "        const buttonEl =\n",
              "          document.querySelector('#df-8546d3b7-3c17-4eef-83a2-f5bf764a0f66 button.colab-df-convert');\n",
              "        buttonEl.style.display =\n",
              "          google.colab.kernel.accessAllowed ? 'block' : 'none';\n",
              "\n",
              "        async function convertToInteractive(key) {\n",
              "          const element = document.querySelector('#df-8546d3b7-3c17-4eef-83a2-f5bf764a0f66');\n",
              "          const dataTable =\n",
              "            await google.colab.kernel.invokeFunction('convertToInteractive',\n",
              "                                                     [key], {});\n",
              "          if (!dataTable) return;\n",
              "\n",
              "          const docLinkHtml = 'Like what you see? Visit the ' +\n",
              "            '<a target=\"_blank\" href=https://colab.research.google.com/notebooks/data_table.ipynb>data table notebook</a>'\n",
              "            + ' to learn more about interactive tables.';\n",
              "          element.innerHTML = '';\n",
              "          dataTable['output_type'] = 'display_data';\n",
              "          await google.colab.output.renderOutput(dataTable, element);\n",
              "          const docLink = document.createElement('div');\n",
              "          docLink.innerHTML = docLinkHtml;\n",
              "          element.appendChild(docLink);\n",
              "        }\n",
              "      </script>\n",
              "    </div>\n",
              "  </div>\n",
              "  "
            ]
          },
          "metadata": {},
          "execution_count": 47
        }
      ],
      "source": [
        "df_pred.head()"
      ]
    },
    {
      "cell_type": "code",
      "execution_count": 48,
      "metadata": {
        "id": "kHclru7m760V"
      },
      "outputs": [],
      "source": [
        "# Eliminamos los registros en los que deceased = 'S' en ambos datasets, ya que es imposible que hayan podido adquirir un producto posteriormente\n",
        "df_pp = df_pp.drop(df_pp[df_pp['deceased']=='S'].index)\n",
        "df_pred = df_pred.drop(df_pred[df_pred['deceased']=='S'].index)"
      ]
    },
    {
      "cell_type": "code",
      "execution_count": 49,
      "metadata": {
        "colab": {
          "base_uri": "https://localhost:8080/"
        },
        "id": "tk8XKh8Msj7d",
        "outputId": "0e2cf41e-35e9-4bb4-8c3b-13366f75f921"
      },
      "outputs": [
        {
          "output_type": "execute_result",
          "data": {
            "text/plain": [
              "(425404, 14)"
            ]
          },
          "metadata": {},
          "execution_count": 49
        }
      ],
      "source": [
        "df_pp.shape"
      ]
    },
    {
      "cell_type": "code",
      "execution_count": 50,
      "metadata": {
        "colab": {
          "base_uri": "https://localhost:8080/"
        },
        "id": "nBd-UpTEslye",
        "outputId": "c638cc1d-4cd7-4041-854d-69e1a2a6a835"
      },
      "outputs": [
        {
          "output_type": "execute_result",
          "data": {
            "text/plain": [
              "(425556, 13)"
            ]
          },
          "metadata": {},
          "execution_count": 50
        }
      ],
      "source": [
        "df_pred.shape"
      ]
    },
    {
      "cell_type": "code",
      "execution_count": 51,
      "metadata": {
        "colab": {
          "base_uri": "https://localhost:8080/"
        },
        "id": "2BZVL3vwuzJn",
        "outputId": "603c03ba-c9ef-4040-e9bf-8db3cc868cbc"
      },
      "outputs": [
        {
          "output_type": "execute_result",
          "data": {
            "text/plain": [
              "-152"
            ]
          },
          "metadata": {},
          "execution_count": 51
        }
      ],
      "source": [
        "(df_pp.shape[0])-(df_pred.shape[0])"
      ]
    },
    {
      "cell_type": "code",
      "execution_count": 52,
      "metadata": {
        "colab": {
          "base_uri": "https://localhost:8080/",
          "height": 357
        },
        "id": "_GYbm0t3CBpY",
        "outputId": "d15af5c7-805c-4a20-fe89-88951de45881"
      },
      "outputs": [
        {
          "output_type": "execute_result",
          "data": {
            "text/plain": [
              "    pk_cid pk_partition entry_date entry_channel active_customer  \\\n",
              "0  1432296   2019-01-01 2018-08-01           KHQ             0.0   \n",
              "1  1432294   2019-01-01 2018-08-01           KHQ             1.0   \n",
              "2  1432293   2019-01-01 2018-08-01           KHQ             0.0   \n",
              "3  1432292   2019-01-01 2018-08-01           KHQ             0.0   \n",
              "4  1432297   2019-01-01 2018-08-01           KHQ             0.0   \n",
              "\n",
              "              segment country_id region_code gender  age deceased     salary  \\\n",
              "0  03 - UNIVERSITARIO         ES         3.0      M   20        N   34745.28   \n",
              "1  03 - UNIVERSITARIO         ES        12.0      F   25        N  184449.27   \n",
              "2  03 - UNIVERSITARIO         ES         8.0      F   20        N   67044.99   \n",
              "3  03 - UNIVERSITARIO         ES         3.0      M   23        N   42478.02   \n",
              "4  03 - UNIVERSITARIO         ES        45.0      F   20        N   89482.35   \n",
              "\n",
              "  pension_plan  antiquity  \n",
              "0            0          5  \n",
              "1            0          5  \n",
              "2            0          5  \n",
              "3            0          5  \n",
              "4            0          5  "
            ],
            "text/html": [
              "\n",
              "  <div id=\"df-e22a0779-83c2-49db-b3fe-8bebd3b54a59\">\n",
              "    <div class=\"colab-df-container\">\n",
              "      <div>\n",
              "<style scoped>\n",
              "    .dataframe tbody tr th:only-of-type {\n",
              "        vertical-align: middle;\n",
              "    }\n",
              "\n",
              "    .dataframe tbody tr th {\n",
              "        vertical-align: top;\n",
              "    }\n",
              "\n",
              "    .dataframe thead th {\n",
              "        text-align: right;\n",
              "    }\n",
              "</style>\n",
              "<table border=\"1\" class=\"dataframe\">\n",
              "  <thead>\n",
              "    <tr style=\"text-align: right;\">\n",
              "      <th></th>\n",
              "      <th>pk_cid</th>\n",
              "      <th>pk_partition</th>\n",
              "      <th>entry_date</th>\n",
              "      <th>entry_channel</th>\n",
              "      <th>active_customer</th>\n",
              "      <th>segment</th>\n",
              "      <th>country_id</th>\n",
              "      <th>region_code</th>\n",
              "      <th>gender</th>\n",
              "      <th>age</th>\n",
              "      <th>deceased</th>\n",
              "      <th>salary</th>\n",
              "      <th>pension_plan</th>\n",
              "      <th>antiquity</th>\n",
              "    </tr>\n",
              "  </thead>\n",
              "  <tbody>\n",
              "    <tr>\n",
              "      <th>0</th>\n",
              "      <td>1432296</td>\n",
              "      <td>2019-01-01</td>\n",
              "      <td>2018-08-01</td>\n",
              "      <td>KHQ</td>\n",
              "      <td>0.0</td>\n",
              "      <td>03 - UNIVERSITARIO</td>\n",
              "      <td>ES</td>\n",
              "      <td>3.0</td>\n",
              "      <td>M</td>\n",
              "      <td>20</td>\n",
              "      <td>N</td>\n",
              "      <td>34745.28</td>\n",
              "      <td>0</td>\n",
              "      <td>5</td>\n",
              "    </tr>\n",
              "    <tr>\n",
              "      <th>1</th>\n",
              "      <td>1432294</td>\n",
              "      <td>2019-01-01</td>\n",
              "      <td>2018-08-01</td>\n",
              "      <td>KHQ</td>\n",
              "      <td>1.0</td>\n",
              "      <td>03 - UNIVERSITARIO</td>\n",
              "      <td>ES</td>\n",
              "      <td>12.0</td>\n",
              "      <td>F</td>\n",
              "      <td>25</td>\n",
              "      <td>N</td>\n",
              "      <td>184449.27</td>\n",
              "      <td>0</td>\n",
              "      <td>5</td>\n",
              "    </tr>\n",
              "    <tr>\n",
              "      <th>2</th>\n",
              "      <td>1432293</td>\n",
              "      <td>2019-01-01</td>\n",
              "      <td>2018-08-01</td>\n",
              "      <td>KHQ</td>\n",
              "      <td>0.0</td>\n",
              "      <td>03 - UNIVERSITARIO</td>\n",
              "      <td>ES</td>\n",
              "      <td>8.0</td>\n",
              "      <td>F</td>\n",
              "      <td>20</td>\n",
              "      <td>N</td>\n",
              "      <td>67044.99</td>\n",
              "      <td>0</td>\n",
              "      <td>5</td>\n",
              "    </tr>\n",
              "    <tr>\n",
              "      <th>3</th>\n",
              "      <td>1432292</td>\n",
              "      <td>2019-01-01</td>\n",
              "      <td>2018-08-01</td>\n",
              "      <td>KHQ</td>\n",
              "      <td>0.0</td>\n",
              "      <td>03 - UNIVERSITARIO</td>\n",
              "      <td>ES</td>\n",
              "      <td>3.0</td>\n",
              "      <td>M</td>\n",
              "      <td>23</td>\n",
              "      <td>N</td>\n",
              "      <td>42478.02</td>\n",
              "      <td>0</td>\n",
              "      <td>5</td>\n",
              "    </tr>\n",
              "    <tr>\n",
              "      <th>4</th>\n",
              "      <td>1432297</td>\n",
              "      <td>2019-01-01</td>\n",
              "      <td>2018-08-01</td>\n",
              "      <td>KHQ</td>\n",
              "      <td>0.0</td>\n",
              "      <td>03 - UNIVERSITARIO</td>\n",
              "      <td>ES</td>\n",
              "      <td>45.0</td>\n",
              "      <td>F</td>\n",
              "      <td>20</td>\n",
              "      <td>N</td>\n",
              "      <td>89482.35</td>\n",
              "      <td>0</td>\n",
              "      <td>5</td>\n",
              "    </tr>\n",
              "  </tbody>\n",
              "</table>\n",
              "</div>\n",
              "      <button class=\"colab-df-convert\" onclick=\"convertToInteractive('df-e22a0779-83c2-49db-b3fe-8bebd3b54a59')\"\n",
              "              title=\"Convert this dataframe to an interactive table.\"\n",
              "              style=\"display:none;\">\n",
              "        \n",
              "  <svg xmlns=\"http://www.w3.org/2000/svg\" height=\"24px\"viewBox=\"0 0 24 24\"\n",
              "       width=\"24px\">\n",
              "    <path d=\"M0 0h24v24H0V0z\" fill=\"none\"/>\n",
              "    <path d=\"M18.56 5.44l.94 2.06.94-2.06 2.06-.94-2.06-.94-.94-2.06-.94 2.06-2.06.94zm-11 1L8.5 8.5l.94-2.06 2.06-.94-2.06-.94L8.5 2.5l-.94 2.06-2.06.94zm10 10l.94 2.06.94-2.06 2.06-.94-2.06-.94-.94-2.06-.94 2.06-2.06.94z\"/><path d=\"M17.41 7.96l-1.37-1.37c-.4-.4-.92-.59-1.43-.59-.52 0-1.04.2-1.43.59L10.3 9.45l-7.72 7.72c-.78.78-.78 2.05 0 2.83L4 21.41c.39.39.9.59 1.41.59.51 0 1.02-.2 1.41-.59l7.78-7.78 2.81-2.81c.8-.78.8-2.07 0-2.86zM5.41 20L4 18.59l7.72-7.72 1.47 1.35L5.41 20z\"/>\n",
              "  </svg>\n",
              "      </button>\n",
              "      \n",
              "  <style>\n",
              "    .colab-df-container {\n",
              "      display:flex;\n",
              "      flex-wrap:wrap;\n",
              "      gap: 12px;\n",
              "    }\n",
              "\n",
              "    .colab-df-convert {\n",
              "      background-color: #E8F0FE;\n",
              "      border: none;\n",
              "      border-radius: 50%;\n",
              "      cursor: pointer;\n",
              "      display: none;\n",
              "      fill: #1967D2;\n",
              "      height: 32px;\n",
              "      padding: 0 0 0 0;\n",
              "      width: 32px;\n",
              "    }\n",
              "\n",
              "    .colab-df-convert:hover {\n",
              "      background-color: #E2EBFA;\n",
              "      box-shadow: 0px 1px 2px rgba(60, 64, 67, 0.3), 0px 1px 3px 1px rgba(60, 64, 67, 0.15);\n",
              "      fill: #174EA6;\n",
              "    }\n",
              "\n",
              "    [theme=dark] .colab-df-convert {\n",
              "      background-color: #3B4455;\n",
              "      fill: #D2E3FC;\n",
              "    }\n",
              "\n",
              "    [theme=dark] .colab-df-convert:hover {\n",
              "      background-color: #434B5C;\n",
              "      box-shadow: 0px 1px 3px 1px rgba(0, 0, 0, 0.15);\n",
              "      filter: drop-shadow(0px 1px 2px rgba(0, 0, 0, 0.3));\n",
              "      fill: #FFFFFF;\n",
              "    }\n",
              "  </style>\n",
              "\n",
              "      <script>\n",
              "        const buttonEl =\n",
              "          document.querySelector('#df-e22a0779-83c2-49db-b3fe-8bebd3b54a59 button.colab-df-convert');\n",
              "        buttonEl.style.display =\n",
              "          google.colab.kernel.accessAllowed ? 'block' : 'none';\n",
              "\n",
              "        async function convertToInteractive(key) {\n",
              "          const element = document.querySelector('#df-e22a0779-83c2-49db-b3fe-8bebd3b54a59');\n",
              "          const dataTable =\n",
              "            await google.colab.kernel.invokeFunction('convertToInteractive',\n",
              "                                                     [key], {});\n",
              "          if (!dataTable) return;\n",
              "\n",
              "          const docLinkHtml = 'Like what you see? Visit the ' +\n",
              "            '<a target=\"_blank\" href=https://colab.research.google.com/notebooks/data_table.ipynb>data table notebook</a>'\n",
              "            + ' to learn more about interactive tables.';\n",
              "          element.innerHTML = '';\n",
              "          dataTable['output_type'] = 'display_data';\n",
              "          await google.colab.output.renderOutput(dataTable, element);\n",
              "          const docLink = document.createElement('div');\n",
              "          docLink.innerHTML = docLinkHtml;\n",
              "          element.appendChild(docLink);\n",
              "        }\n",
              "      </script>\n",
              "    </div>\n",
              "  </div>\n",
              "  "
            ]
          },
          "metadata": {},
          "execution_count": 52
        }
      ],
      "source": [
        "df_pp.head()"
      ]
    },
    {
      "cell_type": "code",
      "execution_count": 53,
      "metadata": {
        "colab": {
          "base_uri": "https://localhost:8080/",
          "height": 357
        },
        "id": "-8-zeGPkCMZt",
        "outputId": "c1afadfb-9597-45f5-b964-85c77d461cd9"
      },
      "outputs": [
        {
          "output_type": "execute_result",
          "data": {
            "text/plain": [
              "         pk_cid pk_partition entry_date entry_channel active_customer  \\\n",
              "425467  1036408   2019-01-01 2015-07-01           KHE             1.0   \n",
              "425468  1036429   2019-01-01 2015-07-01           KHE             0.0   \n",
              "425469  1036406   2019-01-01 2015-07-01           KHE             1.0   \n",
              "425470  1036405   2019-01-01 2015-07-01           KHE             1.0   \n",
              "425471  1036407   2019-01-01 2015-07-01           KHE             1.0   \n",
              "\n",
              "                   segment country_id region_code gender  age deceased  \\\n",
              "425467  03 - UNIVERSITARIO         ES        34.0      F   23        N   \n",
              "425468  03 - UNIVERSITARIO         ES        47.0      F   23        N   \n",
              "425469  03 - UNIVERSITARIO         ES        47.0      M   24        N   \n",
              "425470  03 - UNIVERSITARIO         ES        37.0      F   25        N   \n",
              "425471  03 - UNIVERSITARIO         ES        47.0      F   23        N   \n",
              "\n",
              "          salary pension_plan  antiquity  \n",
              "425467  42691.86            0         42  \n",
              "425468  81484.08            0         42  \n",
              "425469  81952.35            0         42  \n",
              "425470  38123.49            0         42  \n",
              "425471  44256.39            0         42  "
            ],
            "text/html": [
              "\n",
              "  <div id=\"df-fcea00f6-d6e1-4aa6-98af-f8912b2d6db1\">\n",
              "    <div class=\"colab-df-container\">\n",
              "      <div>\n",
              "<style scoped>\n",
              "    .dataframe tbody tr th:only-of-type {\n",
              "        vertical-align: middle;\n",
              "    }\n",
              "\n",
              "    .dataframe tbody tr th {\n",
              "        vertical-align: top;\n",
              "    }\n",
              "\n",
              "    .dataframe thead th {\n",
              "        text-align: right;\n",
              "    }\n",
              "</style>\n",
              "<table border=\"1\" class=\"dataframe\">\n",
              "  <thead>\n",
              "    <tr style=\"text-align: right;\">\n",
              "      <th></th>\n",
              "      <th>pk_cid</th>\n",
              "      <th>pk_partition</th>\n",
              "      <th>entry_date</th>\n",
              "      <th>entry_channel</th>\n",
              "      <th>active_customer</th>\n",
              "      <th>segment</th>\n",
              "      <th>country_id</th>\n",
              "      <th>region_code</th>\n",
              "      <th>gender</th>\n",
              "      <th>age</th>\n",
              "      <th>deceased</th>\n",
              "      <th>salary</th>\n",
              "      <th>pension_plan</th>\n",
              "      <th>antiquity</th>\n",
              "    </tr>\n",
              "  </thead>\n",
              "  <tbody>\n",
              "    <tr>\n",
              "      <th>425467</th>\n",
              "      <td>1036408</td>\n",
              "      <td>2019-01-01</td>\n",
              "      <td>2015-07-01</td>\n",
              "      <td>KHE</td>\n",
              "      <td>1.0</td>\n",
              "      <td>03 - UNIVERSITARIO</td>\n",
              "      <td>ES</td>\n",
              "      <td>34.0</td>\n",
              "      <td>F</td>\n",
              "      <td>23</td>\n",
              "      <td>N</td>\n",
              "      <td>42691.86</td>\n",
              "      <td>0</td>\n",
              "      <td>42</td>\n",
              "    </tr>\n",
              "    <tr>\n",
              "      <th>425468</th>\n",
              "      <td>1036429</td>\n",
              "      <td>2019-01-01</td>\n",
              "      <td>2015-07-01</td>\n",
              "      <td>KHE</td>\n",
              "      <td>0.0</td>\n",
              "      <td>03 - UNIVERSITARIO</td>\n",
              "      <td>ES</td>\n",
              "      <td>47.0</td>\n",
              "      <td>F</td>\n",
              "      <td>23</td>\n",
              "      <td>N</td>\n",
              "      <td>81484.08</td>\n",
              "      <td>0</td>\n",
              "      <td>42</td>\n",
              "    </tr>\n",
              "    <tr>\n",
              "      <th>425469</th>\n",
              "      <td>1036406</td>\n",
              "      <td>2019-01-01</td>\n",
              "      <td>2015-07-01</td>\n",
              "      <td>KHE</td>\n",
              "      <td>1.0</td>\n",
              "      <td>03 - UNIVERSITARIO</td>\n",
              "      <td>ES</td>\n",
              "      <td>47.0</td>\n",
              "      <td>M</td>\n",
              "      <td>24</td>\n",
              "      <td>N</td>\n",
              "      <td>81952.35</td>\n",
              "      <td>0</td>\n",
              "      <td>42</td>\n",
              "    </tr>\n",
              "    <tr>\n",
              "      <th>425470</th>\n",
              "      <td>1036405</td>\n",
              "      <td>2019-01-01</td>\n",
              "      <td>2015-07-01</td>\n",
              "      <td>KHE</td>\n",
              "      <td>1.0</td>\n",
              "      <td>03 - UNIVERSITARIO</td>\n",
              "      <td>ES</td>\n",
              "      <td>37.0</td>\n",
              "      <td>F</td>\n",
              "      <td>25</td>\n",
              "      <td>N</td>\n",
              "      <td>38123.49</td>\n",
              "      <td>0</td>\n",
              "      <td>42</td>\n",
              "    </tr>\n",
              "    <tr>\n",
              "      <th>425471</th>\n",
              "      <td>1036407</td>\n",
              "      <td>2019-01-01</td>\n",
              "      <td>2015-07-01</td>\n",
              "      <td>KHE</td>\n",
              "      <td>1.0</td>\n",
              "      <td>03 - UNIVERSITARIO</td>\n",
              "      <td>ES</td>\n",
              "      <td>47.0</td>\n",
              "      <td>F</td>\n",
              "      <td>23</td>\n",
              "      <td>N</td>\n",
              "      <td>44256.39</td>\n",
              "      <td>0</td>\n",
              "      <td>42</td>\n",
              "    </tr>\n",
              "  </tbody>\n",
              "</table>\n",
              "</div>\n",
              "      <button class=\"colab-df-convert\" onclick=\"convertToInteractive('df-fcea00f6-d6e1-4aa6-98af-f8912b2d6db1')\"\n",
              "              title=\"Convert this dataframe to an interactive table.\"\n",
              "              style=\"display:none;\">\n",
              "        \n",
              "  <svg xmlns=\"http://www.w3.org/2000/svg\" height=\"24px\"viewBox=\"0 0 24 24\"\n",
              "       width=\"24px\">\n",
              "    <path d=\"M0 0h24v24H0V0z\" fill=\"none\"/>\n",
              "    <path d=\"M18.56 5.44l.94 2.06.94-2.06 2.06-.94-2.06-.94-.94-2.06-.94 2.06-2.06.94zm-11 1L8.5 8.5l.94-2.06 2.06-.94-2.06-.94L8.5 2.5l-.94 2.06-2.06.94zm10 10l.94 2.06.94-2.06 2.06-.94-2.06-.94-.94-2.06-.94 2.06-2.06.94z\"/><path d=\"M17.41 7.96l-1.37-1.37c-.4-.4-.92-.59-1.43-.59-.52 0-1.04.2-1.43.59L10.3 9.45l-7.72 7.72c-.78.78-.78 2.05 0 2.83L4 21.41c.39.39.9.59 1.41.59.51 0 1.02-.2 1.41-.59l7.78-7.78 2.81-2.81c.8-.78.8-2.07 0-2.86zM5.41 20L4 18.59l7.72-7.72 1.47 1.35L5.41 20z\"/>\n",
              "  </svg>\n",
              "      </button>\n",
              "      \n",
              "  <style>\n",
              "    .colab-df-container {\n",
              "      display:flex;\n",
              "      flex-wrap:wrap;\n",
              "      gap: 12px;\n",
              "    }\n",
              "\n",
              "    .colab-df-convert {\n",
              "      background-color: #E8F0FE;\n",
              "      border: none;\n",
              "      border-radius: 50%;\n",
              "      cursor: pointer;\n",
              "      display: none;\n",
              "      fill: #1967D2;\n",
              "      height: 32px;\n",
              "      padding: 0 0 0 0;\n",
              "      width: 32px;\n",
              "    }\n",
              "\n",
              "    .colab-df-convert:hover {\n",
              "      background-color: #E2EBFA;\n",
              "      box-shadow: 0px 1px 2px rgba(60, 64, 67, 0.3), 0px 1px 3px 1px rgba(60, 64, 67, 0.15);\n",
              "      fill: #174EA6;\n",
              "    }\n",
              "\n",
              "    [theme=dark] .colab-df-convert {\n",
              "      background-color: #3B4455;\n",
              "      fill: #D2E3FC;\n",
              "    }\n",
              "\n",
              "    [theme=dark] .colab-df-convert:hover {\n",
              "      background-color: #434B5C;\n",
              "      box-shadow: 0px 1px 3px 1px rgba(0, 0, 0, 0.15);\n",
              "      filter: drop-shadow(0px 1px 2px rgba(0, 0, 0, 0.3));\n",
              "      fill: #FFFFFF;\n",
              "    }\n",
              "  </style>\n",
              "\n",
              "      <script>\n",
              "        const buttonEl =\n",
              "          document.querySelector('#df-fcea00f6-d6e1-4aa6-98af-f8912b2d6db1 button.colab-df-convert');\n",
              "        buttonEl.style.display =\n",
              "          google.colab.kernel.accessAllowed ? 'block' : 'none';\n",
              "\n",
              "        async function convertToInteractive(key) {\n",
              "          const element = document.querySelector('#df-fcea00f6-d6e1-4aa6-98af-f8912b2d6db1');\n",
              "          const dataTable =\n",
              "            await google.colab.kernel.invokeFunction('convertToInteractive',\n",
              "                                                     [key], {});\n",
              "          if (!dataTable) return;\n",
              "\n",
              "          const docLinkHtml = 'Like what you see? Visit the ' +\n",
              "            '<a target=\"_blank\" href=https://colab.research.google.com/notebooks/data_table.ipynb>data table notebook</a>'\n",
              "            + ' to learn more about interactive tables.';\n",
              "          element.innerHTML = '';\n",
              "          dataTable['output_type'] = 'display_data';\n",
              "          await google.colab.output.renderOutput(dataTable, element);\n",
              "          const docLink = document.createElement('div');\n",
              "          docLink.innerHTML = docLinkHtml;\n",
              "          element.appendChild(docLink);\n",
              "        }\n",
              "      </script>\n",
              "    </div>\n",
              "  </div>\n",
              "  "
            ]
          },
          "metadata": {},
          "execution_count": 53
        }
      ],
      "source": [
        "df_pp.tail()"
      ]
    },
    {
      "cell_type": "markdown",
      "metadata": {
        "id": "gSWoGVPcxsMg"
      },
      "source": [
        "#Tratamiento de nulos"
      ]
    },
    {
      "cell_type": "markdown",
      "metadata": {
        "id": "q4lQG1c5xCrV"
      },
      "source": [
        "Nulos en el dataset de entrenamiento"
      ]
    },
    {
      "cell_type": "code",
      "execution_count": 54,
      "metadata": {
        "colab": {
          "base_uri": "https://localhost:8080/"
        },
        "id": "_5Eq6P2KxrIG",
        "outputId": "c9e81779-db8d-4f0d-9dde-5aeced27bd70"
      },
      "outputs": [
        {
          "output_type": "execute_result",
          "data": {
            "text/plain": [
              "pk_cid                  0\n",
              "pk_partition            0\n",
              "entry_date              0\n",
              "entry_channel        6426\n",
              "active_customer         0\n",
              "segment              6541\n",
              "country_id              0\n",
              "region_code           147\n",
              "gender                  2\n",
              "age                     0\n",
              "deceased                0\n",
              "salary             130990\n",
              "pension_plan            0\n",
              "antiquity               0\n",
              "dtype: int64"
            ]
          },
          "metadata": {},
          "execution_count": 54
        }
      ],
      "source": [
        "df_pp.isnull().sum()"
      ]
    },
    {
      "cell_type": "code",
      "execution_count": 55,
      "metadata": {
        "colab": {
          "base_uri": "https://localhost:8080/"
        },
        "id": "FpmBY3UMtPbd",
        "outputId": "1e6dbb7c-9464-4dcf-a56a-d66e11db7ee8"
      },
      "outputs": [
        {
          "output_type": "execute_result",
          "data": {
            "text/plain": [
              " 0    418797\n",
              " 1      4647\n",
              "-1      1960\n",
              "Name: pension_plan, dtype: int64"
            ]
          },
          "metadata": {},
          "execution_count": 55
        }
      ],
      "source": [
        "# Revisamos la cantidad de registros con el producto pension plan contratado, sin contratar y dado de baja, en este caso no consideraremos los dados de baja\n",
        "df_pp['pension_plan'].value_counts()"
      ]
    },
    {
      "cell_type": "code",
      "execution_count": 56,
      "metadata": {
        "id": "vMuzfLaYtkUJ"
      },
      "outputs": [],
      "source": [
        "# Separamos el dataframe de entrenamiento entre los productos contratados y no contratados\n",
        "df_pp1 = df_pp[df_pp['pension_plan']==1]  # Registros con pension plan contratado\n",
        "df_pp0 = df_pp[df_pp['pension_plan']==0]  # Registros con pension plan sin contratar"
      ]
    },
    {
      "cell_type": "code",
      "execution_count": 57,
      "metadata": {
        "colab": {
          "base_uri": "https://localhost:8080/"
        },
        "id": "QEgRIxbEuCa3",
        "outputId": "50a17547-de57-4d7c-b369-8517e0b9a773"
      },
      "outputs": [
        {
          "output_type": "execute_result",
          "data": {
            "text/plain": [
              "pk_cid                0\n",
              "pk_partition          0\n",
              "entry_date            0\n",
              "entry_channel       190\n",
              "active_customer       0\n",
              "segment             192\n",
              "country_id            0\n",
              "region_code           0\n",
              "gender                0\n",
              "age                   0\n",
              "deceased              0\n",
              "salary             1210\n",
              "pension_plan          0\n",
              "antiquity             0\n",
              "dtype: int64"
            ]
          },
          "metadata": {},
          "execution_count": 57
        }
      ],
      "source": [
        "# Trataremos los nulos de los registros con el producto contratado ya que contamos con una cantidad limitada de estos\n",
        "df_pp1.isnull().sum()"
      ]
    },
    {
      "cell_type": "code",
      "execution_count": 58,
      "metadata": {
        "colab": {
          "base_uri": "https://localhost:8080/"
        },
        "id": "nVq02jvWuLJi",
        "outputId": "55591746-8b78-4c8a-a2d9-1298a174522a"
      },
      "outputs": [
        {
          "output_type": "execute_result",
          "data": {
            "text/plain": [
              "pk_cid                  0\n",
              "pk_partition            0\n",
              "entry_date              0\n",
              "entry_channel        6221\n",
              "active_customer         0\n",
              "segment              6334\n",
              "country_id              0\n",
              "region_code           147\n",
              "gender                  2\n",
              "age                     0\n",
              "deceased                0\n",
              "salary             129380\n",
              "pension_plan            0\n",
              "antiquity               0\n",
              "dtype: int64"
            ]
          },
          "metadata": {},
          "execution_count": 58
        }
      ],
      "source": [
        "# Debido a que contamos con 418797 registros en total que no contrataron el producto y solo necesitamos 4647 para equilibrar el dataset de entrenamiento, eliminaremos los registros con nulos\n",
        "df_pp0.isnull().sum()"
      ]
    },
    {
      "cell_type": "code",
      "execution_count": 59,
      "metadata": {
        "id": "aJ12_MFpvzuM"
      },
      "outputs": [],
      "source": [
        "df_pp0.dropna(axis=0,inplace=True)"
      ]
    },
    {
      "cell_type": "code",
      "execution_count": 60,
      "metadata": {
        "colab": {
          "base_uri": "https://localhost:8080/"
        },
        "id": "4wrubJ_PwVB7",
        "outputId": "e74672d5-4b0f-4477-e170-aa6febdeb0e4"
      },
      "outputs": [
        {
          "output_type": "execute_result",
          "data": {
            "text/plain": [
              "(289358, 14)"
            ]
          },
          "metadata": {},
          "execution_count": 60
        }
      ],
      "source": [
        "df_pp0.shape"
      ]
    },
    {
      "cell_type": "code",
      "execution_count": 61,
      "metadata": {
        "colab": {
          "base_uri": "https://localhost:8080/"
        },
        "id": "QUFQGun7wXrX",
        "outputId": "37b76584-23b2-4ce5-ef47-2f09ed1f572b"
      },
      "outputs": [
        {
          "output_type": "execute_result",
          "data": {
            "text/plain": [
              "pk_cid             0\n",
              "pk_partition       0\n",
              "entry_date         0\n",
              "entry_channel      0\n",
              "active_customer    0\n",
              "segment            0\n",
              "country_id         0\n",
              "region_code        0\n",
              "gender             0\n",
              "age                0\n",
              "deceased           0\n",
              "salary             0\n",
              "pension_plan       0\n",
              "antiquity          0\n",
              "dtype: int64"
            ]
          },
          "metadata": {},
          "execution_count": 61
        }
      ],
      "source": [
        "# Verificamos que se hayan eliminado los registros con nulos\n",
        "df_pp0.isnull().sum()"
      ]
    },
    {
      "cell_type": "code",
      "execution_count": 62,
      "metadata": {
        "id": "vHveJEbEx_rJ"
      },
      "outputs": [],
      "source": [
        "df_pp = pd.concat([df_pp1,df_pp0])"
      ]
    },
    {
      "cell_type": "code",
      "execution_count": 63,
      "metadata": {
        "colab": {
          "base_uri": "https://localhost:8080/"
        },
        "id": "TL0QlN5eyODB",
        "outputId": "857b0869-6a75-4986-c9b0-11dca1cf243b"
      },
      "outputs": [
        {
          "output_type": "execute_result",
          "data": {
            "text/plain": [
              "(294005, 14)"
            ]
          },
          "metadata": {},
          "execution_count": 63
        }
      ],
      "source": [
        "df_pp.shape"
      ]
    },
    {
      "cell_type": "markdown",
      "metadata": {
        "id": "PbYWQHjKw1Nt"
      },
      "source": [
        "Nulos en el dataset de predicción"
      ]
    },
    {
      "cell_type": "code",
      "execution_count": 64,
      "metadata": {
        "colab": {
          "base_uri": "https://localhost:8080/"
        },
        "id": "L1nqEXVHw7Bq",
        "outputId": "ac3b7b2c-6da8-4946-ff6a-ca7b827f9c0f"
      },
      "outputs": [
        {
          "output_type": "execute_result",
          "data": {
            "text/plain": [
              "pk_cid                  0\n",
              "pk_partition            0\n",
              "entry_date              0\n",
              "entry_channel        4485\n",
              "active_customer         0\n",
              "segment              4591\n",
              "country_id              0\n",
              "region_code           158\n",
              "gender                  2\n",
              "age                     0\n",
              "deceased                0\n",
              "salary             144660\n",
              "antiquity               0\n",
              "dtype: int64"
            ]
          },
          "metadata": {},
          "execution_count": 64
        }
      ],
      "source": [
        "df_pred.isnull().sum()"
      ]
    },
    {
      "cell_type": "code",
      "execution_count": 65,
      "metadata": {
        "colab": {
          "base_uri": "https://localhost:8080/"
        },
        "id": "8hVPejjgxK1z",
        "outputId": "f9aaf73e-741e-4009-c613-d61a739ca75c"
      },
      "outputs": [
        {
          "output_type": "execute_result",
          "data": {
            "text/plain": [
              "(425556, 13)"
            ]
          },
          "metadata": {},
          "execution_count": 65
        }
      ],
      "source": [
        "df_pred.shape"
      ]
    },
    {
      "cell_type": "code",
      "execution_count": 66,
      "metadata": {
        "id": "xeJFg1mUylXt"
      },
      "outputs": [],
      "source": [
        "# Eliminamos los registros con nulos del dataset de predicción, ya que habría una mayor afectación en la calidad de los datos si se rellenan con información errónea\n",
        "df_pred.dropna(axis=0,inplace=True)\n"
      ]
    },
    {
      "cell_type": "code",
      "execution_count": 67,
      "metadata": {
        "colab": {
          "base_uri": "https://localhost:8080/"
        },
        "id": "MpAyCmiUzJQz",
        "outputId": "c84ec3e2-79a0-4a24-8739-b7dc2071cd5b"
      },
      "outputs": [
        {
          "output_type": "execute_result",
          "data": {
            "text/plain": [
              "pk_cid             0\n",
              "pk_partition       0\n",
              "entry_date         0\n",
              "entry_channel      0\n",
              "active_customer    0\n",
              "segment            0\n",
              "country_id         0\n",
              "region_code        0\n",
              "gender             0\n",
              "age                0\n",
              "deceased           0\n",
              "salary             0\n",
              "antiquity          0\n",
              "dtype: int64"
            ]
          },
          "metadata": {},
          "execution_count": 67
        }
      ],
      "source": [
        "df_pred.isnull().sum()"
      ]
    },
    {
      "cell_type": "markdown",
      "metadata": {
        "id": "iCjnIeBXxn8Z"
      },
      "source": [
        "# Tratamiento de nulos"
      ]
    },
    {
      "cell_type": "code",
      "execution_count": 68,
      "metadata": {
        "colab": {
          "base_uri": "https://localhost:8080/"
        },
        "id": "Ysh6UCnUyP0n",
        "outputId": "abcf0515-95a9-4151-e84c-3ef6f1fefbaa"
      },
      "outputs": [
        {
          "output_type": "stream",
          "name": "stdout",
          "text": [
            "El valor mas frecuente en entry_channel es: 0    KHE\n",
            "Name: entry_channel, dtype: object\n",
            "El valor mas frecuente en segment es: 0    03 - UNIVERSITARIO\n",
            "Name: segment, dtype: object\n",
            "El valor mas frecuente en gender es: 0    F\n",
            "Name: gender, dtype: object\n"
          ]
        }
      ],
      "source": [
        "# Los nulos de nuestras variables categoricas los podemos sustituir por el valor que aparece con mayor frecuencia\n",
        "print('El valor mas frecuente en entry_channel es:',df_pp['entry_channel'].mode())\n",
        "print('El valor mas frecuente en segment es:',df_pp['segment'].mode())\n",
        "print('El valor mas frecuente en gender es:',df_pp['gender'].mode())"
      ]
    },
    {
      "cell_type": "code",
      "execution_count": 69,
      "metadata": {
        "id": "HiTtvEz8bMIW"
      },
      "outputs": [],
      "source": [
        "df_pp['entry_channel'].fillna(df_pp['entry_channel'].mode().iloc[0],inplace=True)\n",
        "df_pp['segment'].fillna(df_pp['segment'].mode().iloc[0],inplace=True)\n",
        "df_pp['gender'].fillna(df_pp['gender'].mode().iloc[0],inplace=True)"
      ]
    },
    {
      "cell_type": "code",
      "execution_count": 70,
      "metadata": {
        "colab": {
          "base_uri": "https://localhost:8080/"
        },
        "id": "EUT64C6Dyyxc",
        "outputId": "4d39e824-71ed-4054-d939-0c6a0bba5639"
      },
      "outputs": [
        {
          "output_type": "execute_result",
          "data": {
            "text/plain": [
              "0"
            ]
          },
          "metadata": {},
          "execution_count": 70
        }
      ],
      "source": [
        "# Para la columna region_code verificamos la cantidad de registros a los que no les aplica ya que corresponden a paises distintos a Espana\n",
        "df_pp[df_pp['country_id']!='ES'].shape[0]"
      ]
    },
    {
      "cell_type": "code",
      "execution_count": 71,
      "metadata": {
        "colab": {
          "base_uri": "https://localhost:8080/"
        },
        "id": "_qyNEuBHL49D",
        "outputId": "64b15ead-f62e-40d0-b95f-bf6c42c849ba"
      },
      "outputs": [
        {
          "output_type": "execute_result",
          "data": {
            "text/plain": [
              "count    2.927950e+05\n",
              "mean     1.164524e+05\n",
              "std      2.072380e+05\n",
              "min      1.202730e+03\n",
              "25%      6.155540e+04\n",
              "50%      8.881206e+04\n",
              "75%      1.321519e+05\n",
              "max      2.889440e+07\n",
              "Name: salary, dtype: float64"
            ]
          },
          "metadata": {},
          "execution_count": 71
        }
      ],
      "source": [
        "df_pp['salary'].describe()"
      ]
    },
    {
      "cell_type": "code",
      "execution_count": 72,
      "metadata": {
        "colab": {
          "base_uri": "https://localhost:8080/",
          "height": 465
        },
        "id": "3IzCu2c4OZ7q",
        "outputId": "067932ef-b544-45ff-8fdc-2cbc0be40e99"
      },
      "outputs": [
        {
          "output_type": "display_data",
          "data": {
            "text/plain": [
              "<Figure size 640x480 with 1 Axes>"
            ],
            "image/png": "[encoded data removed]"
          },
          "metadata": {}
        }
      ],
      "source": [
        "sns.scatterplot(data=df_pp, x='salary', y='pk_cid')\n",
        "plt.show()"
      ]
    },
    {
      "cell_type": "code",
      "execution_count": 73,
      "metadata": {
        "id": "q6YfHHAERb8E"
      },
      "outputs": [],
      "source": [
        "# Debido a que la variable salary contiene valores con outliers, podemos en este caso imputar los nulos con la mediana\n",
        "df_pp['salary'] = df_pp['salary'].fillna(df_pp['salary'].median())"
      ]
    },
    {
      "cell_type": "code",
      "execution_count": 74,
      "metadata": {
        "colab": {
          "base_uri": "https://localhost:8080/"
        },
        "id": "n1fL15-vXklH",
        "outputId": "2b040d89-cdc0-4341-9037-080fdc400b7e"
      },
      "outputs": [
        {
          "output_type": "execute_result",
          "data": {
            "text/plain": [
              "pk_cid             0\n",
              "pk_partition       0\n",
              "entry_date         0\n",
              "entry_channel      0\n",
              "active_customer    0\n",
              "segment            0\n",
              "country_id         0\n",
              "region_code        0\n",
              "gender             0\n",
              "age                0\n",
              "deceased           0\n",
              "salary             0\n",
              "pension_plan       0\n",
              "antiquity          0\n",
              "dtype: int64"
            ]
          },
          "metadata": {},
          "execution_count": 74
        }
      ],
      "source": [
        "df_pp.isnull().sum()"
      ]
    },
    {
      "cell_type": "markdown",
      "metadata": {
        "id": "U_BFL_ow0XGv"
      },
      "source": [
        "Variables Categóricas"
      ]
    },
    {
      "cell_type": "code",
      "execution_count": 75,
      "metadata": {
        "colab": {
          "base_uri": "https://localhost:8080/"
        },
        "id": "Rqc2iE4qLUGm",
        "outputId": "f5337fed-e0c4-42c0-ed03-319585cb7c18"
      },
      "outputs": [
        {
          "output_type": "execute_result",
          "data": {
            "text/plain": [
              "array(['N'], dtype=object)"
            ]
          },
          "metadata": {},
          "execution_count": 75
        }
      ],
      "source": [
        "# Eliminamos la columna 'deceased' ya que no aportará valor al modelo, antes nos aseguramos que tenga un solo valor en ambos datasets\n",
        "df_pp['deceased'].unique()"
      ]
    },
    {
      "cell_type": "code",
      "execution_count": 76,
      "metadata": {
        "colab": {
          "base_uri": "https://localhost:8080/"
        },
        "id": "tMcA6ZNhM0LW",
        "outputId": "ab5386a1-a5f0-4303-e0aa-683a1a9bdcae"
      },
      "outputs": [
        {
          "output_type": "execute_result",
          "data": {
            "text/plain": [
              "array(['N'], dtype=object)"
            ]
          },
          "metadata": {},
          "execution_count": 76
        }
      ],
      "source": [
        "df_pred['deceased'].unique()"
      ]
    },
    {
      "cell_type": "code",
      "execution_count": 77,
      "metadata": {
        "id": "h6cPhqYTM2rd"
      },
      "outputs": [],
      "source": [
        "df_pp.drop('deceased',axis=1,inplace=True)\n",
        "df_pred.drop('deceased',axis=1,inplace=True)"
      ]
    },
    {
      "cell_type": "code",
      "source": [
        "# Cambiamos la variable categórica pension_plan por entero\n",
        "df_pp['pension_plan'] = df_pp['pension_plan'].astype(int)"
      ],
      "metadata": {
        "id": "7WHnGXDLF5rq"
      },
      "execution_count": 78,
      "outputs": []
    },
    {
      "cell_type": "code",
      "execution_count": 79,
      "metadata": {
        "colab": {
          "base_uri": "https://localhost:8080/"
        },
        "id": "Zt09Bh7w0mYB",
        "outputId": "2517ad8e-8648-4d1b-eb28-a5f82b6332ee"
      },
      "outputs": [
        {
          "output_type": "execute_result",
          "data": {
            "text/plain": [
              "array(['KHQ', 'KHN', 'KHM', 'RED', 'KAT', 'KHO', 'KFA', 'KHL', 'KFC',\n",
              "       'KHE', 'KAS', '013', '007', 'KHK', 'KHP', 'KHF', 'KBG', 'KHC',\n",
              "       'KAE', 'KHD', 'KAZ', 'KCC', '004', 'KAY', 'KBZ', 'KBE', 'KBU',\n",
              "       'KAB', 'KBW', 'KDR', 'KCB', 'KCL', 'KAG', 'KBO', 'KCK', 'KAK',\n",
              "       'KEH', 'KCH', 'KAQ', 'KAR', 'KAM', 'KAJ', 'KAH', 'KFS', 'KAA',\n",
              "       'KFF', 'KFD', 'KGX', 'KBH', 'KEJ', 'KAW', 'KAF', 'KBY', 'KCI',\n",
              "       'KFK', 'KDT', 'KAD', 'KDH', 'KGC'], dtype=object)"
            ]
          },
          "metadata": {},
          "execution_count": 79
        }
      ],
      "source": [
        "# En el caso de las columnas entry_channel y country_id verificamos la cantidad de categorias que tenemos\n",
        "df_pp['entry_channel'].unique()"
      ]
    },
    {
      "cell_type": "code",
      "execution_count": 80,
      "metadata": {
        "colab": {
          "base_uri": "https://localhost:8080/"
        },
        "id": "yi70bdBkGaG8",
        "outputId": "7340e2f8-a10a-46dd-c97c-5f1a4ffb5972"
      },
      "outputs": [
        {
          "output_type": "execute_result",
          "data": {
            "text/plain": [
              "array(['013', 'KAT', 'KFC', 'KHL', 'KHK', 'KHM', 'KHE', 'KFA', 'KAR',\n",
              "       'KHN', '007', 'KHC', 'RED', 'KAG', 'KCH', 'KAZ', 'KAQ', 'KAJ',\n",
              "       'KAW', 'KHQ', 'KBG', 'KHO', 'KAY', 'KFD', 'KBH', 'KAA', 'KAE',\n",
              "       'KBY', 'KHD', 'KAM', 'KAF', 'KBZ', 'KCI', 'KAB', 'KFS', 'KAH',\n",
              "       'KFF', 'KGX', 'KAS', 'KBU', 'KBW', 'KCC', 'KCB', 'KDR', 'KCL',\n",
              "       'KCK', 'KBO', 'KDT', 'KAD', 'KHF', 'KHP', 'KAK', 'KDH', 'KFK',\n",
              "       'KEH', 'KGC'], dtype=object)"
            ]
          },
          "metadata": {},
          "execution_count": 80
        }
      ],
      "source": [
        "df_pred['entry_channel'].unique()"
      ]
    },
    {
      "cell_type": "code",
      "execution_count": 81,
      "metadata": {
        "colab": {
          "base_uri": "https://localhost:8080/"
        },
        "id": "sUYWRW1N-_py",
        "outputId": "604b6031-03e1-4f3f-bc7a-4534b60cf399"
      },
      "outputs": [
        {
          "output_type": "execute_result",
          "data": {
            "text/plain": [
              "59"
            ]
          },
          "metadata": {},
          "execution_count": 81
        }
      ],
      "source": [
        "df_pp['entry_channel'].nunique()"
      ]
    },
    {
      "cell_type": "code",
      "execution_count": 82,
      "metadata": {
        "colab": {
          "base_uri": "https://localhost:8080/"
        },
        "id": "BTxERl5wGi3n",
        "outputId": "c38df896-fbb4-4800-f03c-cd8db953d952"
      },
      "outputs": [
        {
          "output_type": "execute_result",
          "data": {
            "text/plain": [
              "56"
            ]
          },
          "metadata": {},
          "execution_count": 82
        }
      ],
      "source": [
        "df_pred['entry_channel'].nunique()"
      ]
    },
    {
      "cell_type": "code",
      "execution_count": 83,
      "metadata": {
        "colab": {
          "base_uri": "https://localhost:8080/"
        },
        "id": "vcpw1EJv8_hC",
        "outputId": "64a60bed-c881-46bc-e3cf-ca694667f21f"
      },
      "outputs": [
        {
          "output_type": "execute_result",
          "data": {
            "text/plain": [
              "KHE    159462\n",
              "KFC     47244\n",
              "KHQ     26436\n",
              "KAT     21204\n",
              "KHK     12488\n",
              "KHM      6638\n",
              "KHN      4790\n",
              "KHD      4016\n",
              "KFA      3710\n",
              "RED      3218\n",
              "KHL      2283\n",
              "KHF      1200\n",
              "KHO       350\n",
              "KAZ       308\n",
              "KHC       284\n",
              "KBG        96\n",
              "KHP        41\n",
              "007        37\n",
              "KEH        34\n",
              "013        21\n",
              "KAG        19\n",
              "KAS        18\n",
              "KBZ        11\n",
              "KAR        10\n",
              "KAA         9\n",
              "KAY         7\n",
              "KAB         7\n",
              "KAF         6\n",
              "KFD         5\n",
              "KAW         4\n",
              "KCC         4\n",
              "KCB         3\n",
              "KAH         3\n",
              "KAM         3\n",
              "KAE         3\n",
              "KCH         3\n",
              "KAQ         3\n",
              "KFF         2\n",
              "KAJ         2\n",
              "KAK         2\n",
              "KDH         2\n",
              "KAD         2\n",
              "KBH         1\n",
              "KBY         1\n",
              "KCI         1\n",
              "KFK         1\n",
              "KDT         1\n",
              "KEJ         1\n",
              "KDR         1\n",
              "KGX         1\n",
              "KFS         1\n",
              "KCK         1\n",
              "KBO         1\n",
              "KCL         1\n",
              "KBW         1\n",
              "KBU         1\n",
              "KBE         1\n",
              "004         1\n",
              "KGC         1\n",
              "Name: entry_channel, dtype: int64"
            ]
          },
          "metadata": {},
          "execution_count": 83
        }
      ],
      "source": [
        "df_pp['entry_channel'].value_counts()"
      ]
    },
    {
      "cell_type": "code",
      "execution_count": 84,
      "metadata": {
        "colab": {
          "base_uri": "https://localhost:8080/"
        },
        "id": "vH_6xIERGzPH",
        "outputId": "31f21af1-731d-480d-ea95-d58cff28bfa9"
      },
      "outputs": [
        {
          "output_type": "execute_result",
          "data": {
            "text/plain": [
              "KHE    157096\n",
              "KFC     42590\n",
              "KHQ     26180\n",
              "KAT     19150\n",
              "KHK     11346\n",
              "KHM      5817\n",
              "KHN      4316\n",
              "KHD      3977\n",
              "KFA      3170\n",
              "RED      2753\n",
              "KHL      2080\n",
              "KHF      1165\n",
              "KHO       316\n",
              "KAZ       273\n",
              "KHC       259\n",
              "KBG        88\n",
              "KHP        40\n",
              "KEH        34\n",
              "007        32\n",
              "KAG        18\n",
              "KAS        17\n",
              "013        15\n",
              "KAR        10\n",
              "KBZ         9\n",
              "KAA         8\n",
              "KAB         7\n",
              "KAY         6\n",
              "KAF         5\n",
              "KFD         5\n",
              "KCB         3\n",
              "KAM         3\n",
              "KAH         3\n",
              "KAW         3\n",
              "KCH         3\n",
              "KAQ         3\n",
              "KCC         3\n",
              "KFF         2\n",
              "KAE         2\n",
              "KDH         2\n",
              "KAD         2\n",
              "KAK         2\n",
              "KAJ         2\n",
              "KFK         1\n",
              "KBO         1\n",
              "KDT         1\n",
              "KBU         1\n",
              "KCK         1\n",
              "KCL         1\n",
              "KDR         1\n",
              "KBW         1\n",
              "KGX         1\n",
              "KFS         1\n",
              "KCI         1\n",
              "KBY         1\n",
              "KBH         1\n",
              "KGC         1\n",
              "Name: entry_channel, dtype: int64"
            ]
          },
          "metadata": {},
          "execution_count": 84
        }
      ],
      "source": [
        "df_pred['entry_channel'].value_counts()"
      ]
    },
    {
      "cell_type": "code",
      "execution_count": 85,
      "metadata": {
        "id": "LvNToLrU_G-p"
      },
      "outputs": [],
      "source": [
        "# Reducimos las 59 categorías de entry channel a 12 por frecuencia de aparición, en la categoría 12 incluimos el resto\n",
        "categorias_a_agrupar = ['KHO','KAS', '013', '007', 'KHP', 'KHF', 'KBG', 'KHC','KAE', 'KAZ', 'KCC', '004', 'KAY', 'KBZ',\n",
        "                        'KBE', 'KBU','KAB', 'KBW', 'KDR', 'KCB', 'KCL', 'KAG', 'KBO', 'KCK', 'KAK','KEH', 'KCH', 'KAQ',\n",
        "                        'KAR', 'KAM', 'KAJ', 'KAH', 'KFS', 'KAA','KFF', 'KFD', 'KGX', 'KBH', 'KEJ', 'KAW', 'KAF', 'KBY',\n",
        "                        'KCI', 'KFK', 'KDT', 'KAD', 'KDH', 'KGC']\n",
        "df_pp['entry_channel'] = df_pp['entry_channel'].replace(categorias_a_agrupar,'OTHER')"
      ]
    },
    {
      "cell_type": "code",
      "execution_count": 86,
      "metadata": {
        "id": "rFyO5rsRHmkk"
      },
      "outputs": [],
      "source": [
        "df_pred['entry_channel'] = df_pred['entry_channel'].replace(categorias_a_agrupar,'OTHER')"
      ]
    },
    {
      "cell_type": "code",
      "execution_count": 87,
      "metadata": {
        "colab": {
          "base_uri": "https://localhost:8080/"
        },
        "id": "605CsN2DEtie",
        "outputId": "9f3f91f1-5dc5-4216-b096-db752a52fc45"
      },
      "outputs": [
        {
          "output_type": "execute_result",
          "data": {
            "text/plain": [
              "array(['KHQ', 'KHN', 'KHM', 'RED', 'KAT', 'OTHER', 'KFA', 'KHL', 'KFC',\n",
              "       'KHE', 'KHK', 'KHD'], dtype=object)"
            ]
          },
          "metadata": {},
          "execution_count": 87
        }
      ],
      "source": [
        "df_pp['entry_channel'].unique()"
      ]
    },
    {
      "cell_type": "code",
      "execution_count": 88,
      "metadata": {
        "colab": {
          "base_uri": "https://localhost:8080/"
        },
        "id": "yiKE74C3HuKm",
        "outputId": "d6aa3a36-892b-4aff-89f2-65952c894d75"
      },
      "outputs": [
        {
          "output_type": "execute_result",
          "data": {
            "text/plain": [
              "array(['OTHER', 'KAT', 'KFC', 'KHL', 'KHK', 'KHM', 'KHE', 'KFA', 'KHN',\n",
              "       'RED', 'KHQ', 'KHD'], dtype=object)"
            ]
          },
          "metadata": {},
          "execution_count": 88
        }
      ],
      "source": [
        "df_pred['entry_channel'].unique()"
      ]
    },
    {
      "cell_type": "code",
      "execution_count": 89,
      "metadata": {
        "id": "WAsV9_tiNC-v"
      },
      "outputs": [],
      "source": [
        "# Aplicamos el label encoder para las categorías de entry_channel\n",
        "encoder = LabelEncoder()\n",
        "df_pp['entry_channel'] = encoder.fit_transform(df_pp['entry_channel'])\n",
        "df_pred['entry_channel'] = encoder.fit_transform(df_pred['entry_channel'])"
      ]
    },
    {
      "cell_type": "code",
      "execution_count": 90,
      "metadata": {
        "colab": {
          "base_uri": "https://localhost:8080/"
        },
        "id": "CL504suDNiB1",
        "outputId": "4d85cb4a-f5e1-4d76-e51d-5014f008a39f"
      },
      "outputs": [
        {
          "output_type": "stream",
          "name": "stdout",
          "text": [
            "['KAT' 'KFA' 'KFC' 'KHD' 'KHE' 'KHK' 'KHL' 'KHM' 'KHN' 'KHQ' 'OTHER' 'RED']\n"
          ]
        }
      ],
      "source": [
        "# Imprimimos las categorías\n",
        "print(encoder.classes_)"
      ]
    },
    {
      "cell_type": "code",
      "execution_count": 91,
      "metadata": {
        "colab": {
          "base_uri": "https://localhost:8080/"
        },
        "id": "V33G5SbP7x1u",
        "outputId": "4f859998-6c07-4603-893e-ccf51f7a91b9"
      },
      "outputs": [
        {
          "output_type": "execute_result",
          "data": {
            "text/plain": [
              "1"
            ]
          },
          "metadata": {},
          "execution_count": 91
        }
      ],
      "source": [
        "df_pp['country_id'].nunique()"
      ]
    },
    {
      "cell_type": "code",
      "execution_count": 92,
      "metadata": {
        "colab": {
          "base_uri": "https://localhost:8080/"
        },
        "id": "dOwYzJxSH2Ae",
        "outputId": "276a3240-d9f5-4717-a9e0-cd3ed1e3797d"
      },
      "outputs": [
        {
          "output_type": "execute_result",
          "data": {
            "text/plain": [
              "1"
            ]
          },
          "metadata": {},
          "execution_count": 92
        }
      ],
      "source": [
        "df_pred['country_id'].nunique()"
      ]
    },
    {
      "cell_type": "code",
      "execution_count": 93,
      "metadata": {
        "id": "kteYPx3P84lt"
      },
      "outputs": [],
      "source": [
        "# No tiene caso conservar la columna \"country_id\" si todos los registros son del mismo pais, por lo que lo mejor será eliminarla\n",
        "df_pp.drop('country_id',axis=1,inplace=True)\n",
        "df_pred.drop('country_id',axis=1,inplace=True)"
      ]
    },
    {
      "cell_type": "code",
      "source": [
        "# Las variables segment y gender las trataremos con one hot encoding\n",
        "print(df_pp['segment'].unique())\n",
        "print(df_pp['gender'].unique())"
      ],
      "metadata": {
        "colab": {
          "base_uri": "https://localhost:8080/"
        },
        "id": "Y-i7F6ynMOI7",
        "outputId": "fdec5487-659f-48bc-ff3e-4b85066d14c1"
      },
      "execution_count": 94,
      "outputs": [
        {
          "output_type": "stream",
          "name": "stdout",
          "text": [
            "['03 - UNIVERSITARIO' '02 - PARTICULARES' '01 - TOP']\n",
            "['M' 'F']\n"
          ]
        }
      ]
    },
    {
      "cell_type": "code",
      "execution_count": 95,
      "metadata": {
        "id": "eaZubElLNrw_"
      },
      "outputs": [],
      "source": [
        "# Sustituimos los valores de las columnas segment y gender por valores numéricos\n",
        "\n",
        "#df_pp['segment'] = df_pp['segment'].apply(lambda x:1 if x == '01 - TOP' else 2 if x == '02 - PARTICULARES' else 3)\n",
        "#df_pred['segment'] = df_pred['segment'].apply(lambda x:1 if x == '01 - TOP' else 2 if x == '02 - PARTICULARES' else 3)\n",
        "\n",
        "#df_pp['gender'] = df_pp['gender'].apply(lambda x:1 if x == 'M' else 2)\n",
        "#df_pred['gender'] = df_pred['gender'].apply(lambda x:1 if x == 'M' else 2)"
      ]
    },
    {
      "cell_type": "code",
      "source": [
        "# Cambiamos el tipo de variable para la columna 'active_customer'\n",
        "df_pp['active_customer']=df_pp['active_customer'].astype(int)\n",
        "df_pred['active_customer']=df_pred['active_customer'].astype(int)"
      ],
      "metadata": {
        "id": "64pjsd1jOwJu"
      },
      "execution_count": 96,
      "outputs": []
    },
    {
      "cell_type": "code",
      "source": [
        "# Region_code es una variable numérica pero categórica\n",
        "\n",
        "# cambiamos la variable por el valor de la media de la target por categoría\n",
        "!pip install category_encoders\n",
        "from category_encoders import TargetEncoder\n",
        "\n",
        "df_pp['region_code'] = df_pp['region_code'].astype('category')\n",
        "df_pred['region_code'] = df_pred['region_code'].astype('category')\n",
        "\n",
        "codificador = TargetEncoder()\n",
        "df_pp['region_code'] = codificador.fit_transform(df_pp['region_code'], df_pp['pension_plan'])\n",
        "df_pred['region_code'] = codificador.transform(df_pred['region_code'])"
      ],
      "metadata": {
        "colab": {
          "base_uri": "https://localhost:8080/"
        },
        "id": "_b6hwX99DYLb",
        "outputId": "020d8fc0-801d-464e-a86b-8d336ad77576"
      },
      "execution_count": 97,
      "outputs": [
        {
          "output_type": "stream",
          "name": "stdout",
          "text": [
            "Looking in indexes: https://pypi.org/simple, https://us-python.pkg.dev/colab-wheels/public/simple/\n",
            "Collecting category_encoders\n",
            "  Downloading category_encoders-2.6.1-py2.py3-none-any.whl (81 kB)\n",
            "\u001b[2K     \u001b[90m━━━━━━━━━━━━━━━━━━━━━━━━━━━━━━━━━━━━━━━━\u001b[0m \u001b[32m81.9/81.9 kB\u001b[0m \u001b[31m6.5 MB/s\u001b[0m eta \u001b[36m0:00:00\u001b[0m\n",
            "\u001b[?25hRequirement already satisfied: numpy>=1.14.0 in /usr/local/lib/python3.10/dist-packages (from category_encoders) (1.22.4)\n",
            "Requirement already satisfied: scikit-learn>=0.20.0 in /usr/local/lib/python3.10/dist-packages (from category_encoders) (1.2.2)\n",
            "Requirement already satisfied: scipy>=1.0.0 in /usr/local/lib/python3.10/dist-packages (from category_encoders) (1.10.1)\n",
            "Requirement already satisfied: statsmodels>=0.9.0 in /usr/local/lib/python3.10/dist-packages (from category_encoders) (0.13.5)\n",
            "Requirement already satisfied: pandas>=1.0.5 in /usr/local/lib/python3.10/dist-packages (from category_encoders) (1.5.3)\n",
            "Requirement already satisfied: patsy>=0.5.1 in /usr/local/lib/python3.10/dist-packages (from category_encoders) (0.5.3)\n",
            "Requirement already satisfied: python-dateutil>=2.8.1 in /usr/local/lib/python3.10/dist-packages (from pandas>=1.0.5->category_encoders) (2.8.2)\n",
            "Requirement already satisfied: pytz>=2020.1 in /usr/local/lib/python3.10/dist-packages (from pandas>=1.0.5->category_encoders) (2022.7.1)\n",
            "Requirement already satisfied: six in /usr/local/lib/python3.10/dist-packages (from patsy>=0.5.1->category_encoders) (1.16.0)\n",
            "Requirement already satisfied: joblib>=1.1.1 in /usr/local/lib/python3.10/dist-packages (from scikit-learn>=0.20.0->category_encoders) (1.2.0)\n",
            "Requirement already satisfied: threadpoolctl>=2.0.0 in /usr/local/lib/python3.10/dist-packages (from scikit-learn>=0.20.0->category_encoders) (3.1.0)\n",
            "Requirement already satisfied: packaging>=21.3 in /usr/local/lib/python3.10/dist-packages (from statsmodels>=0.9.0->category_encoders) (23.1)\n",
            "Installing collected packages: category_encoders\n",
            "Successfully installed category_encoders-2.6.1\n"
          ]
        }
      ]
    },
    {
      "cell_type": "code",
      "execution_count": 98,
      "metadata": {
        "colab": {
          "base_uri": "https://localhost:8080/",
          "height": 206
        },
        "id": "g1tu1ymdY-MT",
        "outputId": "8e714b88-bf65-4a01-a12b-caa28e255495"
      },
      "outputs": [
        {
          "output_type": "execute_result",
          "data": {
            "text/plain": [
              "      pk_cid pk_partition entry_date  entry_channel  active_customer  \\\n",
              "125  1432407   2019-01-01 2018-08-01              9                1   \n",
              "375  1432184   2019-01-01 2018-08-01              8                1   \n",
              "440  1432484   2019-01-01 2018-08-01              7                1   \n",
              "676  1432583   2019-01-01 2018-08-01             11                1   \n",
              "732  1432505   2019-01-01 2018-08-01              7                1   \n",
              "\n",
              "                segment  region_code gender  age     salary  pension_plan  \\\n",
              "125  03 - UNIVERSITARIO     0.009327      M   21  207088.89             1   \n",
              "375   02 - PARTICULARES     0.018332      F   54   92492.58             1   \n",
              "440  03 - UNIVERSITARIO     0.018332      M   26   88812.06             1   \n",
              "676            01 - TOP     0.014856      M   49   58054.26             1   \n",
              "732   02 - PARTICULARES     0.024486      M   28   92355.81             1   \n",
              "\n",
              "     antiquity  \n",
              "125          5  \n",
              "375          5  \n",
              "440          5  \n",
              "676          5  \n",
              "732          5  "
            ],
            "text/html": [
              "\n",
              "  <div id=\"df-a619511e-9bf2-4c96-95d5-5c8562b271ff\">\n",
              "    <div class=\"colab-df-container\">\n",
              "      <div>\n",
              "<style scoped>\n",
              "    .dataframe tbody tr th:only-of-type {\n",
              "        vertical-align: middle;\n",
              "    }\n",
              "\n",
              "    .dataframe tbody tr th {\n",
              "        vertical-align: top;\n",
              "    }\n",
              "\n",
              "    .dataframe thead th {\n",
              "        text-align: right;\n",
              "    }\n",
              "</style>\n",
              "<table border=\"1\" class=\"dataframe\">\n",
              "  <thead>\n",
              "    <tr style=\"text-align: right;\">\n",
              "      <th></th>\n",
              "      <th>pk_cid</th>\n",
              "      <th>pk_partition</th>\n",
              "      <th>entry_date</th>\n",
              "      <th>entry_channel</th>\n",
              "      <th>active_customer</th>\n",
              "      <th>segment</th>\n",
              "      <th>region_code</th>\n",
              "      <th>gender</th>\n",
              "      <th>age</th>\n",
              "      <th>salary</th>\n",
              "      <th>pension_plan</th>\n",
              "      <th>antiquity</th>\n",
              "    </tr>\n",
              "  </thead>\n",
              "  <tbody>\n",
              "    <tr>\n",
              "      <th>125</th>\n",
              "      <td>1432407</td>\n",
              "      <td>2019-01-01</td>\n",
              "      <td>2018-08-01</td>\n",
              "      <td>9</td>\n",
              "      <td>1</td>\n",
              "      <td>03 - UNIVERSITARIO</td>\n",
              "      <td>0.009327</td>\n",
              "      <td>M</td>\n",
              "      <td>21</td>\n",
              "      <td>207088.89</td>\n",
              "      <td>1</td>\n",
              "      <td>5</td>\n",
              "    </tr>\n",
              "    <tr>\n",
              "      <th>375</th>\n",
              "      <td>1432184</td>\n",
              "      <td>2019-01-01</td>\n",
              "      <td>2018-08-01</td>\n",
              "      <td>8</td>\n",
              "      <td>1</td>\n",
              "      <td>02 - PARTICULARES</td>\n",
              "      <td>0.018332</td>\n",
              "      <td>F</td>\n",
              "      <td>54</td>\n",
              "      <td>92492.58</td>\n",
              "      <td>1</td>\n",
              "      <td>5</td>\n",
              "    </tr>\n",
              "    <tr>\n",
              "      <th>440</th>\n",
              "      <td>1432484</td>\n",
              "      <td>2019-01-01</td>\n",
              "      <td>2018-08-01</td>\n",
              "      <td>7</td>\n",
              "      <td>1</td>\n",
              "      <td>03 - UNIVERSITARIO</td>\n",
              "      <td>0.018332</td>\n",
              "      <td>M</td>\n",
              "      <td>26</td>\n",
              "      <td>88812.06</td>\n",
              "      <td>1</td>\n",
              "      <td>5</td>\n",
              "    </tr>\n",
              "    <tr>\n",
              "      <th>676</th>\n",
              "      <td>1432583</td>\n",
              "      <td>2019-01-01</td>\n",
              "      <td>2018-08-01</td>\n",
              "      <td>11</td>\n",
              "      <td>1</td>\n",
              "      <td>01 - TOP</td>\n",
              "      <td>0.014856</td>\n",
              "      <td>M</td>\n",
              "      <td>49</td>\n",
              "      <td>58054.26</td>\n",
              "      <td>1</td>\n",
              "      <td>5</td>\n",
              "    </tr>\n",
              "    <tr>\n",
              "      <th>732</th>\n",
              "      <td>1432505</td>\n",
              "      <td>2019-01-01</td>\n",
              "      <td>2018-08-01</td>\n",
              "      <td>7</td>\n",
              "      <td>1</td>\n",
              "      <td>02 - PARTICULARES</td>\n",
              "      <td>0.024486</td>\n",
              "      <td>M</td>\n",
              "      <td>28</td>\n",
              "      <td>92355.81</td>\n",
              "      <td>1</td>\n",
              "      <td>5</td>\n",
              "    </tr>\n",
              "  </tbody>\n",
              "</table>\n",
              "</div>\n",
              "      <button class=\"colab-df-convert\" onclick=\"convertToInteractive('df-a619511e-9bf2-4c96-95d5-5c8562b271ff')\"\n",
              "              title=\"Convert this dataframe to an interactive table.\"\n",
              "              style=\"display:none;\">\n",
              "        \n",
              "  <svg xmlns=\"http://www.w3.org/2000/svg\" height=\"24px\"viewBox=\"0 0 24 24\"\n",
              "       width=\"24px\">\n",
              "    <path d=\"M0 0h24v24H0V0z\" fill=\"none\"/>\n",
              "    <path d=\"M18.56 5.44l.94 2.06.94-2.06 2.06-.94-2.06-.94-.94-2.06-.94 2.06-2.06.94zm-11 1L8.5 8.5l.94-2.06 2.06-.94-2.06-.94L8.5 2.5l-.94 2.06-2.06.94zm10 10l.94 2.06.94-2.06 2.06-.94-2.06-.94-.94-2.06-.94 2.06-2.06.94z\"/><path d=\"M17.41 7.96l-1.37-1.37c-.4-.4-.92-.59-1.43-.59-.52 0-1.04.2-1.43.59L10.3 9.45l-7.72 7.72c-.78.78-.78 2.05 0 2.83L4 21.41c.39.39.9.59 1.41.59.51 0 1.02-.2 1.41-.59l7.78-7.78 2.81-2.81c.8-.78.8-2.07 0-2.86zM5.41 20L4 18.59l7.72-7.72 1.47 1.35L5.41 20z\"/>\n",
              "  </svg>\n",
              "      </button>\n",
              "      \n",
              "  <style>\n",
              "    .colab-df-container {\n",
              "      display:flex;\n",
              "      flex-wrap:wrap;\n",
              "      gap: 12px;\n",
              "    }\n",
              "\n",
              "    .colab-df-convert {\n",
              "      background-color: #E8F0FE;\n",
              "      border: none;\n",
              "      border-radius: 50%;\n",
              "      cursor: pointer;\n",
              "      display: none;\n",
              "      fill: #1967D2;\n",
              "      height: 32px;\n",
              "      padding: 0 0 0 0;\n",
              "      width: 32px;\n",
              "    }\n",
              "\n",
              "    .colab-df-convert:hover {\n",
              "      background-color: #E2EBFA;\n",
              "      box-shadow: 0px 1px 2px rgba(60, 64, 67, 0.3), 0px 1px 3px 1px rgba(60, 64, 67, 0.15);\n",
              "      fill: #174EA6;\n",
              "    }\n",
              "\n",
              "    [theme=dark] .colab-df-convert {\n",
              "      background-color: #3B4455;\n",
              "      fill: #D2E3FC;\n",
              "    }\n",
              "\n",
              "    [theme=dark] .colab-df-convert:hover {\n",
              "      background-color: #434B5C;\n",
              "      box-shadow: 0px 1px 3px 1px rgba(0, 0, 0, 0.15);\n",
              "      filter: drop-shadow(0px 1px 2px rgba(0, 0, 0, 0.3));\n",
              "      fill: #FFFFFF;\n",
              "    }\n",
              "  </style>\n",
              "\n",
              "      <script>\n",
              "        const buttonEl =\n",
              "          document.querySelector('#df-a619511e-9bf2-4c96-95d5-5c8562b271ff button.colab-df-convert');\n",
              "        buttonEl.style.display =\n",
              "          google.colab.kernel.accessAllowed ? 'block' : 'none';\n",
              "\n",
              "        async function convertToInteractive(key) {\n",
              "          const element = document.querySelector('#df-a619511e-9bf2-4c96-95d5-5c8562b271ff');\n",
              "          const dataTable =\n",
              "            await google.colab.kernel.invokeFunction('convertToInteractive',\n",
              "                                                     [key], {});\n",
              "          if (!dataTable) return;\n",
              "\n",
              "          const docLinkHtml = 'Like what you see? Visit the ' +\n",
              "            '<a target=\"_blank\" href=https://colab.research.google.com/notebooks/data_table.ipynb>data table notebook</a>'\n",
              "            + ' to learn more about interactive tables.';\n",
              "          element.innerHTML = '';\n",
              "          dataTable['output_type'] = 'display_data';\n",
              "          await google.colab.output.renderOutput(dataTable, element);\n",
              "          const docLink = document.createElement('div');\n",
              "          docLink.innerHTML = docLinkHtml;\n",
              "          element.appendChild(docLink);\n",
              "        }\n",
              "      </script>\n",
              "    </div>\n",
              "  </div>\n",
              "  "
            ]
          },
          "metadata": {},
          "execution_count": 98
        }
      ],
      "source": [
        "df_pp.head()"
      ]
    },
    {
      "cell_type": "markdown",
      "metadata": {
        "id": "LKnuAWWA0rdy"
      },
      "source": [
        "Customer ID"
      ]
    },
    {
      "cell_type": "code",
      "execution_count": 99,
      "metadata": {
        "id": "TTIPV_NXu4IV"
      },
      "outputs": [],
      "source": [
        "# Antes de eliminar la columna de pk_cid en el dataset df_pred, la guardamos\n",
        "cust_id = df_pred['pk_cid']"
      ]
    },
    {
      "cell_type": "code",
      "execution_count": 100,
      "metadata": {
        "id": "vIVQ6LV9nVQ6"
      },
      "outputs": [],
      "source": [
        "# Eliminamos las columnas pk_cid, pk_partition y entry_date de ambos datasets\n",
        "df_pp.drop(['pk_cid','pk_partition','entry_date'],axis=1,inplace=True)\n",
        "df_pred.drop(['pk_cid','pk_partition','entry_date'],axis=1,inplace=True)"
      ]
    },
    {
      "cell_type": "code",
      "execution_count": 101,
      "metadata": {
        "colab": {
          "base_uri": "https://localhost:8080/",
          "height": 206
        },
        "id": "VWECL1CBZIB1",
        "outputId": "63e71719-79d8-4279-c7d2-fffe3c2b8e0f"
      },
      "outputs": [
        {
          "output_type": "execute_result",
          "data": {
            "text/plain": [
              "     entry_channel  active_customer             segment  region_code gender  \\\n",
              "125              9                1  03 - UNIVERSITARIO     0.009327      M   \n",
              "375              8                1   02 - PARTICULARES     0.018332      F   \n",
              "440              7                1  03 - UNIVERSITARIO     0.018332      M   \n",
              "676             11                1            01 - TOP     0.014856      M   \n",
              "732              7                1   02 - PARTICULARES     0.024486      M   \n",
              "\n",
              "     age     salary  pension_plan  antiquity  \n",
              "125   21  207088.89             1          5  \n",
              "375   54   92492.58             1          5  \n",
              "440   26   88812.06             1          5  \n",
              "676   49   58054.26             1          5  \n",
              "732   28   92355.81             1          5  "
            ],
            "text/html": [
              "\n",
              "  <div id=\"df-6b018a11-83f5-4418-872c-c039b83ede1b\">\n",
              "    <div class=\"colab-df-container\">\n",
              "      <div>\n",
              "<style scoped>\n",
              "    .dataframe tbody tr th:only-of-type {\n",
              "        vertical-align: middle;\n",
              "    }\n",
              "\n",
              "    .dataframe tbody tr th {\n",
              "        vertical-align: top;\n",
              "    }\n",
              "\n",
              "    .dataframe thead th {\n",
              "        text-align: right;\n",
              "    }\n",
              "</style>\n",
              "<table border=\"1\" class=\"dataframe\">\n",
              "  <thead>\n",
              "    <tr style=\"text-align: right;\">\n",
              "      <th></th>\n",
              "      <th>entry_channel</th>\n",
              "      <th>active_customer</th>\n",
              "      <th>segment</th>\n",
              "      <th>region_code</th>\n",
              "      <th>gender</th>\n",
              "      <th>age</th>\n",
              "      <th>salary</th>\n",
              "      <th>pension_plan</th>\n",
              "      <th>antiquity</th>\n",
              "    </tr>\n",
              "  </thead>\n",
              "  <tbody>\n",
              "    <tr>\n",
              "      <th>125</th>\n",
              "      <td>9</td>\n",
              "      <td>1</td>\n",
              "      <td>03 - UNIVERSITARIO</td>\n",
              "      <td>0.009327</td>\n",
              "      <td>M</td>\n",
              "      <td>21</td>\n",
              "      <td>207088.89</td>\n",
              "      <td>1</td>\n",
              "      <td>5</td>\n",
              "    </tr>\n",
              "    <tr>\n",
              "      <th>375</th>\n",
              "      <td>8</td>\n",
              "      <td>1</td>\n",
              "      <td>02 - PARTICULARES</td>\n",
              "      <td>0.018332</td>\n",
              "      <td>F</td>\n",
              "      <td>54</td>\n",
              "      <td>92492.58</td>\n",
              "      <td>1</td>\n",
              "      <td>5</td>\n",
              "    </tr>\n",
              "    <tr>\n",
              "      <th>440</th>\n",
              "      <td>7</td>\n",
              "      <td>1</td>\n",
              "      <td>03 - UNIVERSITARIO</td>\n",
              "      <td>0.018332</td>\n",
              "      <td>M</td>\n",
              "      <td>26</td>\n",
              "      <td>88812.06</td>\n",
              "      <td>1</td>\n",
              "      <td>5</td>\n",
              "    </tr>\n",
              "    <tr>\n",
              "      <th>676</th>\n",
              "      <td>11</td>\n",
              "      <td>1</td>\n",
              "      <td>01 - TOP</td>\n",
              "      <td>0.014856</td>\n",
              "      <td>M</td>\n",
              "      <td>49</td>\n",
              "      <td>58054.26</td>\n",
              "      <td>1</td>\n",
              "      <td>5</td>\n",
              "    </tr>\n",
              "    <tr>\n",
              "      <th>732</th>\n",
              "      <td>7</td>\n",
              "      <td>1</td>\n",
              "      <td>02 - PARTICULARES</td>\n",
              "      <td>0.024486</td>\n",
              "      <td>M</td>\n",
              "      <td>28</td>\n",
              "      <td>92355.81</td>\n",
              "      <td>1</td>\n",
              "      <td>5</td>\n",
              "    </tr>\n",
              "  </tbody>\n",
              "</table>\n",
              "</div>\n",
              "      <button class=\"colab-df-convert\" onclick=\"convertToInteractive('df-6b018a11-83f5-4418-872c-c039b83ede1b')\"\n",
              "              title=\"Convert this dataframe to an interactive table.\"\n",
              "              style=\"display:none;\">\n",
              "        \n",
              "  <svg xmlns=\"http://www.w3.org/2000/svg\" height=\"24px\"viewBox=\"0 0 24 24\"\n",
              "       width=\"24px\">\n",
              "    <path d=\"M0 0h24v24H0V0z\" fill=\"none\"/>\n",
              "    <path d=\"M18.56 5.44l.94 2.06.94-2.06 2.06-.94-2.06-.94-.94-2.06-.94 2.06-2.06.94zm-11 1L8.5 8.5l.94-2.06 2.06-.94-2.06-.94L8.5 2.5l-.94 2.06-2.06.94zm10 10l.94 2.06.94-2.06 2.06-.94-2.06-.94-.94-2.06-.94 2.06-2.06.94z\"/><path d=\"M17.41 7.96l-1.37-1.37c-.4-.4-.92-.59-1.43-.59-.52 0-1.04.2-1.43.59L10.3 9.45l-7.72 7.72c-.78.78-.78 2.05 0 2.83L4 21.41c.39.39.9.59 1.41.59.51 0 1.02-.2 1.41-.59l7.78-7.78 2.81-2.81c.8-.78.8-2.07 0-2.86zM5.41 20L4 18.59l7.72-7.72 1.47 1.35L5.41 20z\"/>\n",
              "  </svg>\n",
              "      </button>\n",
              "      \n",
              "  <style>\n",
              "    .colab-df-container {\n",
              "      display:flex;\n",
              "      flex-wrap:wrap;\n",
              "      gap: 12px;\n",
              "    }\n",
              "\n",
              "    .colab-df-convert {\n",
              "      background-color: #E8F0FE;\n",
              "      border: none;\n",
              "      border-radius: 50%;\n",
              "      cursor: pointer;\n",
              "      display: none;\n",
              "      fill: #1967D2;\n",
              "      height: 32px;\n",
              "      padding: 0 0 0 0;\n",
              "      width: 32px;\n",
              "    }\n",
              "\n",
              "    .colab-df-convert:hover {\n",
              "      background-color: #E2EBFA;\n",
              "      box-shadow: 0px 1px 2px rgba(60, 64, 67, 0.3), 0px 1px 3px 1px rgba(60, 64, 67, 0.15);\n",
              "      fill: #174EA6;\n",
              "    }\n",
              "\n",
              "    [theme=dark] .colab-df-convert {\n",
              "      background-color: #3B4455;\n",
              "      fill: #D2E3FC;\n",
              "    }\n",
              "\n",
              "    [theme=dark] .colab-df-convert:hover {\n",
              "      background-color: #434B5C;\n",
              "      box-shadow: 0px 1px 3px 1px rgba(0, 0, 0, 0.15);\n",
              "      filter: drop-shadow(0px 1px 2px rgba(0, 0, 0, 0.3));\n",
              "      fill: #FFFFFF;\n",
              "    }\n",
              "  </style>\n",
              "\n",
              "      <script>\n",
              "        const buttonEl =\n",
              "          document.querySelector('#df-6b018a11-83f5-4418-872c-c039b83ede1b button.colab-df-convert');\n",
              "        buttonEl.style.display =\n",
              "          google.colab.kernel.accessAllowed ? 'block' : 'none';\n",
              "\n",
              "        async function convertToInteractive(key) {\n",
              "          const element = document.querySelector('#df-6b018a11-83f5-4418-872c-c039b83ede1b');\n",
              "          const dataTable =\n",
              "            await google.colab.kernel.invokeFunction('convertToInteractive',\n",
              "                                                     [key], {});\n",
              "          if (!dataTable) return;\n",
              "\n",
              "          const docLinkHtml = 'Like what you see? Visit the ' +\n",
              "            '<a target=\"_blank\" href=https://colab.research.google.com/notebooks/data_table.ipynb>data table notebook</a>'\n",
              "            + ' to learn more about interactive tables.';\n",
              "          element.innerHTML = '';\n",
              "          dataTable['output_type'] = 'display_data';\n",
              "          await google.colab.output.renderOutput(dataTable, element);\n",
              "          const docLink = document.createElement('div');\n",
              "          docLink.innerHTML = docLinkHtml;\n",
              "          element.appendChild(docLink);\n",
              "        }\n",
              "      </script>\n",
              "    </div>\n",
              "  </div>\n",
              "  "
            ]
          },
          "metadata": {},
          "execution_count": 101
        }
      ],
      "source": [
        "df_pp.head()"
      ]
    },
    {
      "cell_type": "code",
      "execution_count": 102,
      "metadata": {
        "id": "NJfJLSewaId0"
      },
      "outputs": [],
      "source": [
        "# Cambiamos de lugar la columna antiquity en ambos datasets\n",
        "nuevo_orden = ['entry_channel','active_customer','segment','region_code','gender','age','antiquity','salary','pension_plan']\n",
        "df_pp = df_pp.reindex(columns = nuevo_orden)\n",
        "df_pred = df_pred.reindex(columns = nuevo_orden)"
      ]
    },
    {
      "cell_type": "code",
      "execution_count": 103,
      "metadata": {
        "id": "ntwJhGHZJ4G-"
      },
      "outputs": [],
      "source": [
        "df_pred.drop('pension_plan',axis=1,inplace=True)"
      ]
    },
    {
      "cell_type": "code",
      "execution_count": 104,
      "metadata": {
        "colab": {
          "base_uri": "https://localhost:8080/",
          "height": 206
        },
        "id": "VpPmc8OqHUI0",
        "outputId": "25c6a0e9-ec20-4a05-c8af-e5dcdc43d770"
      },
      "outputs": [
        {
          "output_type": "execute_result",
          "data": {
            "text/plain": [
              "     entry_channel  active_customer             segment  region_code gender  \\\n",
              "125              9                1  03 - UNIVERSITARIO     0.009327      M   \n",
              "375              8                1   02 - PARTICULARES     0.018332      F   \n",
              "440              7                1  03 - UNIVERSITARIO     0.018332      M   \n",
              "676             11                1            01 - TOP     0.014856      M   \n",
              "732              7                1   02 - PARTICULARES     0.024486      M   \n",
              "\n",
              "     age  antiquity     salary  pension_plan  \n",
              "125   21          5  207088.89             1  \n",
              "375   54          5   92492.58             1  \n",
              "440   26          5   88812.06             1  \n",
              "676   49          5   58054.26             1  \n",
              "732   28          5   92355.81             1  "
            ],
            "text/html": [
              "\n",
              "  <div id=\"df-d7b79fc4-a905-46d4-bfe0-b136171f2ccc\">\n",
              "    <div class=\"colab-df-container\">\n",
              "      <div>\n",
              "<style scoped>\n",
              "    .dataframe tbody tr th:only-of-type {\n",
              "        vertical-align: middle;\n",
              "    }\n",
              "\n",
              "    .dataframe tbody tr th {\n",
              "        vertical-align: top;\n",
              "    }\n",
              "\n",
              "    .dataframe thead th {\n",
              "        text-align: right;\n",
              "    }\n",
              "</style>\n",
              "<table border=\"1\" class=\"dataframe\">\n",
              "  <thead>\n",
              "    <tr style=\"text-align: right;\">\n",
              "      <th></th>\n",
              "      <th>entry_channel</th>\n",
              "      <th>active_customer</th>\n",
              "      <th>segment</th>\n",
              "      <th>region_code</th>\n",
              "      <th>gender</th>\n",
              "      <th>age</th>\n",
              "      <th>antiquity</th>\n",
              "      <th>salary</th>\n",
              "      <th>pension_plan</th>\n",
              "    </tr>\n",
              "  </thead>\n",
              "  <tbody>\n",
              "    <tr>\n",
              "      <th>125</th>\n",
              "      <td>9</td>\n",
              "      <td>1</td>\n",
              "      <td>03 - UNIVERSITARIO</td>\n",
              "      <td>0.009327</td>\n",
              "      <td>M</td>\n",
              "      <td>21</td>\n",
              "      <td>5</td>\n",
              "      <td>207088.89</td>\n",
              "      <td>1</td>\n",
              "    </tr>\n",
              "    <tr>\n",
              "      <th>375</th>\n",
              "      <td>8</td>\n",
              "      <td>1</td>\n",
              "      <td>02 - PARTICULARES</td>\n",
              "      <td>0.018332</td>\n",
              "      <td>F</td>\n",
              "      <td>54</td>\n",
              "      <td>5</td>\n",
              "      <td>92492.58</td>\n",
              "      <td>1</td>\n",
              "    </tr>\n",
              "    <tr>\n",
              "      <th>440</th>\n",
              "      <td>7</td>\n",
              "      <td>1</td>\n",
              "      <td>03 - UNIVERSITARIO</td>\n",
              "      <td>0.018332</td>\n",
              "      <td>M</td>\n",
              "      <td>26</td>\n",
              "      <td>5</td>\n",
              "      <td>88812.06</td>\n",
              "      <td>1</td>\n",
              "    </tr>\n",
              "    <tr>\n",
              "      <th>676</th>\n",
              "      <td>11</td>\n",
              "      <td>1</td>\n",
              "      <td>01 - TOP</td>\n",
              "      <td>0.014856</td>\n",
              "      <td>M</td>\n",
              "      <td>49</td>\n",
              "      <td>5</td>\n",
              "      <td>58054.26</td>\n",
              "      <td>1</td>\n",
              "    </tr>\n",
              "    <tr>\n",
              "      <th>732</th>\n",
              "      <td>7</td>\n",
              "      <td>1</td>\n",
              "      <td>02 - PARTICULARES</td>\n",
              "      <td>0.024486</td>\n",
              "      <td>M</td>\n",
              "      <td>28</td>\n",
              "      <td>5</td>\n",
              "      <td>92355.81</td>\n",
              "      <td>1</td>\n",
              "    </tr>\n",
              "  </tbody>\n",
              "</table>\n",
              "</div>\n",
              "      <button class=\"colab-df-convert\" onclick=\"convertToInteractive('df-d7b79fc4-a905-46d4-bfe0-b136171f2ccc')\"\n",
              "              title=\"Convert this dataframe to an interactive table.\"\n",
              "              style=\"display:none;\">\n",
              "        \n",
              "  <svg xmlns=\"http://www.w3.org/2000/svg\" height=\"24px\"viewBox=\"0 0 24 24\"\n",
              "       width=\"24px\">\n",
              "    <path d=\"M0 0h24v24H0V0z\" fill=\"none\"/>\n",
              "    <path d=\"M18.56 5.44l.94 2.06.94-2.06 2.06-.94-2.06-.94-.94-2.06-.94 2.06-2.06.94zm-11 1L8.5 8.5l.94-2.06 2.06-.94-2.06-.94L8.5 2.5l-.94 2.06-2.06.94zm10 10l.94 2.06.94-2.06 2.06-.94-2.06-.94-.94-2.06-.94 2.06-2.06.94z\"/><path d=\"M17.41 7.96l-1.37-1.37c-.4-.4-.92-.59-1.43-.59-.52 0-1.04.2-1.43.59L10.3 9.45l-7.72 7.72c-.78.78-.78 2.05 0 2.83L4 21.41c.39.39.9.59 1.41.59.51 0 1.02-.2 1.41-.59l7.78-7.78 2.81-2.81c.8-.78.8-2.07 0-2.86zM5.41 20L4 18.59l7.72-7.72 1.47 1.35L5.41 20z\"/>\n",
              "  </svg>\n",
              "      </button>\n",
              "      \n",
              "  <style>\n",
              "    .colab-df-container {\n",
              "      display:flex;\n",
              "      flex-wrap:wrap;\n",
              "      gap: 12px;\n",
              "    }\n",
              "\n",
              "    .colab-df-convert {\n",
              "      background-color: #E8F0FE;\n",
              "      border: none;\n",
              "      border-radius: 50%;\n",
              "      cursor: pointer;\n",
              "      display: none;\n",
              "      fill: #1967D2;\n",
              "      height: 32px;\n",
              "      padding: 0 0 0 0;\n",
              "      width: 32px;\n",
              "    }\n",
              "\n",
              "    .colab-df-convert:hover {\n",
              "      background-color: #E2EBFA;\n",
              "      box-shadow: 0px 1px 2px rgba(60, 64, 67, 0.3), 0px 1px 3px 1px rgba(60, 64, 67, 0.15);\n",
              "      fill: #174EA6;\n",
              "    }\n",
              "\n",
              "    [theme=dark] .colab-df-convert {\n",
              "      background-color: #3B4455;\n",
              "      fill: #D2E3FC;\n",
              "    }\n",
              "\n",
              "    [theme=dark] .colab-df-convert:hover {\n",
              "      background-color: #434B5C;\n",
              "      box-shadow: 0px 1px 3px 1px rgba(0, 0, 0, 0.15);\n",
              "      filter: drop-shadow(0px 1px 2px rgba(0, 0, 0, 0.3));\n",
              "      fill: #FFFFFF;\n",
              "    }\n",
              "  </style>\n",
              "\n",
              "      <script>\n",
              "        const buttonEl =\n",
              "          document.querySelector('#df-d7b79fc4-a905-46d4-bfe0-b136171f2ccc button.colab-df-convert');\n",
              "        buttonEl.style.display =\n",
              "          google.colab.kernel.accessAllowed ? 'block' : 'none';\n",
              "\n",
              "        async function convertToInteractive(key) {\n",
              "          const element = document.querySelector('#df-d7b79fc4-a905-46d4-bfe0-b136171f2ccc');\n",
              "          const dataTable =\n",
              "            await google.colab.kernel.invokeFunction('convertToInteractive',\n",
              "                                                     [key], {});\n",
              "          if (!dataTable) return;\n",
              "\n",
              "          const docLinkHtml = 'Like what you see? Visit the ' +\n",
              "            '<a target=\"_blank\" href=https://colab.research.google.com/notebooks/data_table.ipynb>data table notebook</a>'\n",
              "            + ' to learn more about interactive tables.';\n",
              "          element.innerHTML = '';\n",
              "          dataTable['output_type'] = 'display_data';\n",
              "          await google.colab.output.renderOutput(dataTable, element);\n",
              "          const docLink = document.createElement('div');\n",
              "          docLink.innerHTML = docLinkHtml;\n",
              "          element.appendChild(docLink);\n",
              "        }\n",
              "      </script>\n",
              "    </div>\n",
              "  </div>\n",
              "  "
            ]
          },
          "metadata": {},
          "execution_count": 104
        }
      ],
      "source": [
        "df_pp.head()"
      ]
    },
    {
      "cell_type": "code",
      "execution_count": 105,
      "metadata": {
        "colab": {
          "base_uri": "https://localhost:8080/",
          "height": 206
        },
        "id": "YaWF2JaFJfIh",
        "outputId": "47772d85-52ad-490e-a769-ead4ae492800"
      },
      "outputs": [
        {
          "output_type": "execute_result",
          "data": {
            "text/plain": [
              "         entry_channel  active_customer            segment  region_code  \\\n",
              "5519929             10                1  02 - PARTICULARES     0.007423   \n",
              "5519932              0                1           01 - TOP     0.024486   \n",
              "5519934              0                0  02 - PARTICULARES     0.024486   \n",
              "5519936              2                1           01 - TOP     0.003964   \n",
              "5519938              2                0  02 - PARTICULARES     0.024486   \n",
              "\n",
              "        gender  age  antiquity     salary  \n",
              "5519929      F   44         48   54493.38  \n",
              "5519932      F   85         27  154059.09  \n",
              "5519934      F   62         23  104881.71  \n",
              "5519936      F   78         24   81977.58  \n",
              "5519938      F   54         36  157268.85  "
            ],
            "text/html": [
              "\n",
              "  <div id=\"df-554e39b6-8997-4b08-aed4-5a6aba846efe\">\n",
              "    <div class=\"colab-df-container\">\n",
              "      <div>\n",
              "<style scoped>\n",
              "    .dataframe tbody tr th:only-of-type {\n",
              "        vertical-align: middle;\n",
              "    }\n",
              "\n",
              "    .dataframe tbody tr th {\n",
              "        vertical-align: top;\n",
              "    }\n",
              "\n",
              "    .dataframe thead th {\n",
              "        text-align: right;\n",
              "    }\n",
              "</style>\n",
              "<table border=\"1\" class=\"dataframe\">\n",
              "  <thead>\n",
              "    <tr style=\"text-align: right;\">\n",
              "      <th></th>\n",
              "      <th>entry_channel</th>\n",
              "      <th>active_customer</th>\n",
              "      <th>segment</th>\n",
              "      <th>region_code</th>\n",
              "      <th>gender</th>\n",
              "      <th>age</th>\n",
              "      <th>antiquity</th>\n",
              "      <th>salary</th>\n",
              "    </tr>\n",
              "  </thead>\n",
              "  <tbody>\n",
              "    <tr>\n",
              "      <th>5519929</th>\n",
              "      <td>10</td>\n",
              "      <td>1</td>\n",
              "      <td>02 - PARTICULARES</td>\n",
              "      <td>0.007423</td>\n",
              "      <td>F</td>\n",
              "      <td>44</td>\n",
              "      <td>48</td>\n",
              "      <td>54493.38</td>\n",
              "    </tr>\n",
              "    <tr>\n",
              "      <th>5519932</th>\n",
              "      <td>0</td>\n",
              "      <td>1</td>\n",
              "      <td>01 - TOP</td>\n",
              "      <td>0.024486</td>\n",
              "      <td>F</td>\n",
              "      <td>85</td>\n",
              "      <td>27</td>\n",
              "      <td>154059.09</td>\n",
              "    </tr>\n",
              "    <tr>\n",
              "      <th>5519934</th>\n",
              "      <td>0</td>\n",
              "      <td>0</td>\n",
              "      <td>02 - PARTICULARES</td>\n",
              "      <td>0.024486</td>\n",
              "      <td>F</td>\n",
              "      <td>62</td>\n",
              "      <td>23</td>\n",
              "      <td>104881.71</td>\n",
              "    </tr>\n",
              "    <tr>\n",
              "      <th>5519936</th>\n",
              "      <td>2</td>\n",
              "      <td>1</td>\n",
              "      <td>01 - TOP</td>\n",
              "      <td>0.003964</td>\n",
              "      <td>F</td>\n",
              "      <td>78</td>\n",
              "      <td>24</td>\n",
              "      <td>81977.58</td>\n",
              "    </tr>\n",
              "    <tr>\n",
              "      <th>5519938</th>\n",
              "      <td>2</td>\n",
              "      <td>0</td>\n",
              "      <td>02 - PARTICULARES</td>\n",
              "      <td>0.024486</td>\n",
              "      <td>F</td>\n",
              "      <td>54</td>\n",
              "      <td>36</td>\n",
              "      <td>157268.85</td>\n",
              "    </tr>\n",
              "  </tbody>\n",
              "</table>\n",
              "</div>\n",
              "      <button class=\"colab-df-convert\" onclick=\"convertToInteractive('df-554e39b6-8997-4b08-aed4-5a6aba846efe')\"\n",
              "              title=\"Convert this dataframe to an interactive table.\"\n",
              "              style=\"display:none;\">\n",
              "        \n",
              "  <svg xmlns=\"http://www.w3.org/2000/svg\" height=\"24px\"viewBox=\"0 0 24 24\"\n",
              "       width=\"24px\">\n",
              "    <path d=\"M0 0h24v24H0V0z\" fill=\"none\"/>\n",
              "    <path d=\"M18.56 5.44l.94 2.06.94-2.06 2.06-.94-2.06-.94-.94-2.06-.94 2.06-2.06.94zm-11 1L8.5 8.5l.94-2.06 2.06-.94-2.06-.94L8.5 2.5l-.94 2.06-2.06.94zm10 10l.94 2.06.94-2.06 2.06-.94-2.06-.94-.94-2.06-.94 2.06-2.06.94z\"/><path d=\"M17.41 7.96l-1.37-1.37c-.4-.4-.92-.59-1.43-.59-.52 0-1.04.2-1.43.59L10.3 9.45l-7.72 7.72c-.78.78-.78 2.05 0 2.83L4 21.41c.39.39.9.59 1.41.59.51 0 1.02-.2 1.41-.59l7.78-7.78 2.81-2.81c.8-.78.8-2.07 0-2.86zM5.41 20L4 18.59l7.72-7.72 1.47 1.35L5.41 20z\"/>\n",
              "  </svg>\n",
              "      </button>\n",
              "      \n",
              "  <style>\n",
              "    .colab-df-container {\n",
              "      display:flex;\n",
              "      flex-wrap:wrap;\n",
              "      gap: 12px;\n",
              "    }\n",
              "\n",
              "    .colab-df-convert {\n",
              "      background-color: #E8F0FE;\n",
              "      border: none;\n",
              "      border-radius: 50%;\n",
              "      cursor: pointer;\n",
              "      display: none;\n",
              "      fill: #1967D2;\n",
              "      height: 32px;\n",
              "      padding: 0 0 0 0;\n",
              "      width: 32px;\n",
              "    }\n",
              "\n",
              "    .colab-df-convert:hover {\n",
              "      background-color: #E2EBFA;\n",
              "      box-shadow: 0px 1px 2px rgba(60, 64, 67, 0.3), 0px 1px 3px 1px rgba(60, 64, 67, 0.15);\n",
              "      fill: #174EA6;\n",
              "    }\n",
              "\n",
              "    [theme=dark] .colab-df-convert {\n",
              "      background-color: #3B4455;\n",
              "      fill: #D2E3FC;\n",
              "    }\n",
              "\n",
              "    [theme=dark] .colab-df-convert:hover {\n",
              "      background-color: #434B5C;\n",
              "      box-shadow: 0px 1px 3px 1px rgba(0, 0, 0, 0.15);\n",
              "      filter: drop-shadow(0px 1px 2px rgba(0, 0, 0, 0.3));\n",
              "      fill: #FFFFFF;\n",
              "    }\n",
              "  </style>\n",
              "\n",
              "      <script>\n",
              "        const buttonEl =\n",
              "          document.querySelector('#df-554e39b6-8997-4b08-aed4-5a6aba846efe button.colab-df-convert');\n",
              "        buttonEl.style.display =\n",
              "          google.colab.kernel.accessAllowed ? 'block' : 'none';\n",
              "\n",
              "        async function convertToInteractive(key) {\n",
              "          const element = document.querySelector('#df-554e39b6-8997-4b08-aed4-5a6aba846efe');\n",
              "          const dataTable =\n",
              "            await google.colab.kernel.invokeFunction('convertToInteractive',\n",
              "                                                     [key], {});\n",
              "          if (!dataTable) return;\n",
              "\n",
              "          const docLinkHtml = 'Like what you see? Visit the ' +\n",
              "            '<a target=\"_blank\" href=https://colab.research.google.com/notebooks/data_table.ipynb>data table notebook</a>'\n",
              "            + ' to learn more about interactive tables.';\n",
              "          element.innerHTML = '';\n",
              "          dataTable['output_type'] = 'display_data';\n",
              "          await google.colab.output.renderOutput(dataTable, element);\n",
              "          const docLink = document.createElement('div');\n",
              "          docLink.innerHTML = docLinkHtml;\n",
              "          element.appendChild(docLink);\n",
              "        }\n",
              "      </script>\n",
              "    </div>\n",
              "  </div>\n",
              "  "
            ]
          },
          "metadata": {},
          "execution_count": 105
        }
      ],
      "source": [
        "df_pred.head()"
      ]
    },
    {
      "cell_type": "markdown",
      "metadata": {
        "id": "Cp9D1jNh09Yz"
      },
      "source": [
        "# Sample"
      ]
    },
    {
      "cell_type": "code",
      "execution_count": 106,
      "metadata": {
        "id": "WVHs_Vq90z8S"
      },
      "outputs": [],
      "source": [
        "# Para la clasificación, necesitamos de un dataset equilibrado"
      ]
    },
    {
      "cell_type": "code",
      "execution_count": 107,
      "metadata": {
        "colab": {
          "base_uri": "https://localhost:8080/",
          "height": 237
        },
        "id": "mnjegP_u1H4G",
        "outputId": "62b40fff-1670-48ba-8364-f1e529895aaa"
      },
      "outputs": [
        {
          "output_type": "display_data",
          "data": {
            "text/plain": [
              "<Figure size 800x200 with 1 Axes>"
            ],
            "image/png": "[encoded data removed]"
          },
          "metadata": {}
        }
      ],
      "source": [
        "fig, ax = plt.subplots(figsize=(8, 2))\n",
        "sns.countplot(data=df_pp, x='pension_plan')\n",
        "plt.show()"
      ]
    },
    {
      "cell_type": "code",
      "execution_count": 108,
      "metadata": {
        "colab": {
          "base_uri": "https://localhost:8080/"
        },
        "id": "rDVfP_sj1XjX",
        "outputId": "4f3f4c3e-59da-491b-8780-8530958adb11"
      },
      "outputs": [
        {
          "output_type": "execute_result",
          "data": {
            "text/plain": [
              "0    289358\n",
              "1      4647\n",
              "Name: pension_plan, dtype: int64"
            ]
          },
          "metadata": {},
          "execution_count": 108
        }
      ],
      "source": [
        "df_pp['pension_plan'].value_counts()"
      ]
    },
    {
      "cell_type": "code",
      "execution_count": 109,
      "metadata": {
        "colab": {
          "base_uri": "https://localhost:8080/"
        },
        "id": "EJkEAp702HII",
        "outputId": "d9656738-2fed-4736-f489-7ed18570ae03"
      },
      "outputs": [
        {
          "output_type": "execute_result",
          "data": {
            "text/plain": [
              "0    98.419415\n",
              "1     1.580585\n",
              "Name: pension_plan, dtype: float64"
            ]
          },
          "metadata": {},
          "execution_count": 109
        }
      ],
      "source": [
        "df_pp['pension_plan'].value_counts(normalize=True).mul(100)\n"
      ]
    },
    {
      "cell_type": "code",
      "execution_count": 110,
      "metadata": {
        "colab": {
          "base_uri": "https://localhost:8080/"
        },
        "id": "5YA_sQwb5Hgo",
        "outputId": "34bebd10-d32d-45ba-cdac-67165e67dadd"
      },
      "outputs": [
        {
          "output_type": "execute_result",
          "data": {
            "text/plain": [
              "0    289358\n",
              "1      4647\n",
              "Name: pension_plan, dtype: int64"
            ]
          },
          "metadata": {},
          "execution_count": 110
        }
      ],
      "source": [
        "df_pp[\"pension_plan\"].value_counts()"
      ]
    },
    {
      "cell_type": "code",
      "execution_count": 111,
      "metadata": {
        "id": "PyibxvLN2NDW"
      },
      "outputs": [],
      "source": [
        "# filtramos los productos contratados de los no contratados\n",
        "contratados = df_pp.loc[df_pp['pension_plan'] == 1]\n",
        "no_contratados = df_pp.loc[df_pp['pension_plan'] == 0]"
      ]
    },
    {
      "cell_type": "code",
      "execution_count": 112,
      "metadata": {
        "colab": {
          "base_uri": "https://localhost:8080/"
        },
        "id": "NBF5aKMS31n-",
        "outputId": "b1254e33-7c0d-441c-cd54-38831d7c4015"
      },
      "outputs": [
        {
          "output_type": "execute_result",
          "data": {
            "text/plain": [
              "(4647, 9)"
            ]
          },
          "metadata": {},
          "execution_count": 112
        }
      ],
      "source": [
        "contratados.shape"
      ]
    },
    {
      "cell_type": "code",
      "execution_count": 113,
      "metadata": {
        "id": "7SjQJurVkeR5"
      },
      "outputs": [],
      "source": [
        "# Seleccionamos la muestra de forma aleatoria\n",
        "no_contratados = no_contratados.sample(len(contratados), replace=False, random_state=42)"
      ]
    },
    {
      "cell_type": "code",
      "execution_count": 114,
      "metadata": {
        "colab": {
          "base_uri": "https://localhost:8080/"
        },
        "id": "7maI6Wlz3RSh",
        "outputId": "60145187-f45f-4b9e-e55b-9cf67aa065a8"
      },
      "outputs": [
        {
          "output_type": "execute_result",
          "data": {
            "text/plain": [
              "(4647, 9)"
            ]
          },
          "metadata": {},
          "execution_count": 114
        }
      ],
      "source": [
        "contratados.shape"
      ]
    },
    {
      "cell_type": "code",
      "execution_count": 115,
      "metadata": {
        "colab": {
          "base_uri": "https://localhost:8080/"
        },
        "id": "T_pnv4Sk3UcN",
        "outputId": "58f3b6ed-8b00-4c3b-faa3-3ac84efad32b"
      },
      "outputs": [
        {
          "output_type": "execute_result",
          "data": {
            "text/plain": [
              "(4647, 9)"
            ]
          },
          "metadata": {},
          "execution_count": 115
        }
      ],
      "source": [
        "no_contratados.shape"
      ]
    },
    {
      "cell_type": "code",
      "execution_count": 116,
      "metadata": {
        "id": "3QXqmRq7kua4"
      },
      "outputs": [],
      "source": [
        "# se juntan los dataframes de entregados y cancelados en el df_train\n",
        "df_pp = pd.concat([contratados, no_contratados])"
      ]
    },
    {
      "cell_type": "code",
      "execution_count": 117,
      "metadata": {
        "colab": {
          "base_uri": "https://localhost:8080/",
          "height": 234
        },
        "id": "dn-1lHNZk7Ec",
        "outputId": "fccc6f57-61f1-423a-ed2d-3933dbb4a79d"
      },
      "outputs": [
        {
          "output_type": "display_data",
          "data": {
            "text/plain": [
              "<Figure size 800x200 with 1 Axes>"
            ],
            "image/png": "[encoded data removed]"
          },
          "metadata": {}
        }
      ],
      "source": [
        "fig, ax = plt.subplots(figsize=(8, 2))\n",
        "sns.countplot(data=df_pp, x='pension_plan')\n",
        "plt.show()"
      ]
    },
    {
      "cell_type": "code",
      "execution_count": 118,
      "metadata": {
        "colab": {
          "base_uri": "https://localhost:8080/"
        },
        "id": "qe4aik_Z2rjd",
        "outputId": "0182fa46-d368-4f2d-b7d9-6f628ba5b63d"
      },
      "outputs": [
        {
          "output_type": "execute_result",
          "data": {
            "text/plain": [
              "(9294, 9)"
            ]
          },
          "metadata": {},
          "execution_count": 118
        }
      ],
      "source": [
        "df_pp.shape"
      ]
    },
    {
      "cell_type": "code",
      "execution_count": 119,
      "metadata": {
        "colab": {
          "base_uri": "https://localhost:8080/",
          "height": 206
        },
        "id": "T0P4wj3X71Ae",
        "outputId": "83ab2c79-1be8-4b91-82c8-6353956def76"
      },
      "outputs": [
        {
          "output_type": "execute_result",
          "data": {
            "text/plain": [
              "     entry_channel  active_customer             segment  region_code gender  \\\n",
              "125              9                1  03 - UNIVERSITARIO     0.009327      M   \n",
              "375              8                1   02 - PARTICULARES     0.018332      F   \n",
              "440              7                1  03 - UNIVERSITARIO     0.018332      M   \n",
              "676             11                1            01 - TOP     0.014856      M   \n",
              "732              7                1   02 - PARTICULARES     0.024486      M   \n",
              "\n",
              "     age  antiquity     salary  pension_plan  \n",
              "125   21          5  207088.89             1  \n",
              "375   54          5   92492.58             1  \n",
              "440   26          5   88812.06             1  \n",
              "676   49          5   58054.26             1  \n",
              "732   28          5   92355.81             1  "
            ],
            "text/html": [
              "\n",
              "  <div id=\"df-5621703b-a827-490e-b470-3199353028d4\">\n",
              "    <div class=\"colab-df-container\">\n",
              "      <div>\n",
              "<style scoped>\n",
              "    .dataframe tbody tr th:only-of-type {\n",
              "        vertical-align: middle;\n",
              "    }\n",
              "\n",
              "    .dataframe tbody tr th {\n",
              "        vertical-align: top;\n",
              "    }\n",
              "\n",
              "    .dataframe thead th {\n",
              "        text-align: right;\n",
              "    }\n",
              "</style>\n",
              "<table border=\"1\" class=\"dataframe\">\n",
              "  <thead>\n",
              "    <tr style=\"text-align: right;\">\n",
              "      <th></th>\n",
              "      <th>entry_channel</th>\n",
              "      <th>active_customer</th>\n",
              "      <th>segment</th>\n",
              "      <th>region_code</th>\n",
              "      <th>gender</th>\n",
              "      <th>age</th>\n",
              "      <th>antiquity</th>\n",
              "      <th>salary</th>\n",
              "      <th>pension_plan</th>\n",
              "    </tr>\n",
              "  </thead>\n",
              "  <tbody>\n",
              "    <tr>\n",
              "      <th>125</th>\n",
              "      <td>9</td>\n",
              "      <td>1</td>\n",
              "      <td>03 - UNIVERSITARIO</td>\n",
              "      <td>0.009327</td>\n",
              "      <td>M</td>\n",
              "      <td>21</td>\n",
              "      <td>5</td>\n",
              "      <td>207088.89</td>\n",
              "      <td>1</td>\n",
              "    </tr>\n",
              "    <tr>\n",
              "      <th>375</th>\n",
              "      <td>8</td>\n",
              "      <td>1</td>\n",
              "      <td>02 - PARTICULARES</td>\n",
              "      <td>0.018332</td>\n",
              "      <td>F</td>\n",
              "      <td>54</td>\n",
              "      <td>5</td>\n",
              "      <td>92492.58</td>\n",
              "      <td>1</td>\n",
              "    </tr>\n",
              "    <tr>\n",
              "      <th>440</th>\n",
              "      <td>7</td>\n",
              "      <td>1</td>\n",
              "      <td>03 - UNIVERSITARIO</td>\n",
              "      <td>0.018332</td>\n",
              "      <td>M</td>\n",
              "      <td>26</td>\n",
              "      <td>5</td>\n",
              "      <td>88812.06</td>\n",
              "      <td>1</td>\n",
              "    </tr>\n",
              "    <tr>\n",
              "      <th>676</th>\n",
              "      <td>11</td>\n",
              "      <td>1</td>\n",
              "      <td>01 - TOP</td>\n",
              "      <td>0.014856</td>\n",
              "      <td>M</td>\n",
              "      <td>49</td>\n",
              "      <td>5</td>\n",
              "      <td>58054.26</td>\n",
              "      <td>1</td>\n",
              "    </tr>\n",
              "    <tr>\n",
              "      <th>732</th>\n",
              "      <td>7</td>\n",
              "      <td>1</td>\n",
              "      <td>02 - PARTICULARES</td>\n",
              "      <td>0.024486</td>\n",
              "      <td>M</td>\n",
              "      <td>28</td>\n",
              "      <td>5</td>\n",
              "      <td>92355.81</td>\n",
              "      <td>1</td>\n",
              "    </tr>\n",
              "  </tbody>\n",
              "</table>\n",
              "</div>\n",
              "      <button class=\"colab-df-convert\" onclick=\"convertToInteractive('df-5621703b-a827-490e-b470-3199353028d4')\"\n",
              "              title=\"Convert this dataframe to an interactive table.\"\n",
              "              style=\"display:none;\">\n",
              "        \n",
              "  <svg xmlns=\"http://www.w3.org/2000/svg\" height=\"24px\"viewBox=\"0 0 24 24\"\n",
              "       width=\"24px\">\n",
              "    <path d=\"M0 0h24v24H0V0z\" fill=\"none\"/>\n",
              "    <path d=\"M18.56 5.44l.94 2.06.94-2.06 2.06-.94-2.06-.94-.94-2.06-.94 2.06-2.06.94zm-11 1L8.5 8.5l.94-2.06 2.06-.94-2.06-.94L8.5 2.5l-.94 2.06-2.06.94zm10 10l.94 2.06.94-2.06 2.06-.94-2.06-.94-.94-2.06-.94 2.06-2.06.94z\"/><path d=\"M17.41 7.96l-1.37-1.37c-.4-.4-.92-.59-1.43-.59-.52 0-1.04.2-1.43.59L10.3 9.45l-7.72 7.72c-.78.78-.78 2.05 0 2.83L4 21.41c.39.39.9.59 1.41.59.51 0 1.02-.2 1.41-.59l7.78-7.78 2.81-2.81c.8-.78.8-2.07 0-2.86zM5.41 20L4 18.59l7.72-7.72 1.47 1.35L5.41 20z\"/>\n",
              "  </svg>\n",
              "      </button>\n",
              "      \n",
              "  <style>\n",
              "    .colab-df-container {\n",
              "      display:flex;\n",
              "      flex-wrap:wrap;\n",
              "      gap: 12px;\n",
              "    }\n",
              "\n",
              "    .colab-df-convert {\n",
              "      background-color: #E8F0FE;\n",
              "      border: none;\n",
              "      border-radius: 50%;\n",
              "      cursor: pointer;\n",
              "      display: none;\n",
              "      fill: #1967D2;\n",
              "      height: 32px;\n",
              "      padding: 0 0 0 0;\n",
              "      width: 32px;\n",
              "    }\n",
              "\n",
              "    .colab-df-convert:hover {\n",
              "      background-color: #E2EBFA;\n",
              "      box-shadow: 0px 1px 2px rgba(60, 64, 67, 0.3), 0px 1px 3px 1px rgba(60, 64, 67, 0.15);\n",
              "      fill: #174EA6;\n",
              "    }\n",
              "\n",
              "    [theme=dark] .colab-df-convert {\n",
              "      background-color: #3B4455;\n",
              "      fill: #D2E3FC;\n",
              "    }\n",
              "\n",
              "    [theme=dark] .colab-df-convert:hover {\n",
              "      background-color: #434B5C;\n",
              "      box-shadow: 0px 1px 3px 1px rgba(0, 0, 0, 0.15);\n",
              "      filter: drop-shadow(0px 1px 2px rgba(0, 0, 0, 0.3));\n",
              "      fill: #FFFFFF;\n",
              "    }\n",
              "  </style>\n",
              "\n",
              "      <script>\n",
              "        const buttonEl =\n",
              "          document.querySelector('#df-5621703b-a827-490e-b470-3199353028d4 button.colab-df-convert');\n",
              "        buttonEl.style.display =\n",
              "          google.colab.kernel.accessAllowed ? 'block' : 'none';\n",
              "\n",
              "        async function convertToInteractive(key) {\n",
              "          const element = document.querySelector('#df-5621703b-a827-490e-b470-3199353028d4');\n",
              "          const dataTable =\n",
              "            await google.colab.kernel.invokeFunction('convertToInteractive',\n",
              "                                                     [key], {});\n",
              "          if (!dataTable) return;\n",
              "\n",
              "          const docLinkHtml = 'Like what you see? Visit the ' +\n",
              "            '<a target=\"_blank\" href=https://colab.research.google.com/notebooks/data_table.ipynb>data table notebook</a>'\n",
              "            + ' to learn more about interactive tables.';\n",
              "          element.innerHTML = '';\n",
              "          dataTable['output_type'] = 'display_data';\n",
              "          await google.colab.output.renderOutput(dataTable, element);\n",
              "          const docLink = document.createElement('div');\n",
              "          docLink.innerHTML = docLinkHtml;\n",
              "          element.appendChild(docLink);\n",
              "        }\n",
              "      </script>\n",
              "    </div>\n",
              "  </div>\n",
              "  "
            ]
          },
          "metadata": {},
          "execution_count": 119
        }
      ],
      "source": [
        "df_pp.head()"
      ]
    },
    {
      "cell_type": "markdown",
      "metadata": {
        "id": "RaUgIONqlDfD"
      },
      "source": [
        "# Correlaciones"
      ]
    },
    {
      "cell_type": "code",
      "execution_count": 120,
      "metadata": {
        "colab": {
          "base_uri": "https://localhost:8080/",
          "height": 628
        },
        "id": "0dGdMUsZ6mYQ",
        "outputId": "5f56e5a6-5d46-4412-a539-6af5d32ecc6e"
      },
      "outputs": [
        {
          "output_type": "display_data",
          "data": {
            "text/plain": [
              "<Figure size 800x600 with 2 Axes>"
            ],
            "image/png": "[encoded data removed]"
          },
          "metadata": {}
        }
      ],
      "source": [
        "plt.rcParams['figure.figsize'] = 8, 6\n",
        "sns.heatmap(df_pp.corr(), annot=True, cmap=\"YlGnBu\")\n",
        "plt.show()\n"
      ]
    },
    {
      "cell_type": "markdown",
      "metadata": {
        "id": "tFiaOm2glZjY"
      },
      "source": [
        "# One hot encoding"
      ]
    },
    {
      "cell_type": "code",
      "source": [
        "df_pp = pd.get_dummies(df_pp)\n",
        "df_pred = pd.get_dummies(df_pred)"
      ],
      "metadata": {
        "id": "O1uKijeeI5GN"
      },
      "execution_count": 121,
      "outputs": []
    },
    {
      "cell_type": "code",
      "source": [
        "df_pp.head()"
      ],
      "metadata": {
        "colab": {
          "base_uri": "https://localhost:8080/",
          "height": 268
        },
        "id": "sF-3-CYTJWJe",
        "outputId": "182ce54a-b364-49e4-c0f1-ae73ec5a7180"
      },
      "execution_count": 122,
      "outputs": [
        {
          "output_type": "execute_result",
          "data": {
            "text/plain": [
              "     entry_channel  active_customer  region_code  age  antiquity     salary  \\\n",
              "125              9                1     0.009327   21          5  207088.89   \n",
              "375              8                1     0.018332   54          5   92492.58   \n",
              "440              7                1     0.018332   26          5   88812.06   \n",
              "676             11                1     0.014856   49          5   58054.26   \n",
              "732              7                1     0.024486   28          5   92355.81   \n",
              "\n",
              "     pension_plan  segment_01 - TOP  segment_02 - PARTICULARES  \\\n",
              "125             1                 0                          0   \n",
              "375             1                 0                          1   \n",
              "440             1                 0                          0   \n",
              "676             1                 1                          0   \n",
              "732             1                 0                          1   \n",
              "\n",
              "     segment_03 - UNIVERSITARIO  gender_F  gender_M  \n",
              "125                           1         0         1  \n",
              "375                           0         1         0  \n",
              "440                           1         0         1  \n",
              "676                           0         0         1  \n",
              "732                           0         0         1  "
            ],
            "text/html": [
              "\n",
              "  <div id=\"df-5962b0ae-d5f3-462e-bd0b-9b3a74684377\">\n",
              "    <div class=\"colab-df-container\">\n",
              "      <div>\n",
              "<style scoped>\n",
              "    .dataframe tbody tr th:only-of-type {\n",
              "        vertical-align: middle;\n",
              "    }\n",
              "\n",
              "    .dataframe tbody tr th {\n",
              "        vertical-align: top;\n",
              "    }\n",
              "\n",
              "    .dataframe thead th {\n",
              "        text-align: right;\n",
              "    }\n",
              "</style>\n",
              "<table border=\"1\" class=\"dataframe\">\n",
              "  <thead>\n",
              "    <tr style=\"text-align: right;\">\n",
              "      <th></th>\n",
              "      <th>entry_channel</th>\n",
              "      <th>active_customer</th>\n",
              "      <th>region_code</th>\n",
              "      <th>age</th>\n",
              "      <th>antiquity</th>\n",
              "      <th>salary</th>\n",
              "      <th>pension_plan</th>\n",
              "      <th>segment_01 - TOP</th>\n",
              "      <th>segment_02 - PARTICULARES</th>\n",
              "      <th>segment_03 - UNIVERSITARIO</th>\n",
              "      <th>gender_F</th>\n",
              "      <th>gender_M</th>\n",
              "    </tr>\n",
              "  </thead>\n",
              "  <tbody>\n",
              "    <tr>\n",
              "      <th>125</th>\n",
              "      <td>9</td>\n",
              "      <td>1</td>\n",
              "      <td>0.009327</td>\n",
              "      <td>21</td>\n",
              "      <td>5</td>\n",
              "      <td>207088.89</td>\n",
              "      <td>1</td>\n",
              "      <td>0</td>\n",
              "      <td>0</td>\n",
              "      <td>1</td>\n",
              "      <td>0</td>\n",
              "      <td>1</td>\n",
              "    </tr>\n",
              "    <tr>\n",
              "      <th>375</th>\n",
              "      <td>8</td>\n",
              "      <td>1</td>\n",
              "      <td>0.018332</td>\n",
              "      <td>54</td>\n",
              "      <td>5</td>\n",
              "      <td>92492.58</td>\n",
              "      <td>1</td>\n",
              "      <td>0</td>\n",
              "      <td>1</td>\n",
              "      <td>0</td>\n",
              "      <td>1</td>\n",
              "      <td>0</td>\n",
              "    </tr>\n",
              "    <tr>\n",
              "      <th>440</th>\n",
              "      <td>7</td>\n",
              "      <td>1</td>\n",
              "      <td>0.018332</td>\n",
              "      <td>26</td>\n",
              "      <td>5</td>\n",
              "      <td>88812.06</td>\n",
              "      <td>1</td>\n",
              "      <td>0</td>\n",
              "      <td>0</td>\n",
              "      <td>1</td>\n",
              "      <td>0</td>\n",
              "      <td>1</td>\n",
              "    </tr>\n",
              "    <tr>\n",
              "      <th>676</th>\n",
              "      <td>11</td>\n",
              "      <td>1</td>\n",
              "      <td>0.014856</td>\n",
              "      <td>49</td>\n",
              "      <td>5</td>\n",
              "      <td>58054.26</td>\n",
              "      <td>1</td>\n",
              "      <td>1</td>\n",
              "      <td>0</td>\n",
              "      <td>0</td>\n",
              "      <td>0</td>\n",
              "      <td>1</td>\n",
              "    </tr>\n",
              "    <tr>\n",
              "      <th>732</th>\n",
              "      <td>7</td>\n",
              "      <td>1</td>\n",
              "      <td>0.024486</td>\n",
              "      <td>28</td>\n",
              "      <td>5</td>\n",
              "      <td>92355.81</td>\n",
              "      <td>1</td>\n",
              "      <td>0</td>\n",
              "      <td>1</td>\n",
              "      <td>0</td>\n",
              "      <td>0</td>\n",
              "      <td>1</td>\n",
              "    </tr>\n",
              "  </tbody>\n",
              "</table>\n",
              "</div>\n",
              "      <button class=\"colab-df-convert\" onclick=\"convertToInteractive('df-5962b0ae-d5f3-462e-bd0b-9b3a74684377')\"\n",
              "              title=\"Convert this dataframe to an interactive table.\"\n",
              "              style=\"display:none;\">\n",
              "        \n",
              "  <svg xmlns=\"http://www.w3.org/2000/svg\" height=\"24px\"viewBox=\"0 0 24 24\"\n",
              "       width=\"24px\">\n",
              "    <path d=\"M0 0h24v24H0V0z\" fill=\"none\"/>\n",
              "    <path d=\"M18.56 5.44l.94 2.06.94-2.06 2.06-.94-2.06-.94-.94-2.06-.94 2.06-2.06.94zm-11 1L8.5 8.5l.94-2.06 2.06-.94-2.06-.94L8.5 2.5l-.94 2.06-2.06.94zm10 10l.94 2.06.94-2.06 2.06-.94-2.06-.94-.94-2.06-.94 2.06-2.06.94z\"/><path d=\"M17.41 7.96l-1.37-1.37c-.4-.4-.92-.59-1.43-.59-.52 0-1.04.2-1.43.59L10.3 9.45l-7.72 7.72c-.78.78-.78 2.05 0 2.83L4 21.41c.39.39.9.59 1.41.59.51 0 1.02-.2 1.41-.59l7.78-7.78 2.81-2.81c.8-.78.8-2.07 0-2.86zM5.41 20L4 18.59l7.72-7.72 1.47 1.35L5.41 20z\"/>\n",
              "  </svg>\n",
              "      </button>\n",
              "      \n",
              "  <style>\n",
              "    .colab-df-container {\n",
              "      display:flex;\n",
              "      flex-wrap:wrap;\n",
              "      gap: 12px;\n",
              "    }\n",
              "\n",
              "    .colab-df-convert {\n",
              "      background-color: #E8F0FE;\n",
              "      border: none;\n",
              "      border-radius: 50%;\n",
              "      cursor: pointer;\n",
              "      display: none;\n",
              "      fill: #1967D2;\n",
              "      height: 32px;\n",
              "      padding: 0 0 0 0;\n",
              "      width: 32px;\n",
              "    }\n",
              "\n",
              "    .colab-df-convert:hover {\n",
              "      background-color: #E2EBFA;\n",
              "      box-shadow: 0px 1px 2px rgba(60, 64, 67, 0.3), 0px 1px 3px 1px rgba(60, 64, 67, 0.15);\n",
              "      fill: #174EA6;\n",
              "    }\n",
              "\n",
              "    [theme=dark] .colab-df-convert {\n",
              "      background-color: #3B4455;\n",
              "      fill: #D2E3FC;\n",
              "    }\n",
              "\n",
              "    [theme=dark] .colab-df-convert:hover {\n",
              "      background-color: #434B5C;\n",
              "      box-shadow: 0px 1px 3px 1px rgba(0, 0, 0, 0.15);\n",
              "      filter: drop-shadow(0px 1px 2px rgba(0, 0, 0, 0.3));\n",
              "      fill: #FFFFFF;\n",
              "    }\n",
              "  </style>\n",
              "\n",
              "      <script>\n",
              "        const buttonEl =\n",
              "          document.querySelector('#df-5962b0ae-d5f3-462e-bd0b-9b3a74684377 button.colab-df-convert');\n",
              "        buttonEl.style.display =\n",
              "          google.colab.kernel.accessAllowed ? 'block' : 'none';\n",
              "\n",
              "        async function convertToInteractive(key) {\n",
              "          const element = document.querySelector('#df-5962b0ae-d5f3-462e-bd0b-9b3a74684377');\n",
              "          const dataTable =\n",
              "            await google.colab.kernel.invokeFunction('convertToInteractive',\n",
              "                                                     [key], {});\n",
              "          if (!dataTable) return;\n",
              "\n",
              "          const docLinkHtml = 'Like what you see? Visit the ' +\n",
              "            '<a target=\"_blank\" href=https://colab.research.google.com/notebooks/data_table.ipynb>data table notebook</a>'\n",
              "            + ' to learn more about interactive tables.';\n",
              "          element.innerHTML = '';\n",
              "          dataTable['output_type'] = 'display_data';\n",
              "          await google.colab.output.renderOutput(dataTable, element);\n",
              "          const docLink = document.createElement('div');\n",
              "          docLink.innerHTML = docLinkHtml;\n",
              "          element.appendChild(docLink);\n",
              "        }\n",
              "      </script>\n",
              "    </div>\n",
              "  </div>\n",
              "  "
            ]
          },
          "metadata": {},
          "execution_count": 122
        }
      ]
    },
    {
      "cell_type": "code",
      "source": [
        "df_pred.head()"
      ],
      "metadata": {
        "colab": {
          "base_uri": "https://localhost:8080/",
          "height": 268
        },
        "id": "FvtpB258JaH5",
        "outputId": "adda2246-a214-4845-da9a-82533f0b1f5d"
      },
      "execution_count": 123,
      "outputs": [
        {
          "output_type": "execute_result",
          "data": {
            "text/plain": [
              "         entry_channel  active_customer  region_code  age  antiquity  \\\n",
              "5519929             10                1     0.007423   44         48   \n",
              "5519932              0                1     0.024486   85         27   \n",
              "5519934              0                0     0.024486   62         23   \n",
              "5519936              2                1     0.003964   78         24   \n",
              "5519938              2                0     0.024486   54         36   \n",
              "\n",
              "            salary  segment_01 - TOP  segment_02 - PARTICULARES  \\\n",
              "5519929   54493.38                 0                          1   \n",
              "5519932  154059.09                 1                          0   \n",
              "5519934  104881.71                 0                          1   \n",
              "5519936   81977.58                 1                          0   \n",
              "5519938  157268.85                 0                          1   \n",
              "\n",
              "         segment_03 - UNIVERSITARIO  gender_F  gender_M  \n",
              "5519929                           0         1         0  \n",
              "5519932                           0         1         0  \n",
              "5519934                           0         1         0  \n",
              "5519936                           0         1         0  \n",
              "5519938                           0         1         0  "
            ],
            "text/html": [
              "\n",
              "  <div id=\"df-99cf4314-f409-48cb-b388-b58e19c51a50\">\n",
              "    <div class=\"colab-df-container\">\n",
              "      <div>\n",
              "<style scoped>\n",
              "    .dataframe tbody tr th:only-of-type {\n",
              "        vertical-align: middle;\n",
              "    }\n",
              "\n",
              "    .dataframe tbody tr th {\n",
              "        vertical-align: top;\n",
              "    }\n",
              "\n",
              "    .dataframe thead th {\n",
              "        text-align: right;\n",
              "    }\n",
              "</style>\n",
              "<table border=\"1\" class=\"dataframe\">\n",
              "  <thead>\n",
              "    <tr style=\"text-align: right;\">\n",
              "      <th></th>\n",
              "      <th>entry_channel</th>\n",
              "      <th>active_customer</th>\n",
              "      <th>region_code</th>\n",
              "      <th>age</th>\n",
              "      <th>antiquity</th>\n",
              "      <th>salary</th>\n",
              "      <th>segment_01 - TOP</th>\n",
              "      <th>segment_02 - PARTICULARES</th>\n",
              "      <th>segment_03 - UNIVERSITARIO</th>\n",
              "      <th>gender_F</th>\n",
              "      <th>gender_M</th>\n",
              "    </tr>\n",
              "  </thead>\n",
              "  <tbody>\n",
              "    <tr>\n",
              "      <th>5519929</th>\n",
              "      <td>10</td>\n",
              "      <td>1</td>\n",
              "      <td>0.007423</td>\n",
              "      <td>44</td>\n",
              "      <td>48</td>\n",
              "      <td>54493.38</td>\n",
              "      <td>0</td>\n",
              "      <td>1</td>\n",
              "      <td>0</td>\n",
              "      <td>1</td>\n",
              "      <td>0</td>\n",
              "    </tr>\n",
              "    <tr>\n",
              "      <th>5519932</th>\n",
              "      <td>0</td>\n",
              "      <td>1</td>\n",
              "      <td>0.024486</td>\n",
              "      <td>85</td>\n",
              "      <td>27</td>\n",
              "      <td>154059.09</td>\n",
              "      <td>1</td>\n",
              "      <td>0</td>\n",
              "      <td>0</td>\n",
              "      <td>1</td>\n",
              "      <td>0</td>\n",
              "    </tr>\n",
              "    <tr>\n",
              "      <th>5519934</th>\n",
              "      <td>0</td>\n",
              "      <td>0</td>\n",
              "      <td>0.024486</td>\n",
              "      <td>62</td>\n",
              "      <td>23</td>\n",
              "      <td>104881.71</td>\n",
              "      <td>0</td>\n",
              "      <td>1</td>\n",
              "      <td>0</td>\n",
              "      <td>1</td>\n",
              "      <td>0</td>\n",
              "    </tr>\n",
              "    <tr>\n",
              "      <th>5519936</th>\n",
              "      <td>2</td>\n",
              "      <td>1</td>\n",
              "      <td>0.003964</td>\n",
              "      <td>78</td>\n",
              "      <td>24</td>\n",
              "      <td>81977.58</td>\n",
              "      <td>1</td>\n",
              "      <td>0</td>\n",
              "      <td>0</td>\n",
              "      <td>1</td>\n",
              "      <td>0</td>\n",
              "    </tr>\n",
              "    <tr>\n",
              "      <th>5519938</th>\n",
              "      <td>2</td>\n",
              "      <td>0</td>\n",
              "      <td>0.024486</td>\n",
              "      <td>54</td>\n",
              "      <td>36</td>\n",
              "      <td>157268.85</td>\n",
              "      <td>0</td>\n",
              "      <td>1</td>\n",
              "      <td>0</td>\n",
              "      <td>1</td>\n",
              "      <td>0</td>\n",
              "    </tr>\n",
              "  </tbody>\n",
              "</table>\n",
              "</div>\n",
              "      <button class=\"colab-df-convert\" onclick=\"convertToInteractive('df-99cf4314-f409-48cb-b388-b58e19c51a50')\"\n",
              "              title=\"Convert this dataframe to an interactive table.\"\n",
              "              style=\"display:none;\">\n",
              "        \n",
              "  <svg xmlns=\"http://www.w3.org/2000/svg\" height=\"24px\"viewBox=\"0 0 24 24\"\n",
              "       width=\"24px\">\n",
              "    <path d=\"M0 0h24v24H0V0z\" fill=\"none\"/>\n",
              "    <path d=\"M18.56 5.44l.94 2.06.94-2.06 2.06-.94-2.06-.94-.94-2.06-.94 2.06-2.06.94zm-11 1L8.5 8.5l.94-2.06 2.06-.94-2.06-.94L8.5 2.5l-.94 2.06-2.06.94zm10 10l.94 2.06.94-2.06 2.06-.94-2.06-.94-.94-2.06-.94 2.06-2.06.94z\"/><path d=\"M17.41 7.96l-1.37-1.37c-.4-.4-.92-.59-1.43-.59-.52 0-1.04.2-1.43.59L10.3 9.45l-7.72 7.72c-.78.78-.78 2.05 0 2.83L4 21.41c.39.39.9.59 1.41.59.51 0 1.02-.2 1.41-.59l7.78-7.78 2.81-2.81c.8-.78.8-2.07 0-2.86zM5.41 20L4 18.59l7.72-7.72 1.47 1.35L5.41 20z\"/>\n",
              "  </svg>\n",
              "      </button>\n",
              "      \n",
              "  <style>\n",
              "    .colab-df-container {\n",
              "      display:flex;\n",
              "      flex-wrap:wrap;\n",
              "      gap: 12px;\n",
              "    }\n",
              "\n",
              "    .colab-df-convert {\n",
              "      background-color: #E8F0FE;\n",
              "      border: none;\n",
              "      border-radius: 50%;\n",
              "      cursor: pointer;\n",
              "      display: none;\n",
              "      fill: #1967D2;\n",
              "      height: 32px;\n",
              "      padding: 0 0 0 0;\n",
              "      width: 32px;\n",
              "    }\n",
              "\n",
              "    .colab-df-convert:hover {\n",
              "      background-color: #E2EBFA;\n",
              "      box-shadow: 0px 1px 2px rgba(60, 64, 67, 0.3), 0px 1px 3px 1px rgba(60, 64, 67, 0.15);\n",
              "      fill: #174EA6;\n",
              "    }\n",
              "\n",
              "    [theme=dark] .colab-df-convert {\n",
              "      background-color: #3B4455;\n",
              "      fill: #D2E3FC;\n",
              "    }\n",
              "\n",
              "    [theme=dark] .colab-df-convert:hover {\n",
              "      background-color: #434B5C;\n",
              "      box-shadow: 0px 1px 3px 1px rgba(0, 0, 0, 0.15);\n",
              "      filter: drop-shadow(0px 1px 2px rgba(0, 0, 0, 0.3));\n",
              "      fill: #FFFFFF;\n",
              "    }\n",
              "  </style>\n",
              "\n",
              "      <script>\n",
              "        const buttonEl =\n",
              "          document.querySelector('#df-99cf4314-f409-48cb-b388-b58e19c51a50 button.colab-df-convert');\n",
              "        buttonEl.style.display =\n",
              "          google.colab.kernel.accessAllowed ? 'block' : 'none';\n",
              "\n",
              "        async function convertToInteractive(key) {\n",
              "          const element = document.querySelector('#df-99cf4314-f409-48cb-b388-b58e19c51a50');\n",
              "          const dataTable =\n",
              "            await google.colab.kernel.invokeFunction('convertToInteractive',\n",
              "                                                     [key], {});\n",
              "          if (!dataTable) return;\n",
              "\n",
              "          const docLinkHtml = 'Like what you see? Visit the ' +\n",
              "            '<a target=\"_blank\" href=https://colab.research.google.com/notebooks/data_table.ipynb>data table notebook</a>'\n",
              "            + ' to learn more about interactive tables.';\n",
              "          element.innerHTML = '';\n",
              "          dataTable['output_type'] = 'display_data';\n",
              "          await google.colab.output.renderOutput(dataTable, element);\n",
              "          const docLink = document.createElement('div');\n",
              "          docLink.innerHTML = docLinkHtml;\n",
              "          element.appendChild(docLink);\n",
              "        }\n",
              "      </script>\n",
              "    </div>\n",
              "  </div>\n",
              "  "
            ]
          },
          "metadata": {},
          "execution_count": 123
        }
      ]
    },
    {
      "cell_type": "markdown",
      "metadata": {
        "id": "37c7-fIrlcuU"
      },
      "source": [
        "# Split train/test"
      ]
    },
    {
      "cell_type": "code",
      "execution_count": 124,
      "metadata": {
        "id": "7iM44R9jlZFL"
      },
      "outputs": [],
      "source": [
        "# se guarda la target como y y las features como X\n",
        "\n",
        "y = df_pp['pension_plan']\n",
        "X = df_pp.drop('pension_plan', axis=1)\n",
        "\n",
        "# se guarda un 30% de datos para el test y un 70% para el train\n",
        "X_train, X_test, y_train, y_test = train_test_split(X, y, test_size=0.3, random_state=42)"
      ]
    },
    {
      "cell_type": "code",
      "execution_count": 125,
      "metadata": {
        "colab": {
          "base_uri": "https://localhost:8080/"
        },
        "id": "Bs6BKQOnlysF",
        "outputId": "23870cda-daad-4797-b787-0f0983a909a8"
      },
      "outputs": [
        {
          "output_type": "execute_result",
          "data": {
            "text/plain": [
              "(6505, 11)"
            ]
          },
          "metadata": {},
          "execution_count": 125
        }
      ],
      "source": [
        "X_train.shape"
      ]
    },
    {
      "cell_type": "code",
      "source": [
        "y_train.shape"
      ],
      "metadata": {
        "colab": {
          "base_uri": "https://localhost:8080/"
        },
        "id": "8ERmWJ6qGZJE",
        "outputId": "46f03918-d9ee-495b-a4c4-022f1da560a7"
      },
      "execution_count": 126,
      "outputs": [
        {
          "output_type": "execute_result",
          "data": {
            "text/plain": [
              "(6505,)"
            ]
          },
          "metadata": {},
          "execution_count": 126
        }
      ]
    },
    {
      "cell_type": "markdown",
      "metadata": {
        "id": "fv_6x0bml4Bj"
      },
      "source": [
        "# Estandarizacion"
      ]
    },
    {
      "cell_type": "code",
      "execution_count": 127,
      "metadata": {
        "colab": {
          "base_uri": "https://localhost:8080/"
        },
        "id": "OPhTDdvdl6Rw",
        "outputId": "28b8d757-3bb4-4adf-dab1-fe32b34f6c0c"
      },
      "outputs": [
        {
          "output_type": "execute_result",
          "data": {
            "text/plain": [
              "(280829, 11)"
            ]
          },
          "metadata": {},
          "execution_count": 127
        }
      ],
      "source": [
        "df_pred.shape"
      ]
    },
    {
      "cell_type": "code",
      "execution_count": 128,
      "metadata": {
        "id": "k81FAFksl-Cz"
      },
      "outputs": [],
      "source": [
        "# se estandarizan las variables\n",
        "scaler = StandardScaler()\n",
        "X_train = scaler.fit_transform(X_train)   # estandariza y define la regla de estandarización\n",
        "X_test = scaler.transform(X_test)         # estandariza según la regla definida con el X_train, con la media de X_train"
      ]
    },
    {
      "cell_type": "code",
      "execution_count": 129,
      "metadata": {
        "id": "dwd6LJdzmCJp"
      },
      "outputs": [],
      "source": [
        "# se estandarizan las variables del dataset a predecir según la regla definida con el X_train\n",
        "df_pred = scaler.transform(df_pred)"
      ]
    },
    {
      "cell_type": "markdown",
      "metadata": {
        "id": "8jTIQuGjmREF"
      },
      "source": [
        "# Modelado"
      ]
    },
    {
      "cell_type": "code",
      "execution_count": 130,
      "metadata": {
        "id": "5tDtT41MmJNX"
      },
      "outputs": [],
      "source": [
        "def medicion(y_t, y_p):\n",
        "  \"\"\"imprime la curva ROC y el AUC\"\"\"\n",
        "\n",
        "  # calculate the fpr and tpr for all thresholds of the classification\n",
        "  fpr, tpr, threshold = metrics.roc_curve(y_t, y_p)\n",
        "  roc_auc = metrics.auc(fpr, tpr)\n",
        "\n",
        "  # # method I: plt\n",
        "  # import matplotlib.pyplot as plt\n",
        "  # plt.figure(figsize=(8, 6))\n",
        "  # plt.title('Receiver Operating Characteristic')\n",
        "  # plt.plot(fpr, tpr, 'b', label = 'AUC = %0.2f' % roc_auc)\n",
        "  # plt.legend(loc = 'lower right')\n",
        "  # plt.plot([0, 1], [0, 1],'r--')\n",
        "  # plt.xlim([0, 1])\n",
        "  # plt.ylim([0, 1])\n",
        "  # plt.ylabel('True Positive Rate')\n",
        "  # plt.xlabel('False Positive Rate')\n",
        "  # plt.show()\n",
        "  return roc_auc"
      ]
    },
    {
      "cell_type": "code",
      "execution_count": 131,
      "metadata": {
        "id": "NWFGGu1umX05"
      },
      "outputs": [],
      "source": [
        "def entrenar(Xtrain, Xtest, ytrain, ytest):\n",
        "  \"\"\"entrena 6 módelos.\n",
        "      imprime la curva roc de cada módelo junto al valor AUC\n",
        "      devuelve un dataframe con los valores de AUC redondeados a 5 decimales para cada módelo\"\"\"\n",
        "\n",
        "  # creamos la lista de auc vacía\n",
        "  lista_aucs = []\n",
        "\n",
        "  # Support Vector Machine\n",
        "  print('Support Vector Machine')\n",
        "  svclassifier = SVC(max_iter=20)\n",
        "\n",
        "  svclassifier.fit(Xtrain, ytrain)\n",
        "  y_pred = svclassifier.predict(Xtest)\n",
        "\n",
        "  roc_auc = medicion(ytest, y_pred)\n",
        "  lista_aucs.append(('SVC', round(roc_auc, 5)))\n",
        "\n",
        "  # Regresión logística\n",
        "  print('Regresión logística')\n",
        "  lr = LogisticRegression(max_iter=40)\n",
        "\n",
        "  lr.fit(Xtrain, ytrain)\n",
        "  y_pred = lr.predict(Xtest)\n",
        "\n",
        "  roc_auc = medicion(ytest, y_pred)\n",
        "  lista_aucs.append(('regresión logística', round(roc_auc, 5)))\n",
        "\n",
        "  # Decision tree classsifier\n",
        "  print('Decision tree classsifier')\n",
        "  dt_base = DecisionTreeClassifier(random_state=42)\n",
        "\n",
        "  dt_base.fit(Xtrain, ytrain)\n",
        "  y_pred = dt_base.predict(Xtest)\n",
        "\n",
        "  roc_auc = medicion(ytest, y_pred)\n",
        "  lista_aucs.append(('decision tree classifier', round(roc_auc, 5)))\n",
        "\n",
        "  # Random forest\n",
        "  print('Random forest')\n",
        "  rf_base = RandomForestClassifier(random_state=42)\n",
        "\n",
        "  rf_base.fit(Xtrain, ytrain)\n",
        "  y_pred = rf_base.predict(Xtest)\n",
        "\n",
        "  roc_auc = medicion(ytest, y_pred)\n",
        "  lista_aucs.append(('random forest', round(roc_auc, 5)))\n",
        "\n",
        "  # Gradient boosting\n",
        "  print('Gradient boosting')\n",
        "  gbc_base = GradientBoostingClassifier(random_state=42)\n",
        "\n",
        "  gbc_base.fit(Xtrain, ytrain)\n",
        "  y_pred = gbc_base.predict(Xtest)\n",
        "\n",
        "  roc_auc = medicion(ytest, y_pred)\n",
        "  lista_aucs.append(('gradient boosting', round(roc_auc, 5)))\n",
        "\n",
        "  # XGBClassifier\n",
        "  print('XGBClassifier')\n",
        "  xgbc_base = xgb.XGBClassifier(random_state=42)\n",
        "\n",
        "  xgbc_base.fit(Xtrain, ytrain)\n",
        "  y_pred = xgbc_base.predict(Xtest)\n",
        "\n",
        "  roc_auc = medicion(ytest, y_pred)\n",
        "  lista_aucs.append(('XGB classifier', round(roc_auc, 5)))\n",
        "\n",
        "  df_aucs = pd.DataFrame(lista_aucs, columns=['modelos', 'AUC'])\n",
        "  df_aucs = df_aucs.set_index('modelos')\n",
        "\n",
        "  return df_aucs"
      ]
    },
    {
      "cell_type": "code",
      "execution_count": 132,
      "metadata": {
        "colab": {
          "base_uri": "https://localhost:8080/"
        },
        "id": "eSv0aA9wmd2N",
        "outputId": "49a76919-5bc9-42d7-d900-b440a31649d8"
      },
      "outputs": [
        {
          "output_type": "stream",
          "name": "stdout",
          "text": [
            "Support Vector Machine\n",
            "Regresión logística\n",
            "Decision tree classsifier\n",
            "Random forest\n",
            "Gradient boosting\n",
            "XGBClassifier\n"
          ]
        }
      ],
      "source": [
        "aucs = entrenar(X_train, X_test, y_train, y_test)"
      ]
    },
    {
      "cell_type": "markdown",
      "metadata": {
        "id": "fRuPeChFmjOC"
      },
      "source": [
        "# AUCS"
      ]
    },
    {
      "cell_type": "code",
      "execution_count": 133,
      "metadata": {
        "id": "3lJ4Jd79mkyP",
        "colab": {
          "base_uri": "https://localhost:8080/",
          "height": 269
        },
        "outputId": "f92d808e-4713-489b-e7ec-e8f3b692437f"
      },
      "outputs": [
        {
          "output_type": "execute_result",
          "data": {
            "text/plain": [
              "                              AUC\n",
              "modelos                          \n",
              "SVC                       0.49070\n",
              "regresión logística       0.78830\n",
              "decision tree classifier  0.75010\n",
              "random forest             0.81635\n",
              "gradient boosting         0.83820\n",
              "XGB classifier            0.81744"
            ],
            "text/html": [
              "\n",
              "  <div id=\"df-31b21a3b-a5dd-4909-bcde-368f2f5c8055\">\n",
              "    <div class=\"colab-df-container\">\n",
              "      <div>\n",
              "<style scoped>\n",
              "    .dataframe tbody tr th:only-of-type {\n",
              "        vertical-align: middle;\n",
              "    }\n",
              "\n",
              "    .dataframe tbody tr th {\n",
              "        vertical-align: top;\n",
              "    }\n",
              "\n",
              "    .dataframe thead th {\n",
              "        text-align: right;\n",
              "    }\n",
              "</style>\n",
              "<table border=\"1\" class=\"dataframe\">\n",
              "  <thead>\n",
              "    <tr style=\"text-align: right;\">\n",
              "      <th></th>\n",
              "      <th>AUC</th>\n",
              "    </tr>\n",
              "    <tr>\n",
              "      <th>modelos</th>\n",
              "      <th></th>\n",
              "    </tr>\n",
              "  </thead>\n",
              "  <tbody>\n",
              "    <tr>\n",
              "      <th>SVC</th>\n",
              "      <td>0.49070</td>\n",
              "    </tr>\n",
              "    <tr>\n",
              "      <th>regresión logística</th>\n",
              "      <td>0.78830</td>\n",
              "    </tr>\n",
              "    <tr>\n",
              "      <th>decision tree classifier</th>\n",
              "      <td>0.75010</td>\n",
              "    </tr>\n",
              "    <tr>\n",
              "      <th>random forest</th>\n",
              "      <td>0.81635</td>\n",
              "    </tr>\n",
              "    <tr>\n",
              "      <th>gradient boosting</th>\n",
              "      <td>0.83820</td>\n",
              "    </tr>\n",
              "    <tr>\n",
              "      <th>XGB classifier</th>\n",
              "      <td>0.81744</td>\n",
              "    </tr>\n",
              "  </tbody>\n",
              "</table>\n",
              "</div>\n",
              "      <button class=\"colab-df-convert\" onclick=\"convertToInteractive('df-31b21a3b-a5dd-4909-bcde-368f2f5c8055')\"\n",
              "              title=\"Convert this dataframe to an interactive table.\"\n",
              "              style=\"display:none;\">\n",
              "        \n",
              "  <svg xmlns=\"http://www.w3.org/2000/svg\" height=\"24px\"viewBox=\"0 0 24 24\"\n",
              "       width=\"24px\">\n",
              "    <path d=\"M0 0h24v24H0V0z\" fill=\"none\"/>\n",
              "    <path d=\"M18.56 5.44l.94 2.06.94-2.06 2.06-.94-2.06-.94-.94-2.06-.94 2.06-2.06.94zm-11 1L8.5 8.5l.94-2.06 2.06-.94-2.06-.94L8.5 2.5l-.94 2.06-2.06.94zm10 10l.94 2.06.94-2.06 2.06-.94-2.06-.94-.94-2.06-.94 2.06-2.06.94z\"/><path d=\"M17.41 7.96l-1.37-1.37c-.4-.4-.92-.59-1.43-.59-.52 0-1.04.2-1.43.59L10.3 9.45l-7.72 7.72c-.78.78-.78 2.05 0 2.83L4 21.41c.39.39.9.59 1.41.59.51 0 1.02-.2 1.41-.59l7.78-7.78 2.81-2.81c.8-.78.8-2.07 0-2.86zM5.41 20L4 18.59l7.72-7.72 1.47 1.35L5.41 20z\"/>\n",
              "  </svg>\n",
              "      </button>\n",
              "      \n",
              "  <style>\n",
              "    .colab-df-container {\n",
              "      display:flex;\n",
              "      flex-wrap:wrap;\n",
              "      gap: 12px;\n",
              "    }\n",
              "\n",
              "    .colab-df-convert {\n",
              "      background-color: #E8F0FE;\n",
              "      border: none;\n",
              "      border-radius: 50%;\n",
              "      cursor: pointer;\n",
              "      display: none;\n",
              "      fill: #1967D2;\n",
              "      height: 32px;\n",
              "      padding: 0 0 0 0;\n",
              "      width: 32px;\n",
              "    }\n",
              "\n",
              "    .colab-df-convert:hover {\n",
              "      background-color: #E2EBFA;\n",
              "      box-shadow: 0px 1px 2px rgba(60, 64, 67, 0.3), 0px 1px 3px 1px rgba(60, 64, 67, 0.15);\n",
              "      fill: #174EA6;\n",
              "    }\n",
              "\n",
              "    [theme=dark] .colab-df-convert {\n",
              "      background-color: #3B4455;\n",
              "      fill: #D2E3FC;\n",
              "    }\n",
              "\n",
              "    [theme=dark] .colab-df-convert:hover {\n",
              "      background-color: #434B5C;\n",
              "      box-shadow: 0px 1px 3px 1px rgba(0, 0, 0, 0.15);\n",
              "      filter: drop-shadow(0px 1px 2px rgba(0, 0, 0, 0.3));\n",
              "      fill: #FFFFFF;\n",
              "    }\n",
              "  </style>\n",
              "\n",
              "      <script>\n",
              "        const buttonEl =\n",
              "          document.querySelector('#df-31b21a3b-a5dd-4909-bcde-368f2f5c8055 button.colab-df-convert');\n",
              "        buttonEl.style.display =\n",
              "          google.colab.kernel.accessAllowed ? 'block' : 'none';\n",
              "\n",
              "        async function convertToInteractive(key) {\n",
              "          const element = document.querySelector('#df-31b21a3b-a5dd-4909-bcde-368f2f5c8055');\n",
              "          const dataTable =\n",
              "            await google.colab.kernel.invokeFunction('convertToInteractive',\n",
              "                                                     [key], {});\n",
              "          if (!dataTable) return;\n",
              "\n",
              "          const docLinkHtml = 'Like what you see? Visit the ' +\n",
              "            '<a target=\"_blank\" href=https://colab.research.google.com/notebooks/data_table.ipynb>data table notebook</a>'\n",
              "            + ' to learn more about interactive tables.';\n",
              "          element.innerHTML = '';\n",
              "          dataTable['output_type'] = 'display_data';\n",
              "          await google.colab.output.renderOutput(dataTable, element);\n",
              "          const docLink = document.createElement('div');\n",
              "          docLink.innerHTML = docLinkHtml;\n",
              "          element.appendChild(docLink);\n",
              "        }\n",
              "      </script>\n",
              "    </div>\n",
              "  </div>\n",
              "  "
            ]
          },
          "metadata": {},
          "execution_count": 133
        }
      ],
      "source": [
        "aucs"
      ]
    },
    {
      "cell_type": "code",
      "source": [
        "# De acuerdo con la tabla anterior el modelo con mejor desempeño es el gradient boosting"
      ],
      "metadata": {
        "id": "PZkxjJduKFVJ"
      },
      "execution_count": 134,
      "outputs": []
    },
    {
      "cell_type": "markdown",
      "metadata": {
        "id": "7neBmmbmmqaH"
      },
      "source": [
        "# Gridsearch"
      ]
    },
    {
      "cell_type": "code",
      "execution_count": 135,
      "metadata": {
        "id": "Bh1maeI3mslw"
      },
      "outputs": [],
      "source": [
        "# gridsearch\n",
        "parameters = {'learning_rate': [0.05, 0.1, 0.15, 0.2],\n",
        "              'n_estimators': [100, 300, 500],\n",
        "              'subsample': [0.7, 1],\n",
        "              'max_depth': [3, 4, 5],\n",
        "              'max_leaf_nodes': [None, 2, 3]}"
      ]
    },
    {
      "cell_type": "code",
      "execution_count": 136,
      "metadata": {
        "id": "5nMdh1Z7mm1h"
      },
      "outputs": [],
      "source": [
        "gbc_hp =  GradientBoostingClassifier()"
      ]
    },
    {
      "cell_type": "code",
      "execution_count": 137,
      "metadata": {
        "id": "EZag8QTvmg6c"
      },
      "outputs": [],
      "source": [
        "# gbc_grid = GridSearchCV(gbc_hp,\n",
        "#                         parameters,\n",
        "#                         cv=2,\n",
        "#                         verbose=True)\n",
        "\n",
        "# gbc_grid.fit(X_train, y_train)"
      ]
    },
    {
      "cell_type": "code",
      "execution_count": 138,
      "metadata": {
        "id": "wRV2xBcvm7EL"
      },
      "outputs": [],
      "source": [
        "# # se imprime el modelo con los mejores parametros\n",
        "# gbc_grid.best_estimator_"
      ]
    },
    {
      "cell_type": "code",
      "execution_count": 139,
      "metadata": {
        "id": "DNAhomSQm9Jb"
      },
      "outputs": [],
      "source": [
        "# se introducen los parametros del griedsearch\n",
        "gbc = GradientBoostingClassifier(learning_rate=0.15, max_leaf_nodes=3, subsample=1)\n",
        "\n",
        "gbc.fit(X_train, y_train)\n",
        "y_pred = gbc.predict(X_test)"
      ]
    },
    {
      "cell_type": "code",
      "execution_count": 140,
      "metadata": {
        "id": "4HGdx4Gqm_Ye",
        "colab": {
          "base_uri": "https://localhost:8080/"
        },
        "outputId": "d2af9bc5-3722-4d1b-d19f-3a7bbd5ebc9f"
      },
      "outputs": [
        {
          "output_type": "stream",
          "name": "stdout",
          "text": [
            "0.8403522421769098\n"
          ]
        }
      ],
      "source": [
        "roc_auc = medicion(y_test, y_pred)\n",
        "print(roc_auc)"
      ]
    },
    {
      "cell_type": "markdown",
      "metadata": {
        "id": "fPaixHBynB4i"
      },
      "source": [
        "# PREDICT"
      ]
    },
    {
      "cell_type": "code",
      "execution_count": 141,
      "metadata": {
        "id": "Bfg6pJzCnEgZ",
        "colab": {
          "base_uri": "https://localhost:8080/"
        },
        "outputId": "777fecfc-ce18-4278-d96a-6506810a49dc"
      },
      "outputs": [
        {
          "output_type": "execute_result",
          "data": {
            "text/plain": [
              "array([1, 1, 0, ..., 0, 0, 0])"
            ]
          },
          "metadata": {},
          "execution_count": 141
        }
      ],
      "source": [
        "# se hace la predicción\n",
        "\n",
        "pred = gbc.predict(df_pred)\n",
        "pred"
      ]
    },
    {
      "cell_type": "code",
      "execution_count": 142,
      "metadata": {
        "id": "Yvfulw5TnGtA",
        "colab": {
          "base_uri": "https://localhost:8080/"
        },
        "outputId": "884d53d3-1d12-4c68-9894-427546b2d9c2"
      },
      "outputs": [
        {
          "output_type": "execute_result",
          "data": {
            "text/plain": [
              "array([[0.31543112, 0.68456888],\n",
              "       [0.25765172, 0.74234828],\n",
              "       [0.9403556 , 0.0596444 ],\n",
              "       ...,\n",
              "       [0.98196211, 0.01803789],\n",
              "       [0.9694145 , 0.0305855 ],\n",
              "       [0.97955717, 0.02044283]])"
            ]
          },
          "metadata": {},
          "execution_count": 142
        }
      ],
      "source": [
        "# se hace la predicción con la probabilidad para cada categoría\n",
        "\n",
        "pred_proba = gbc.predict_proba(df_pred)\n",
        "pred_proba"
      ]
    },
    {
      "cell_type": "code",
      "execution_count": 143,
      "metadata": {
        "id": "SOMUYhLDnJGh",
        "colab": {
          "base_uri": "https://localhost:8080/"
        },
        "outputId": "0f522b64-0dc6-4b0b-be01-cb5b683193c0"
      },
      "outputs": [
        {
          "output_type": "execute_result",
          "data": {
            "text/plain": [
              "[0.6845688791434895,\n",
              " 0.7423482818665122,\n",
              " 0.05964440434645433,\n",
              " 0.7281746921341048,\n",
              " 0.0529553051475391,\n",
              " 0.7307853845458329,\n",
              " 0.7346245066151179,\n",
              " 0.05933228809504375,\n",
              " 0.7036639992990896,\n",
              " 0.6789218605650237,\n",
              " 0.04818875351346009,\n",
              " 0.7512469355337608,\n",
              " 0.04750175100872905,\n",
              " 0.043553261832353904,\n",
              " 0.050313424753221134,\n",
              " 0.7633709783735622,\n",
              " 0.04408938306392295,\n",
              " 0.8792279355331893,\n",
              " 0.7522151473739835,\n",
              " 0.0845736706544139,\n",
              " 0.8558703514437684,\n",
              " 0.6757417988566136,\n",
              " 0.7042969242083746,\n",
              " 0.045530165831322265,\n",
              " 0.035264419046224106,\n",
              " 0.675362221825436,\n",
              " 0.6714603141301617,\n",
              " 0.7162014447225369,\n",
              " 0.5294026902615135,\n",
              " 0.7346245066151179,\n",
              " 0.8823974031088042,\n",
              " 0.8094455670032643,\n",
              " 0.058867545456128934,\n",
              " 0.8478713012382906,\n",
              " 0.04405255422406055,\n",
              " 0.6994678018954411,\n",
              " 0.04502576594987462,\n",
              " 0.7156791803870624,\n",
              " 0.7776957923334434,\n",
              " 0.05404224479437177,\n",
              " 0.7929762378778268,\n",
              " 0.8160008062352067,\n",
              " 0.8357227009935316,\n",
              " 0.058237315172486905,\n",
              " 0.783046002761664,\n",
              " 0.7284405370752265,\n",
              " 0.04502576594987462,\n",
              " 0.2170440233947268,\n",
              " 0.6940573891483643,\n",
              " 0.7587663641723121,\n",
              " 0.04255704858009068,\n",
              " 0.05605129278499571,\n",
              " 0.739242807099621,\n",
              " 0.042850611220264054,\n",
              " 0.7052243044551793,\n",
              " 0.6811132347615331,\n",
              " 0.695943431382513,\n",
              " 0.4936818977094143,\n",
              " 0.7797379821678024,\n",
              " 0.04165081418358597,\n",
              " 0.09020519379185828,\n",
              " 0.7489892445074197,\n",
              " 0.7073379386218431,\n",
              " 0.05180320063630448,\n",
              " 0.056787380024205344,\n",
              " 0.7528047374308401,\n",
              " 0.7162063788404426,\n",
              " 0.8093342511257431,\n",
              " 0.6692261668275998,\n",
              " 0.6782014790068587,\n",
              " 0.8313329242693573,\n",
              " 0.41406188344622313,\n",
              " 0.7300658942129346,\n",
              " 0.7261999702486546,\n",
              " 0.7430554513327857,\n",
              " 0.08687432635966344,\n",
              " 0.052109267627270105,\n",
              " 0.7369528384582621,\n",
              " 0.6887376467936349,\n",
              " 0.047053016501015975,\n",
              " 0.6989893483371947,\n",
              " 0.7324203677753794,\n",
              " 0.05476374025247987,\n",
              " 0.05083788441774299,\n",
              " 0.6480056889227153,\n",
              " 0.04980973039989863,\n",
              " 0.7728658896713987,\n",
              " 0.6718378608045482,\n",
              " 0.7632203569526761,\n",
              " 0.06938763857552639,\n",
              " 0.7292920532364587,\n",
              " 0.7332036088164768,\n",
              " 0.7301008637298746,\n",
              " 0.6702817843569993,\n",
              " 0.8821668375521751,\n",
              " 0.6726903822641296,\n",
              " 0.056169359742873286,\n",
              " 0.047792595517623236,\n",
              " 0.05087032567653745,\n",
              " 0.7032127001834434,\n",
              " 0.4017333582768163,\n",
              " 0.7019813709993624,\n",
              " 0.05964440434645433,\n",
              " 0.756535043775739,\n",
              " 0.7195187042196551,\n",
              " 0.7596008403388543,\n",
              " 0.6761767796357486,\n",
              " 0.06644070203671343,\n",
              " 0.8291768088856523,\n",
              " 0.7715988455083785,\n",
              " 0.05087032567653745,\n",
              " 0.8195063548049976,\n",
              " 0.6974102008343612,\n",
              " 0.020167557918454274,\n",
              " 0.8128866086562742,\n",
              " 0.04397507666016471,\n",
              " 0.04041879728207683,\n",
              " 0.8093719993736991,\n",
              " 0.07282964468740562,\n",
              " 0.6907982680935365,\n",
              " 0.07064996913937902,\n",
              " 0.05504111161913291,\n",
              " 0.717622446334985,\n",
              " 0.6993977244548952,\n",
              " 0.11338823297981053,\n",
              " 0.04780491770560969,\n",
              " 0.7402974278400563,\n",
              " 0.8807704331277452,\n",
              " 0.7301008637298746,\n",
              " 0.7498582100813205,\n",
              " 0.054652624631916315,\n",
              " 0.7310506232632149,\n",
              " 0.7073506018988743,\n",
              " 0.052104480492767724,\n",
              " 0.054588485866692474,\n",
              " 0.8458825842054682,\n",
              " 0.7012165611681478,\n",
              " 0.8364687418243575,\n",
              " 0.056487848223213295,\n",
              " 0.0529553051475391,\n",
              " 0.708780341914156,\n",
              " 0.6606430807147291,\n",
              " 0.12616511185045576,\n",
              " 0.17526109077155946,\n",
              " 0.8021448279090269,\n",
              " 0.6726903822641296,\n",
              " 0.7348835200497347,\n",
              " 0.047923951835590305,\n",
              " 0.7402974278400563,\n",
              " 0.04632130376339734,\n",
              " 0.738677375715407,\n",
              " 0.038329901083338336,\n",
              " 0.7250030307575154,\n",
              " 0.6420003063589251,\n",
              " 0.04228109381173181,\n",
              " 0.05174114738864554,\n",
              " 0.052109267627270105,\n",
              " 0.11959583397901453,\n",
              " 0.7085231385623727,\n",
              " 0.9039242279817346,\n",
              " 0.060614073181132516,\n",
              " 0.7121051932287971,\n",
              " 0.7229980412635969,\n",
              " 0.08168058389622553,\n",
              " 0.7783454387631527,\n",
              " 0.6859779746262672,\n",
              " 0.6993993582198819,\n",
              " 0.43239857659358116,\n",
              " 0.050141023497310984,\n",
              " 0.05335661608807662,\n",
              " 0.727664227771109,\n",
              " 0.7718633338843368,\n",
              " 0.8233522904848316,\n",
              " 0.6958619439435177,\n",
              " 0.6881076329828663,\n",
              " 0.7522151473739835,\n",
              " 0.04439582504275813,\n",
              " 0.04568133139298431,\n",
              " 0.05587754630947777,\n",
              " 0.7430554513327857,\n",
              " 0.6987349560456282,\n",
              " 0.048505353069074705,\n",
              " 0.7004111924919739,\n",
              " 0.06955866200832328,\n",
              " 0.7498582100813205,\n",
              " 0.7076207818250403,\n",
              " 0.04614254276506741,\n",
              " 0.7847245586490069,\n",
              " 0.592663146330768,\n",
              " 0.7325775717669529,\n",
              " 0.7694040190552418,\n",
              " 0.0529553051475391,\n",
              " 0.7486770926557704,\n",
              " 0.683893901219127,\n",
              " 0.7569919436307383,\n",
              " 0.047002343363585115,\n",
              " 0.7042237985024311,\n",
              " 0.7291397189260023,\n",
              " 0.7074574695224022,\n",
              " 0.7035861536616924,\n",
              " 0.734984100331832,\n",
              " 0.7432455071611761,\n",
              " 0.47654518790014744,\n",
              " 0.7112608627664481,\n",
              " 0.7468633036816956,\n",
              " 0.7102939605519251,\n",
              " 0.06352749134295943,\n",
              " 0.04041879728207683,\n",
              " 0.06663928818831155,\n",
              " 0.04469640957304352,\n",
              " 0.8280551097441167,\n",
              " 0.7669492204256996,\n",
              " 0.7428278758559397,\n",
              " 0.8092742882109253,\n",
              " 0.615848418226975,\n",
              " 0.793474897483305,\n",
              " 0.6930179914177804,\n",
              " 0.6596684996456827,\n",
              " 0.038008772379281706,\n",
              " 0.618396971818749,\n",
              " 0.05819742844101858,\n",
              " 0.7267313925294047,\n",
              " 0.7923089311005882,\n",
              " 0.43960812601878474,\n",
              " 0.7849092283370246,\n",
              " 0.8085632747180221,\n",
              " 0.7417356409915771,\n",
              " 0.7447632402011921,\n",
              " 0.12175897622632854,\n",
              " 0.7851169209636267,\n",
              " 0.04750175100872905,\n",
              " 0.47200617106542386,\n",
              " 0.43195930044675135,\n",
              " 0.050141023497310984,\n",
              " 0.04712377756667785,\n",
              " 0.704461994100421,\n",
              " 0.7873347108442742,\n",
              " 0.04347048105017648,\n",
              " 0.39271586046423407,\n",
              " 0.08466680390664423,\n",
              " 0.07066549129723838,\n",
              " 0.0525520138398942,\n",
              " 0.05991687288994047,\n",
              " 0.6363678970217637,\n",
              " 0.7747933267499892,\n",
              " 0.059894284771319264,\n",
              " 0.04047482633753499,\n",
              " 0.7738809835606778,\n",
              " 0.04980973039989863,\n",
              " 0.03974963864402494,\n",
              " 0.7526447719355246,\n",
              " 0.04439582504275813,\n",
              " 0.6522734539604639,\n",
              " 0.043553261832353904,\n",
              " 0.06454447183529544,\n",
              " 0.04501890020104767,\n",
              " 0.04951133117293407,\n",
              " 0.050141023497310984,\n",
              " 0.05326110144833298,\n",
              " 0.7523752500576316,\n",
              " 0.050141023497310984,\n",
              " 0.7014280239109043,\n",
              " 0.043159036039959055,\n",
              " 0.8130911645897517,\n",
              " 0.6923967023029036,\n",
              " 0.7828490594074847,\n",
              " 0.7507259875031708,\n",
              " 0.7233385633026531,\n",
              " 0.032045012338539076,\n",
              " 0.7185459918925459,\n",
              " 0.6940446443357426,\n",
              " 0.13684393159364042,\n",
              " 0.7758894651664934,\n",
              " 0.045268724096535116,\n",
              " 0.11229517622464347,\n",
              " 0.048081160116665675,\n",
              " 0.05688494215568783,\n",
              " 0.7352921123825202,\n",
              " 0.7485470840470464,\n",
              " 0.042229978232914356,\n",
              " 0.0451484786107907,\n",
              " 0.7261999702486546,\n",
              " 0.8301117642993427,\n",
              " 0.7041551941916369,\n",
              " 0.7690862745048925,\n",
              " 0.028434376153375098,\n",
              " 0.7911734599398561,\n",
              " 0.05224703761856682,\n",
              " 0.06710693152891724,\n",
              " 0.7441805774552764,\n",
              " 0.7229980412635969,\n",
              " 0.05224703761856682,\n",
              " 0.5814322015823438,\n",
              " 0.7106506565593382,\n",
              " 0.731225542178484,\n",
              " 0.7369191430203843,\n",
              " 0.7402974278400563,\n",
              " 0.052733376713148386,\n",
              " 0.056262617222646735,\n",
              " 0.06184117431564455,\n",
              " 0.7203519547151954,\n",
              " 0.7518892551122547,\n",
              " 0.7338715452549729,\n",
              " 0.04894646176605089,\n",
              " 0.043574251784622806,\n",
              " 0.738677375715407,\n",
              " 0.7490730313036514,\n",
              " 0.7857227250584146,\n",
              " 0.7229980412635969,\n",
              " 0.04581242345072039,\n",
              " 0.7475131382044067,\n",
              " 0.09014338554115513,\n",
              " 0.7052243044551793,\n",
              " 0.8419191049024022,\n",
              " 0.6737464295061766,\n",
              " 0.055172658266638655,\n",
              " 0.6551269878686551,\n",
              " 0.7142656486424622,\n",
              " 0.7578679915499156,\n",
              " 0.040694479615051404,\n",
              " 0.682430645241397,\n",
              " 0.058113595501148065,\n",
              " 0.05224703761856682,\n",
              " 0.05327502180989041,\n",
              " 0.761933179210324,\n",
              " 0.7592558421341009,\n",
              " 0.045266634084347196,\n",
              " 0.05320331401730647,\n",
              " 0.5646055828133679,\n",
              " 0.04453765738125864,\n",
              " 0.7522151473739835,\n",
              " 0.052417646450458676,\n",
              " 0.7545920645864428,\n",
              " 0.674088509996616,\n",
              " 0.04137317440646486,\n",
              " 0.6572848582208254,\n",
              " 0.7324203677753794,\n",
              " 0.7785731183364919,\n",
              " 0.06938763857552639,\n",
              " 0.6974102008343612,\n",
              " 0.8022901742176143,\n",
              " 0.05429322623389908,\n",
              " 0.05387636781643468,\n",
              " 0.7428278758559397,\n",
              " 0.7506230389736369,\n",
              " 0.7920998333596597,\n",
              " 0.04784197989793976,\n",
              " 0.753815388537875,\n",
              " 0.7561032296299082,\n",
              " 0.7569796635011262,\n",
              " 0.031184087156385078,\n",
              " 0.0845075422080074,\n",
              " 0.04439582504275813,\n",
              " 0.8328249535550148,\n",
              " 0.7050173675179752,\n",
              " 0.7244964038877375,\n",
              " 0.6931088948236566,\n",
              " 0.7561032296299082,\n",
              " 0.607585151725418,\n",
              " 0.6095778032766554,\n",
              " 0.6550722245092039,\n",
              " 0.6787116021803863,\n",
              " 0.705904055471214,\n",
              " 0.052544558593349625,\n",
              " 0.7741968701446305,\n",
              " 0.7479402008818712,\n",
              " 0.7716568879195285,\n",
              " 0.049152685075462166,\n",
              " 0.7313509240356459,\n",
              " 0.7578679915499156,\n",
              " 0.043553261832353904,\n",
              " 0.43969024752420705,\n",
              " 0.056479003317098236,\n",
              " 0.7930590117133268,\n",
              " 0.869219872233829,\n",
              " 0.7427135411254537,\n",
              " 0.7906625810646136,\n",
              " 0.696726611094778,\n",
              " 0.08553532735504496,\n",
              " 0.8402905071467284,\n",
              " 0.7762817416605154,\n",
              " 0.050141023497310984,\n",
              " 0.7088904335528813,\n",
              " 0.04197801045538714,\n",
              " 0.046779608394639016,\n",
              " 0.7951773164095325,\n",
              " 0.060604959148751913,\n",
              " 0.0451484786107907,\n",
              " 0.06596336023448532,\n",
              " 0.7000636545356685,\n",
              " 0.8715627182550312,\n",
              " 0.043949289696355545,\n",
              " 0.8019837058789543,\n",
              " 0.5897234921437056,\n",
              " 0.738677375715407,\n",
              " 0.6777757756248232,\n",
              " 0.7012165611681478,\n",
              " 0.6984071542343233,\n",
              " 0.04980973039989863,\n",
              " 0.045472656979365894,\n",
              " 0.7813392032827834,\n",
              " 0.0442416625828684,\n",
              " 0.7972227124710141,\n",
              " 0.6994678018954411,\n",
              " 0.7182269560019667,\n",
              " 0.9099057781281429,\n",
              " 0.058773888210949005,\n",
              " 0.7528557893485234,\n",
              " 0.06261869551425879,\n",
              " 0.4737498921933817,\n",
              " 0.7118506850826649,\n",
              " 0.8411865311025901,\n",
              " 0.758969491745654,\n",
              " 0.7817701537524934,\n",
              " 0.12034382711346758,\n",
              " 0.0506088056729013,\n",
              " 0.8802245616896227,\n",
              " 0.7936204841136162,\n",
              " 0.056787380024205344,\n",
              " 0.052109267627270105,\n",
              " 0.7154992109705754,\n",
              " 0.7229980412635969,\n",
              " 0.056787380024205344,\n",
              " 0.43969024752420705,\n",
              " 0.7073506018988743,\n",
              " 0.052410381174365854,\n",
              " 0.7953666470093262,\n",
              " 0.04453765738125864,\n",
              " 0.0637416714602936,\n",
              " 0.8506215945047181,\n",
              " 0.06663928818831155,\n",
              " 0.6953232500593887,\n",
              " 0.6606430807147291,\n",
              " 0.05670914619750416,\n",
              " 0.7036639992990896,\n",
              " 0.6722858638213198,\n",
              " 0.7329281081631,\n",
              " 0.8389853146774422,\n",
              " 0.49323446452985925,\n",
              " 0.7775656012977282,\n",
              " 0.05154571899895669,\n",
              " 0.642717343580684,\n",
              " 0.04545216816086339,\n",
              " 0.12175897622632854,\n",
              " 0.02083708934454762,\n",
              " 0.7507259875031708,\n",
              " 0.7182269560019667,\n",
              " 0.705904055471214,\n",
              " 0.793474897483305,\n",
              " 0.05670914619750416,\n",
              " 0.05551876791310373,\n",
              " 0.08557572124527982,\n",
              " 0.04036881861731042,\n",
              " 0.7507259875031708,\n",
              " 0.0358869569929082,\n",
              " 0.03937779379397288,\n",
              " 0.09494069819369118,\n",
              " 0.7883568284787458,\n",
              " 0.04191413272121461,\n",
              " 0.040689254041594645,\n",
              " 0.8671923940633741,\n",
              " 0.04615394149937841,\n",
              " 0.6808789886858845,\n",
              " 0.8313593724994189,\n",
              " 0.4664827696985962,\n",
              " 0.7310506232632149,\n",
              " 0.6752107369283878,\n",
              " 0.7688378002421554,\n",
              " 0.043431107163314595,\n",
              " 0.7498582100813205,\n",
              " 0.4193427008808769,\n",
              " 0.04152886688096026,\n",
              " 0.7476377819895504,\n",
              " 0.8617442025582981,\n",
              " 0.6854027505871204,\n",
              " 0.8290631404807025,\n",
              " 0.7282359537065903,\n",
              " 0.6993977244548952,\n",
              " 0.7443220045949097,\n",
              " 0.03877607264405922,\n",
              " 0.04626821586334204,\n",
              " 0.6584022697994415,\n",
              " 0.766094865202635,\n",
              " 0.6378738179159803,\n",
              " 0.06808922580800267,\n",
              " 0.6893254374908931,\n",
              " 0.7034391058423597,\n",
              " 0.043448116895974886,\n",
              " 0.043300975187044156,\n",
              " 0.6356120756884864,\n",
              " 0.7573919706559056,\n",
              " 0.7229980412635969,\n",
              " 0.6822737143311494,\n",
              " 0.7349966198446337,\n",
              " 0.04041879728207683,\n",
              " 0.07082010031309167,\n",
              " 0.7851169209636267,\n",
              " 0.05547444157083335,\n",
              " 0.7073506018988743,\n",
              " 0.04310068421100995,\n",
              " 0.773324070415506,\n",
              " 0.06938763857552639,\n",
              " 0.6994678018954411,\n",
              " 0.6617240125762567,\n",
              " 0.6384974569501718,\n",
              " 0.7282744057607906,\n",
              " 0.048862143502656545,\n",
              " 0.7329281081631,\n",
              " 0.7490491247299531,\n",
              " 0.12175897622632854,\n",
              " 0.049740467510364816,\n",
              " 0.7669041682241359,\n",
              " 0.049865200048894893,\n",
              " 0.7010408143747511,\n",
              " 0.7363410369077616,\n",
              " 0.7154992109705754,\n",
              " 0.700785498024243,\n",
              " 0.045166129191273226,\n",
              " 0.7571353758683634,\n",
              " 0.7563603685067666,\n",
              " 0.04752454933240651,\n",
              " 0.0529553051475391,\n",
              " 0.6903437014848864,\n",
              " 0.06423763768037138,\n",
              " 0.05268002111893403,\n",
              " 0.11991442083067229,\n",
              " 0.050141023497310984,\n",
              " 0.6164796564810715,\n",
              " 0.7011186985749791,\n",
              " 0.04894646176605089,\n",
              " 0.6696801792577151,\n",
              " 0.41191926891428116,\n",
              " 0.772282375297948,\n",
              " 0.878485019185576,\n",
              " 0.6990495159848132,\n",
              " 0.0529553051475391,\n",
              " 0.7507259875031708,\n",
              " 0.7417209499782554,\n",
              " 0.7156791803870624,\n",
              " 0.04599136682778595,\n",
              " 0.050913464953597644,\n",
              " 0.7476377819895504,\n",
              " 0.7220022069451972,\n",
              " 0.04780491770560969,\n",
              " 0.11924874737020048,\n",
              " 0.04393270225664005,\n",
              " 0.6359772423147504,\n",
              " 0.6990495159848132,\n",
              " 0.8350944577045499,\n",
              " 0.7338715452549729,\n",
              " 0.7182269560019667,\n",
              " 0.792178339252817,\n",
              " 0.7891572055801048,\n",
              " 0.028542382672130363,\n",
              " 0.041216873758910866,\n",
              " 0.036398524807972565,\n",
              " 0.7386934038150612,\n",
              " 0.1280510806316645,\n",
              " 0.06371179126758209,\n",
              " 0.8410174425336417,\n",
              " 0.7348835200497347,\n",
              " 0.7220488765260208,\n",
              " 0.7403308430546591,\n",
              " 0.4425990771038616,\n",
              " 0.04814720824946658,\n",
              " 0.027854415535548998,\n",
              " 0.7512469355337608,\n",
              " 0.043553261832353904,\n",
              " 0.762888278133168,\n",
              " 0.04137317440646486,\n",
              " 0.7153390235826587,\n",
              " 0.41871161565501486,\n",
              " 0.744742971908608,\n",
              " 0.042484610291031275,\n",
              " 0.056194990791437055,\n",
              " 0.73352179692287,\n",
              " 0.7228740718295014,\n",
              " 0.04376208048643838,\n",
              " 0.04717492874289763,\n",
              " 0.7507259875031708,\n",
              " 0.726638917476226,\n",
              " 0.7239747553642779,\n",
              " 0.7427135411254537,\n",
              " 0.054652624631916315,\n",
              " 0.7102939605519251,\n",
              " 0.7884003377646052,\n",
              " 0.7466878668399898,\n",
              " 0.042321283301137935,\n",
              " 0.04662566029827991,\n",
              " 0.0637416714602936,\n",
              " 0.8421818627806164,\n",
              " 0.7588910408546707,\n",
              " 0.5655490818569694,\n",
              " 0.7524940059976875,\n",
              " 0.7310506232632149,\n",
              " 0.694557757553991,\n",
              " 0.04701015988244169,\n",
              " 0.7324203677753794,\n",
              " 0.8360476217973108,\n",
              " 0.6294125894068509,\n",
              " 0.0539903970747027,\n",
              " 0.7282171519909493,\n",
              " 0.06763665839898325,\n",
              " 0.04179687676180016,\n",
              " 0.7113868522685319,\n",
              " 0.6974102008343612,\n",
              " 0.059519561009014725,\n",
              " 0.8771329796646458,\n",
              " 0.04814720824946658,\n",
              " 0.06117498388107176,\n",
              " 0.05203594065952984,\n",
              " 0.054652624631916315,\n",
              " 0.07397342415139394,\n",
              " 0.04905393569401262,\n",
              " 0.7103625497691376,\n",
              " 0.04401064268166658,\n",
              " 0.0506204268157429,\n",
              " 0.43485771068641804,\n",
              " 0.047347042797730984,\n",
              " 0.7017998779786216,\n",
              " 0.8274243008626202,\n",
              " 0.7346245066151179,\n",
              " 0.7338715452549729,\n",
              " 0.5684328812594708,\n",
              " 0.6603104511626329,\n",
              " 0.04160507331477035,\n",
              " 0.7084003102134206,\n",
              " 0.07619437513828244,\n",
              " 0.08499110114517655,\n",
              " 0.490731864308916,\n",
              " 0.5158932009541947,\n",
              " 0.7049013402000899,\n",
              " 0.04901237141287687,\n",
              " 0.05087032567653745,\n",
              " 0.7031744518113827,\n",
              " 0.8139152195432267,\n",
              " 0.7363535153122932,\n",
              " 0.04837694588932216,\n",
              " 0.6568982187024239,\n",
              " 0.040694479615051404,\n",
              " 0.6771988014516376,\n",
              " 0.038547158187914383,\n",
              " 0.6551889008451283,\n",
              " 0.09205291357530844,\n",
              " 0.7885428895439051,\n",
              " 0.04524762679995581,\n",
              " 0.47700379622595246,\n",
              " 0.7010408143747511,\n",
              " 0.043553261832353904,\n",
              " 0.7175333739143142,\n",
              " 0.6859779746262672,\n",
              " 0.7328518595521896,\n",
              " 0.732981094971376,\n",
              " 0.040694479615051404,\n",
              " 0.03926916690673405,\n",
              " 0.04840154183956372,\n",
              " 0.6341119872723313,\n",
              " 0.49860263638862157,\n",
              " 0.8626486180113844,\n",
              " 0.7157926786238432,\n",
              " 0.7018733459251516,\n",
              " 0.6364749183120951,\n",
              " 0.7351111162441772,\n",
              " 0.7286395136850724,\n",
              " 0.7102939605519251,\n",
              " 0.7251658790023002,\n",
              " 0.03725885550499582,\n",
              " 0.8280719825132565,\n",
              " 0.043553261832353904,\n",
              " 0.01773399345479413,\n",
              " 0.7156791803870624,\n",
              " 0.707056894815921,\n",
              " 0.6713622933537728,\n",
              " 0.8285663720492378,\n",
              " 0.7368978787751748,\n",
              " 0.7498092906700566,\n",
              " 0.7292920532364587,\n",
              " 0.040988049874524805,\n",
              " 0.7391746306330776,\n",
              " 0.7182269560019667,\n",
              " 0.09550096029814611,\n",
              " 0.03865613133847563,\n",
              " 0.7599620234252735,\n",
              " 0.7402974278400563,\n",
              " 0.04141323182218696,\n",
              " 0.7528662101877767,\n",
              " 0.047573153218357374,\n",
              " 0.040988049874524805,\n",
              " 0.7099531395405851,\n",
              " 0.6356120756884864,\n",
              " 0.052109267627270105,\n",
              " 0.7573440478169379,\n",
              " 0.6974102008343612,\n",
              " 0.6971675452716469,\n",
              " 0.7220488765260208,\n",
              " 0.048267051478603815,\n",
              " 0.8313250708286973,\n",
              " 0.647981207956585,\n",
              " 0.04780491770560969,\n",
              " 0.7547353723140579,\n",
              " 0.745239182847868,\n",
              " 0.7329281081631,\n",
              " 0.7156791803870624,\n",
              " 0.6935487217990102,\n",
              " 0.8760032669234328,\n",
              " 0.8735544336497035,\n",
              " 0.04294756387385852,\n",
              " 0.8315759279057033,\n",
              " 0.6617240125762567,\n",
              " 0.7799278733154767,\n",
              " 0.7073506018988743,\n",
              " 0.7762817416605154,\n",
              " 0.7507259875031708,\n",
              " 0.7424238752230842,\n",
              " 0.5733694312621171,\n",
              " 0.0506204268157429,\n",
              " 0.7433227885803869,\n",
              " 0.7407955110169884,\n",
              " 0.045268724096535116,\n",
              " 0.7130034167583326,\n",
              " 0.6859779746262672,\n",
              " 0.6799963573176204,\n",
              " 0.055172658266638655,\n",
              " 0.8142379625494252,\n",
              " 0.050956822828016744,\n",
              " 0.03586089179219931,\n",
              " 0.7873347108442742,\n",
              " 0.6974102008343612,\n",
              " 0.49008402072690144,\n",
              " 0.04919050529081431,\n",
              " 0.6974102008343612,\n",
              " 0.06663928818831155,\n",
              " 0.7859531817609184,\n",
              " 0.7009709469189572,\n",
              " 0.7573919706559056,\n",
              " 0.7427135411254537,\n",
              " 0.03865613133847563,\n",
              " 0.5897234921437056,\n",
              " 0.672856744133102,\n",
              " 0.7301008637298746,\n",
              " 0.684045430157437,\n",
              " 0.8347371535133146,\n",
              " 0.6848910939276803,\n",
              " 0.7642547308213381,\n",
              " 0.040694479615051404,\n",
              " 0.04599136682778595,\n",
              " 0.681024251489629,\n",
              " 0.5048347493675489,\n",
              " 0.5516460934949659,\n",
              " 0.052109267627270105,\n",
              " 0.7058758814273243,\n",
              " 0.09791395271331,\n",
              " 0.7597006700019514,\n",
              " 0.7432455071611761,\n",
              " 0.04325527702170652,\n",
              " 0.6843613910981184,\n",
              " 0.7402974278400563,\n",
              " 0.7803581003539417,\n",
              " 0.05819742844101858,\n",
              " 0.055537536264570975,\n",
              " 0.7578679915499156,\n",
              " 0.42203152735834,\n",
              " 0.08188815734697774,\n",
              " 0.7020178832093221,\n",
              " 0.04041522766648565,\n",
              " 0.03799672410377974,\n",
              " 0.05166343388883631,\n",
              " 0.724553482177106,\n",
              " 0.7603572067864872,\n",
              " 0.057439176836800256,\n",
              " 0.7310506232632149,\n",
              " 0.7140462817924617,\n",
              " 0.8291362981446556,\n",
              " 0.07042442812953947,\n",
              " 0.0886506174404244,\n",
              " 0.7159101154230008,\n",
              " 0.06833603078325882,\n",
              " 0.6551269878686551,\n",
              " 0.43560187253923555,\n",
              " 0.645206607422713,\n",
              " 0.7849092283370246,\n",
              " 0.502602801585186,\n",
              " 0.6929809090409913,\n",
              " 0.07108325011121129,\n",
              " 0.7980669013924618,\n",
              " 0.03842556579711338,\n",
              " 0.7612679109442558,\n",
              " 0.621174532476548,\n",
              " 0.665462422068927,\n",
              " 0.7884003377646052,\n",
              " 0.39523322876129413,\n",
              " 0.049061433622905985,\n",
              " 0.40004110628016865,\n",
              " 0.7503441404359278,\n",
              " 0.7517453735262603,\n",
              " 0.8421818627806164,\n",
              " 0.5041981026297085,\n",
              " 0.04137317440646486,\n",
              " 0.823745228961867,\n",
              " 0.042439945258825884,\n",
              " 0.08269338399568996,\n",
              " 0.7301187513905205,\n",
              " 0.06493472395702726,\n",
              " 0.7012165611681478,\n",
              " 0.6404962766813564,\n",
              " 0.7740792156883674,\n",
              " 0.7034391058423597,\n",
              " 0.7955719287467308,\n",
              " 0.8740864472168383,\n",
              " 0.7671467321847587,\n",
              " 0.05539702305254823,\n",
              " 0.06993174617659735,\n",
              " 0.056138337463524056,\n",
              " 0.7512469355337608,\n",
              " 0.7402974278400563,\n",
              " 0.03967669004342206,\n",
              " 0.050956822828016744,\n",
              " 0.043431107163314595,\n",
              " 0.68426095134602,\n",
              " 0.7485470840470464,\n",
              " 0.042965916632377636,\n",
              " 0.046565842253642194,\n",
              " 0.7204950179351663,\n",
              " 0.06663928818831155,\n",
              " 0.7470990147074289,\n",
              " 0.7872125472504689,\n",
              " 0.042640083003613806,\n",
              " 0.04964259228467663,\n",
              " 0.037785025154778225,\n",
              " 0.8121092329410231,\n",
              " 0.6079939683178115,\n",
              " 0.03695932894876349,\n",
              " 0.8046549603045685,\n",
              " 0.6617240125762567,\n",
              " 0.682430645241397,\n",
              " 0.70959312256237,\n",
              " 0.7228841675245056,\n",
              " 0.4307572531525583,\n",
              " 0.823745228961867,\n",
              " 0.7036639992990896,\n",
              " 0.029478496100604032,\n",
              " 0.7106506565593382,\n",
              " 0.7604189562194063,\n",
              " 0.6406079503390308,\n",
              " 0.8272895867356118,\n",
              " 0.8019807489320006,\n",
              " 0.7429862432530485,\n",
              " 0.11230271387545716,\n",
              " 0.6715042575263868,\n",
              " 0.7743031364807738,\n",
              " 0.7467689215497983,\n",
              " 0.04361900067132386,\n",
              " 0.7094291877353119,\n",
              " 0.6388500760882929,\n",
              " 0.05711389725021523,\n",
              " 0.7156791803870624,\n",
              " 0.8121092329410231,\n",
              " 0.042102428104217125,\n",
              " 0.12101477363587505,\n",
              " 0.05193483508762752,\n",
              " 0.7102939605519251,\n",
              " 0.049019923829927724,\n",
              " 0.7271174931746132,\n",
              " 0.73352179692287,\n",
              " 0.716913869937898,\n",
              " 0.8851483426655637,\n",
              " 0.045660288970097475,\n",
              " 0.7718533579486614,\n",
              " 0.8623706670090817,\n",
              " 0.7945086331147571,\n",
              " 0.657982915442251,\n",
              " 0.6459022611699586,\n",
              " 0.04070686888419836,\n",
              " 0.705904055471214,\n",
              " 0.6829430392564895,\n",
              " 0.020097882747924883,\n",
              " 0.04450020347547159,\n",
              " 0.8163328778989474,\n",
              " 0.8290631404807025,\n",
              " 0.01688101580401002,\n",
              " 0.712404743046303,\n",
              " 0.6572848582208254,\n",
              " 0.04453765738125864,\n",
              " 0.8243210485067302,\n",
              " 0.03586089179219931,\n",
              " 0.05338698365496475,\n",
              " 0.8047885411033749,\n",
              " 0.7036639992990896,\n",
              " 0.696082809938591,\n",
              " 0.031243115031944928,\n",
              " 0.7923089311005882,\n",
              " 0.04230036211363618,\n",
              " 0.06251399225759122,\n",
              " 0.7930963314932048,\n",
              " 0.6635277656124099,\n",
              " 0.05191721730682894,\n",
              " 0.7310506232632149,\n",
              " 0.6581001848990895,\n",
              " 0.0529553051475391,\n",
              " 0.06253299934625557,\n",
              " 0.577959353750045,\n",
              " 0.7551463297393467,\n",
              " 0.7611878436912531,\n",
              " 0.09751326250206546,\n",
              " 0.04862265738435013,\n",
              " 0.08876311019159026,\n",
              " 0.7580302150349264,\n",
              " 0.03288363840281373,\n",
              " 0.7162063788404426,\n",
              " 0.7005751897336858,\n",
              " 0.07424910854750287,\n",
              " 0.1311810096722792,\n",
              " 0.8184941469149257,\n",
              " 0.7407955110169884,\n",
              " 0.058237315172486905,\n",
              " 0.6993977244548952,\n",
              " 0.08848261035384089,\n",
              " 0.7972227124710141,\n",
              " 0.7622654300640181,\n",
              " 0.5057539022510281,\n",
              " 0.0529553051475391,\n",
              " 0.7099531395405851,\n",
              " 0.03861771089548126,\n",
              " 0.6994678018954411,\n",
              " 0.6811625486714504,\n",
              " 0.6211568264825172,\n",
              " 0.7573919706559056,\n",
              " 0.7758920130681574,\n",
              " 0.08687432635966344,\n",
              " 0.029478496100604032,\n",
              " 0.0470551849274275,\n",
              " 0.7777566579630686,\n",
              " 0.07339598563379077,\n",
              " 0.7310506232632149,\n",
              " 0.7384324753988518,\n",
              " 0.7329281081631,\n",
              " 0.744625344600992,\n",
              " 0.6703495259485535,\n",
              " 0.05087032567653745,\n",
              " 0.027291963189732506,\n",
              " 0.5583546863558189,\n",
              " 0.07108325011121129,\n",
              " 0.6544397611172448,\n",
              " 0.7015823819375212,\n",
              " 0.7205423371880384,\n",
              " 0.42195373497728783,\n",
              " 0.6165057376511105,\n",
              " 0.7485470840470464,\n",
              " 0.7414926037386868,\n",
              " 0.7220306576304655,\n",
              " 0.7310506232632149,\n",
              " 0.6614668891103429,\n",
              " 0.7540639546734113,\n",
              " 0.04868233064603978,\n",
              " 0.7170780459535,\n",
              " 0.7442423196098493,\n",
              " 0.717622446334985,\n",
              " 0.8444758488252777,\n",
              " 0.6799797935620715,\n",
              " 0.029778015744114126,\n",
              " 0.7402974278400563,\n",
              " 0.05430308111377205,\n",
              " 0.04259449727688276,\n",
              " 0.7541355732751358,\n",
              " 0.758969491745654,\n",
              " 0.7408326462528442,\n",
              " 0.42178275957603617,\n",
              " 0.7657767176920636,\n",
              " 0.6918279539301109,\n",
              " 0.04599136682778595,\n",
              " 0.7041532345950543,\n",
              " 0.016868936837545083,\n",
              " 0.8191013493615277,\n",
              " 0.7618014509593357,\n",
              " 0.054996863564338735,\n",
              " 0.04386278198167954,\n",
              " 0.04629666679448868,\n",
              " 0.7595065457270138,\n",
              " 0.04756729742332766,\n",
              " 0.04980973039989863,\n",
              " 0.49293987482149326,\n",
              " 0.6792536364479336,\n",
              " 0.058327544860917735,\n",
              " 0.7145159797091906,\n",
              " 0.7182269560019667,\n",
              " 0.7748583773457655,\n",
              " 0.6406090634777301,\n",
              " 0.045871604510220765,\n",
              " 0.7512469355337608,\n",
              " 0.6876331712163523,\n",
              " 0.5689542814805486,\n",
              " 0.6877022964589938,\n",
              " 0.3590305790813587,\n",
              " 0.7588055104542888,\n",
              " 0.7324203677753794,\n",
              " 0.7936204841136162,\n",
              " 0.724553482177106,\n",
              " 0.8367134516689668,\n",
              " 0.7613914672031262,\n",
              " 0.0424509489178537,\n",
              " ...]"
            ]
          },
          "metadata": {},
          "execution_count": 143
        }
      ],
      "source": [
        "pred_proba2 = []\n",
        "for tupla in pred_proba:\n",
        "  pred_proba2.append(tupla[1])\n",
        "pred_proba2"
      ]
    },
    {
      "cell_type": "code",
      "execution_count": 144,
      "metadata": {
        "id": "aM02z9BmnMvf",
        "colab": {
          "base_uri": "https://localhost:8080/",
          "height": 424
        },
        "outputId": "747f9c7f-de35-4895-e1c9-78e2e9906ef8"
      },
      "outputs": [
        {
          "output_type": "execute_result",
          "data": {
            "text/plain": [
              "          pk_cid  prediccion  prediccion_sin_redondeo\n",
              "5519929   657826           1                 0.684569\n",
              "5519932   657905           1                 0.742348\n",
              "5519934   657147           0                 0.059644\n",
              "5519936   658576           1                 0.728175\n",
              "5519938   655419           0                 0.052955\n",
              "...          ...         ...                      ...\n",
              "5962917  1166767           0                 0.023860\n",
              "5962918  1166766           0                 0.022497\n",
              "5962919  1166765           0                 0.018038\n",
              "5962920  1166764           0                 0.030585\n",
              "5962922  1166789           0                 0.020443\n",
              "\n",
              "[280829 rows x 3 columns]"
            ],
            "text/html": [
              "\n",
              "  <div id=\"df-3264361c-7fdd-4593-a4f6-48af739933bd\">\n",
              "    <div class=\"colab-df-container\">\n",
              "      <div>\n",
              "<style scoped>\n",
              "    .dataframe tbody tr th:only-of-type {\n",
              "        vertical-align: middle;\n",
              "    }\n",
              "\n",
              "    .dataframe tbody tr th {\n",
              "        vertical-align: top;\n",
              "    }\n",
              "\n",
              "    .dataframe thead th {\n",
              "        text-align: right;\n",
              "    }\n",
              "</style>\n",
              "<table border=\"1\" class=\"dataframe\">\n",
              "  <thead>\n",
              "    <tr style=\"text-align: right;\">\n",
              "      <th></th>\n",
              "      <th>pk_cid</th>\n",
              "      <th>prediccion</th>\n",
              "      <th>prediccion_sin_redondeo</th>\n",
              "    </tr>\n",
              "  </thead>\n",
              "  <tbody>\n",
              "    <tr>\n",
              "      <th>5519929</th>\n",
              "      <td>657826</td>\n",
              "      <td>1</td>\n",
              "      <td>0.684569</td>\n",
              "    </tr>\n",
              "    <tr>\n",
              "      <th>5519932</th>\n",
              "      <td>657905</td>\n",
              "      <td>1</td>\n",
              "      <td>0.742348</td>\n",
              "    </tr>\n",
              "    <tr>\n",
              "      <th>5519934</th>\n",
              "      <td>657147</td>\n",
              "      <td>0</td>\n",
              "      <td>0.059644</td>\n",
              "    </tr>\n",
              "    <tr>\n",
              "      <th>5519936</th>\n",
              "      <td>658576</td>\n",
              "      <td>1</td>\n",
              "      <td>0.728175</td>\n",
              "    </tr>\n",
              "    <tr>\n",
              "      <th>5519938</th>\n",
              "      <td>655419</td>\n",
              "      <td>0</td>\n",
              "      <td>0.052955</td>\n",
              "    </tr>\n",
              "    <tr>\n",
              "      <th>...</th>\n",
              "      <td>...</td>\n",
              "      <td>...</td>\n",
              "      <td>...</td>\n",
              "    </tr>\n",
              "    <tr>\n",
              "      <th>5962917</th>\n",
              "      <td>1166767</td>\n",
              "      <td>0</td>\n",
              "      <td>0.023860</td>\n",
              "    </tr>\n",
              "    <tr>\n",
              "      <th>5962918</th>\n",
              "      <td>1166766</td>\n",
              "      <td>0</td>\n",
              "      <td>0.022497</td>\n",
              "    </tr>\n",
              "    <tr>\n",
              "      <th>5962919</th>\n",
              "      <td>1166765</td>\n",
              "      <td>0</td>\n",
              "      <td>0.018038</td>\n",
              "    </tr>\n",
              "    <tr>\n",
              "      <th>5962920</th>\n",
              "      <td>1166764</td>\n",
              "      <td>0</td>\n",
              "      <td>0.030585</td>\n",
              "    </tr>\n",
              "    <tr>\n",
              "      <th>5962922</th>\n",
              "      <td>1166789</td>\n",
              "      <td>0</td>\n",
              "      <td>0.020443</td>\n",
              "    </tr>\n",
              "  </tbody>\n",
              "</table>\n",
              "<p>280829 rows × 3 columns</p>\n",
              "</div>\n",
              "      <button class=\"colab-df-convert\" onclick=\"convertToInteractive('df-3264361c-7fdd-4593-a4f6-48af739933bd')\"\n",
              "              title=\"Convert this dataframe to an interactive table.\"\n",
              "              style=\"display:none;\">\n",
              "        \n",
              "  <svg xmlns=\"http://www.w3.org/2000/svg\" height=\"24px\"viewBox=\"0 0 24 24\"\n",
              "       width=\"24px\">\n",
              "    <path d=\"M0 0h24v24H0V0z\" fill=\"none\"/>\n",
              "    <path d=\"M18.56 5.44l.94 2.06.94-2.06 2.06-.94-2.06-.94-.94-2.06-.94 2.06-2.06.94zm-11 1L8.5 8.5l.94-2.06 2.06-.94-2.06-.94L8.5 2.5l-.94 2.06-2.06.94zm10 10l.94 2.06.94-2.06 2.06-.94-2.06-.94-.94-2.06-.94 2.06-2.06.94z\"/><path d=\"M17.41 7.96l-1.37-1.37c-.4-.4-.92-.59-1.43-.59-.52 0-1.04.2-1.43.59L10.3 9.45l-7.72 7.72c-.78.78-.78 2.05 0 2.83L4 21.41c.39.39.9.59 1.41.59.51 0 1.02-.2 1.41-.59l7.78-7.78 2.81-2.81c.8-.78.8-2.07 0-2.86zM5.41 20L4 18.59l7.72-7.72 1.47 1.35L5.41 20z\"/>\n",
              "  </svg>\n",
              "      </button>\n",
              "      \n",
              "  <style>\n",
              "    .colab-df-container {\n",
              "      display:flex;\n",
              "      flex-wrap:wrap;\n",
              "      gap: 12px;\n",
              "    }\n",
              "\n",
              "    .colab-df-convert {\n",
              "      background-color: #E8F0FE;\n",
              "      border: none;\n",
              "      border-radius: 50%;\n",
              "      cursor: pointer;\n",
              "      display: none;\n",
              "      fill: #1967D2;\n",
              "      height: 32px;\n",
              "      padding: 0 0 0 0;\n",
              "      width: 32px;\n",
              "    }\n",
              "\n",
              "    .colab-df-convert:hover {\n",
              "      background-color: #E2EBFA;\n",
              "      box-shadow: 0px 1px 2px rgba(60, 64, 67, 0.3), 0px 1px 3px 1px rgba(60, 64, 67, 0.15);\n",
              "      fill: #174EA6;\n",
              "    }\n",
              "\n",
              "    [theme=dark] .colab-df-convert {\n",
              "      background-color: #3B4455;\n",
              "      fill: #D2E3FC;\n",
              "    }\n",
              "\n",
              "    [theme=dark] .colab-df-convert:hover {\n",
              "      background-color: #434B5C;\n",
              "      box-shadow: 0px 1px 3px 1px rgba(0, 0, 0, 0.15);\n",
              "      filter: drop-shadow(0px 1px 2px rgba(0, 0, 0, 0.3));\n",
              "      fill: #FFFFFF;\n",
              "    }\n",
              "  </style>\n",
              "\n",
              "      <script>\n",
              "        const buttonEl =\n",
              "          document.querySelector('#df-3264361c-7fdd-4593-a4f6-48af739933bd button.colab-df-convert');\n",
              "        buttonEl.style.display =\n",
              "          google.colab.kernel.accessAllowed ? 'block' : 'none';\n",
              "\n",
              "        async function convertToInteractive(key) {\n",
              "          const element = document.querySelector('#df-3264361c-7fdd-4593-a4f6-48af739933bd');\n",
              "          const dataTable =\n",
              "            await google.colab.kernel.invokeFunction('convertToInteractive',\n",
              "                                                     [key], {});\n",
              "          if (!dataTable) return;\n",
              "\n",
              "          const docLinkHtml = 'Like what you see? Visit the ' +\n",
              "            '<a target=\"_blank\" href=https://colab.research.google.com/notebooks/data_table.ipynb>data table notebook</a>'\n",
              "            + ' to learn more about interactive tables.';\n",
              "          element.innerHTML = '';\n",
              "          dataTable['output_type'] = 'display_data';\n",
              "          await google.colab.output.renderOutput(dataTable, element);\n",
              "          const docLink = document.createElement('div');\n",
              "          docLink.innerHTML = docLinkHtml;\n",
              "          element.appendChild(docLink);\n",
              "        }\n",
              "      </script>\n",
              "    </div>\n",
              "  </div>\n",
              "  "
            ]
          },
          "metadata": {},
          "execution_count": 144
        }
      ],
      "source": [
        "df_prediccion = pd.DataFrame()\n",
        "df_prediccion['pk_cid'] = cust_id\n",
        "df_prediccion['prediccion'] = pred\n",
        "df_prediccion['prediccion_sin_redondeo'] = pred_proba2\n",
        "df_prediccion"
      ]
    },
    {
      "cell_type": "code",
      "source": [
        "df_prediccion['prediccion_sin_redondeo'].max()"
      ],
      "metadata": {
        "colab": {
          "base_uri": "https://localhost:8080/"
        },
        "id": "0-LIl1LdsNsU",
        "outputId": "50f31535-1896-458a-abd5-86a0cb19ebeb"
      },
      "execution_count": 145,
      "outputs": [
        {
          "output_type": "execute_result",
          "data": {
            "text/plain": [
              "0.981948152971872"
            ]
          },
          "metadata": {},
          "execution_count": 145
        }
      ]
    },
    {
      "cell_type": "code",
      "execution_count": 154,
      "metadata": {
        "id": "eTy99fMLlUw0"
      },
      "outputs": [],
      "source": [
        "df_pred_max = df_prediccion[df_prediccion['prediccion_sin_redondeo'] > 0.95]\n",
        "df_last_part = df[df['pk_partition'] == '2019-05']"
      ]
    },
    {
      "cell_type": "code",
      "source": [
        "df_pred_max.shape"
      ],
      "metadata": {
        "colab": {
          "base_uri": "https://localhost:8080/"
        },
        "id": "RU_y7bVHEm5i",
        "outputId": "0f52044b-06eb-4bcd-abcc-f239d6ae051e"
      },
      "execution_count": 156,
      "outputs": [
        {
          "output_type": "execute_result",
          "data": {
            "text/plain": [
              "(41, 3)"
            ]
          },
          "metadata": {},
          "execution_count": 156
        }
      ]
    },
    {
      "cell_type": "code",
      "source": [
        "df_pred_pp = pd.merge(df_pred_max,df_last_part,how='inner',on=['pk_cid'])"
      ],
      "metadata": {
        "id": "ynU5T2P0tYNP"
      },
      "execution_count": 157,
      "outputs": []
    },
    {
      "cell_type": "code",
      "source": [
        "df_pred_pp.columns"
      ],
      "metadata": {
        "colab": {
          "base_uri": "https://localhost:8080/"
        },
        "id": "TeNAwVdEvIio",
        "outputId": "cf3aa7d9-f725-4838-c90e-1a963e24feef"
      },
      "execution_count": 158,
      "outputs": [
        {
          "output_type": "execute_result",
          "data": {
            "text/plain": [
              "Index(['pk_cid', 'prediccion', 'prediccion_sin_redondeo', 'pk_partition',\n",
              "       'short_term_deposit', 'loans', 'mortgage', 'funds', 'securities',\n",
              "       'long_term_deposit', 'credit_card', 'payroll', 'pension_plan',\n",
              "       'payroll_account', 'emc_account', 'debit_card', 'em_account_p',\n",
              "       'em_acount', 'entry_date', 'entry_channel', 'active_customer',\n",
              "       'segment', 'country_id', 'region_code', 'gender', 'age', 'deceased',\n",
              "       'salary'],\n",
              "      dtype='object')"
            ]
          },
          "metadata": {},
          "execution_count": 158
        }
      ]
    },
    {
      "cell_type": "code",
      "source": [
        "df_pred_pp.drop(['pk_partition',\n",
        "       'short_term_deposit', 'loans', 'mortgage', 'funds', 'securities',\n",
        "       'long_term_deposit', 'credit_card', 'payroll', 'pension_plan',\n",
        "       'payroll_account', 'emc_account', 'debit_card', 'em_account_p',\n",
        "       'em_acount'],axis=1,inplace=True)"
      ],
      "metadata": {
        "id": "fXM9Z8K-vEVn"
      },
      "execution_count": 159,
      "outputs": []
    },
    {
      "cell_type": "code",
      "source": [
        "df_pred_pp.shape"
      ],
      "metadata": {
        "colab": {
          "base_uri": "https://localhost:8080/"
        },
        "id": "ZrVe6Wk5FmuH",
        "outputId": "20b16921-aaae-4102-9401-4e964e1b4c8f"
      },
      "execution_count": 161,
      "outputs": [
        {
          "output_type": "execute_result",
          "data": {
            "text/plain": [
              "(41, 13)"
            ]
          },
          "metadata": {},
          "execution_count": 161
        }
      ]
    },
    {
      "cell_type": "code",
      "source": [
        "for col in df_pred_pp[['entry_channel', 'active_customer','segment', 'country_id', 'region_code', 'gender']]:\n",
        "  mode = df_pred_pp[col].mode()\n",
        "  print(mode)"
      ],
      "metadata": {
        "colab": {
          "base_uri": "https://localhost:8080/"
        },
        "id": "xnrwj-FhGjAr",
        "outputId": "10bf731f-81d5-44c6-9888-be039de48bdf"
      },
      "execution_count": 180,
      "outputs": [
        {
          "output_type": "stream",
          "name": "stdout",
          "text": [
            "0    KFC\n",
            "Name: entry_channel, dtype: object\n",
            "0    1.0\n",
            "Name: active_customer, dtype: object\n",
            "0    02 - PARTICULARES\n",
            "Name: segment, dtype: object\n",
            "0    ES\n",
            "Name: country_id, dtype: object\n",
            "0    28.0\n",
            "Name: region_code, dtype: object\n",
            "0    M\n",
            "Name: gender, dtype: object\n"
          ]
        }
      ]
    },
    {
      "cell_type": "code",
      "source": [
        "df_pred_pp.describe()"
      ],
      "metadata": {
        "colab": {
          "base_uri": "https://localhost:8080/",
          "height": 300
        },
        "id": "dOU_P244MXj_",
        "outputId": "24494a1f-9bd5-47dc-8078-1e3df8eaf8fc"
      },
      "execution_count": 181,
      "outputs": [
        {
          "output_type": "execute_result",
          "data": {
            "text/plain": [
              "       prediccion  prediccion_sin_redondeo        age        salary\n",
              "count        41.0                41.000000  41.000000     41.000000\n",
              "mean          1.0                 0.967193  38.682927  88775.119024\n",
              "std           0.0                 0.007689   9.117124     25.671618\n",
              "min           1.0                 0.952332  25.000000  88733.820000\n",
              "25%           1.0                 0.962301  31.000000  88753.020000\n",
              "50%           1.0                 0.967335  37.000000  88775.670000\n",
              "75%           1.0                 0.972059  44.000000  88800.030000\n",
              "max           1.0                 0.981948  68.000000  88814.820000"
            ],
            "text/html": [
              "\n",
              "  <div id=\"df-926d2679-0e5a-477c-8076-e07e3bfc6b2c\">\n",
              "    <div class=\"colab-df-container\">\n",
              "      <div>\n",
              "<style scoped>\n",
              "    .dataframe tbody tr th:only-of-type {\n",
              "        vertical-align: middle;\n",
              "    }\n",
              "\n",
              "    .dataframe tbody tr th {\n",
              "        vertical-align: top;\n",
              "    }\n",
              "\n",
              "    .dataframe thead th {\n",
              "        text-align: right;\n",
              "    }\n",
              "</style>\n",
              "<table border=\"1\" class=\"dataframe\">\n",
              "  <thead>\n",
              "    <tr style=\"text-align: right;\">\n",
              "      <th></th>\n",
              "      <th>prediccion</th>\n",
              "      <th>prediccion_sin_redondeo</th>\n",
              "      <th>age</th>\n",
              "      <th>salary</th>\n",
              "    </tr>\n",
              "  </thead>\n",
              "  <tbody>\n",
              "    <tr>\n",
              "      <th>count</th>\n",
              "      <td>41.0</td>\n",
              "      <td>41.000000</td>\n",
              "      <td>41.000000</td>\n",
              "      <td>41.000000</td>\n",
              "    </tr>\n",
              "    <tr>\n",
              "      <th>mean</th>\n",
              "      <td>1.0</td>\n",
              "      <td>0.967193</td>\n",
              "      <td>38.682927</td>\n",
              "      <td>88775.119024</td>\n",
              "    </tr>\n",
              "    <tr>\n",
              "      <th>std</th>\n",
              "      <td>0.0</td>\n",
              "      <td>0.007689</td>\n",
              "      <td>9.117124</td>\n",
              "      <td>25.671618</td>\n",
              "    </tr>\n",
              "    <tr>\n",
              "      <th>min</th>\n",
              "      <td>1.0</td>\n",
              "      <td>0.952332</td>\n",
              "      <td>25.000000</td>\n",
              "      <td>88733.820000</td>\n",
              "    </tr>\n",
              "    <tr>\n",
              "      <th>25%</th>\n",
              "      <td>1.0</td>\n",
              "      <td>0.962301</td>\n",
              "      <td>31.000000</td>\n",
              "      <td>88753.020000</td>\n",
              "    </tr>\n",
              "    <tr>\n",
              "      <th>50%</th>\n",
              "      <td>1.0</td>\n",
              "      <td>0.967335</td>\n",
              "      <td>37.000000</td>\n",
              "      <td>88775.670000</td>\n",
              "    </tr>\n",
              "    <tr>\n",
              "      <th>75%</th>\n",
              "      <td>1.0</td>\n",
              "      <td>0.972059</td>\n",
              "      <td>44.000000</td>\n",
              "      <td>88800.030000</td>\n",
              "    </tr>\n",
              "    <tr>\n",
              "      <th>max</th>\n",
              "      <td>1.0</td>\n",
              "      <td>0.981948</td>\n",
              "      <td>68.000000</td>\n",
              "      <td>88814.820000</td>\n",
              "    </tr>\n",
              "  </tbody>\n",
              "</table>\n",
              "</div>\n",
              "      <button class=\"colab-df-convert\" onclick=\"convertToInteractive('df-926d2679-0e5a-477c-8076-e07e3bfc6b2c')\"\n",
              "              title=\"Convert this dataframe to an interactive table.\"\n",
              "              style=\"display:none;\">\n",
              "        \n",
              "  <svg xmlns=\"http://www.w3.org/2000/svg\" height=\"24px\"viewBox=\"0 0 24 24\"\n",
              "       width=\"24px\">\n",
              "    <path d=\"M0 0h24v24H0V0z\" fill=\"none\"/>\n",
              "    <path d=\"M18.56 5.44l.94 2.06.94-2.06 2.06-.94-2.06-.94-.94-2.06-.94 2.06-2.06.94zm-11 1L8.5 8.5l.94-2.06 2.06-.94-2.06-.94L8.5 2.5l-.94 2.06-2.06.94zm10 10l.94 2.06.94-2.06 2.06-.94-2.06-.94-.94-2.06-.94 2.06-2.06.94z\"/><path d=\"M17.41 7.96l-1.37-1.37c-.4-.4-.92-.59-1.43-.59-.52 0-1.04.2-1.43.59L10.3 9.45l-7.72 7.72c-.78.78-.78 2.05 0 2.83L4 21.41c.39.39.9.59 1.41.59.51 0 1.02-.2 1.41-.59l7.78-7.78 2.81-2.81c.8-.78.8-2.07 0-2.86zM5.41 20L4 18.59l7.72-7.72 1.47 1.35L5.41 20z\"/>\n",
              "  </svg>\n",
              "      </button>\n",
              "      \n",
              "  <style>\n",
              "    .colab-df-container {\n",
              "      display:flex;\n",
              "      flex-wrap:wrap;\n",
              "      gap: 12px;\n",
              "    }\n",
              "\n",
              "    .colab-df-convert {\n",
              "      background-color: #E8F0FE;\n",
              "      border: none;\n",
              "      border-radius: 50%;\n",
              "      cursor: pointer;\n",
              "      display: none;\n",
              "      fill: #1967D2;\n",
              "      height: 32px;\n",
              "      padding: 0 0 0 0;\n",
              "      width: 32px;\n",
              "    }\n",
              "\n",
              "    .colab-df-convert:hover {\n",
              "      background-color: #E2EBFA;\n",
              "      box-shadow: 0px 1px 2px rgba(60, 64, 67, 0.3), 0px 1px 3px 1px rgba(60, 64, 67, 0.15);\n",
              "      fill: #174EA6;\n",
              "    }\n",
              "\n",
              "    [theme=dark] .colab-df-convert {\n",
              "      background-color: #3B4455;\n",
              "      fill: #D2E3FC;\n",
              "    }\n",
              "\n",
              "    [theme=dark] .colab-df-convert:hover {\n",
              "      background-color: #434B5C;\n",
              "      box-shadow: 0px 1px 3px 1px rgba(0, 0, 0, 0.15);\n",
              "      filter: drop-shadow(0px 1px 2px rgba(0, 0, 0, 0.3));\n",
              "      fill: #FFFFFF;\n",
              "    }\n",
              "  </style>\n",
              "\n",
              "      <script>\n",
              "        const buttonEl =\n",
              "          document.querySelector('#df-926d2679-0e5a-477c-8076-e07e3bfc6b2c button.colab-df-convert');\n",
              "        buttonEl.style.display =\n",
              "          google.colab.kernel.accessAllowed ? 'block' : 'none';\n",
              "\n",
              "        async function convertToInteractive(key) {\n",
              "          const element = document.querySelector('#df-926d2679-0e5a-477c-8076-e07e3bfc6b2c');\n",
              "          const dataTable =\n",
              "            await google.colab.kernel.invokeFunction('convertToInteractive',\n",
              "                                                     [key], {});\n",
              "          if (!dataTable) return;\n",
              "\n",
              "          const docLinkHtml = 'Like what you see? Visit the ' +\n",
              "            '<a target=\"_blank\" href=https://colab.research.google.com/notebooks/data_table.ipynb>data table notebook</a>'\n",
              "            + ' to learn more about interactive tables.';\n",
              "          element.innerHTML = '';\n",
              "          dataTable['output_type'] = 'display_data';\n",
              "          await google.colab.output.renderOutput(dataTable, element);\n",
              "          const docLink = document.createElement('div');\n",
              "          docLink.innerHTML = docLinkHtml;\n",
              "          element.appendChild(docLink);\n",
              "        }\n",
              "      </script>\n",
              "    </div>\n",
              "  </div>\n",
              "  "
            ]
          },
          "metadata": {},
          "execution_count": 181
        }
      ]
    },
    {
      "cell_type": "markdown",
      "source": [
        "Observamos que entre los clientes con mayor probabilidad de adquirir el producto (mayor al 95%), las características más frecuentes son las siguientes:\n",
        "\n",
        "- Entry channel: KFC\n",
        "- Active_customer: 1\n",
        "- Segment: Particulares\n",
        "- Pais: ES\n",
        "- Region_code: 28\n",
        "- Gender: M"
      ],
      "metadata": {
        "id": "4twaJ1pLLt7X"
      }
    },
    {
      "cell_type": "markdown",
      "source": [
        "En cuánto a las variables numéricas, los valores promedio son los siguientes:\n",
        "- Salary: 88,775\n",
        "- Edad: 38"
      ],
      "metadata": {
        "id": "YNlH42DUMe2W"
      }
    },
    {
      "cell_type": "code",
      "source": [
        "df_prediccion.to_excel('propension_compra_pension_plan.xlsx', index=False)"
      ],
      "metadata": {
        "id": "GaYxhSmiLOQr"
      },
      "execution_count": 184,
      "outputs": []
    }
  ],
  "metadata": {
    "colab": {
      "machine_shape": "hm",
      "provenance": []
    },
    "kernelspec": {
      "display_name": "Python 3",
      "name": "python3"
    },
    "language_info": {
      "name": "python"
    }
  },
  "nbformat": 4,
  "nbformat_minor": 0
}